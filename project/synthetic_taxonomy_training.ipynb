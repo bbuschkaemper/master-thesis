{
 "cells": [
  {
   "cell_type": "code",
   "execution_count": 1,
   "id": "87c61d62",
   "metadata": {},
   "outputs": [],
   "source": [
    "import pandas as pd\n",
    "from torchvision.datasets import Caltech256\n",
    "\n",
    "\n",
    "caltech256_labels = Caltech256(root=\"datasets/caltech256\", download=False).categories\n",
    "caltech256_targets = pd.read_csv(\"output/caltech256.csv\")"
   ]
  },
  {
   "cell_type": "code",
   "execution_count": 2,
   "id": "99f4e5c8",
   "metadata": {},
   "outputs": [],
   "source": [
    "from synthetic_taxonomy import SyntheticTaxonomy\n",
    "\n",
    "\n",
    "synthetic_taxonomy = SyntheticTaxonomy(\n",
    "    num_atomic_concepts=257,\n",
    "    num_domains=2,\n",
    "    domain_class_count_mean=180,\n",
    "    domain_class_count_variance=10,\n",
    "    concept_cluster_size_mean=3,\n",
    "    concept_cluster_size_variance=1,\n",
    ")\n",
    "\n",
    "domain_A = synthetic_taxonomy.domains[0].to_mapping()\n",
    "domain_B = synthetic_taxonomy.domains[1].to_mapping()"
   ]
  },
  {
   "cell_type": "code",
   "execution_count": 3,
   "id": "e96ba531",
   "metadata": {},
   "outputs": [
    {
     "name": "stderr",
     "output_type": "stream",
     "text": [
      "GPU available: True (cuda), used: True\n",
      "TPU available: False, using: 0 TPU cores\n",
      "HPU available: False, using: 0 HPUs\n",
      "LOCAL_RANK: 0 - CUDA_VISIBLE_DEVICES: [0]\n",
      "/home/sentinel/.conda/envs/master-thesis/lib/python3.13/site-packages/lightning/pytorch/trainer/connectors/data_connector.py:425: The 'test_dataloader' does not have many workers which may be a bottleneck. Consider increasing the value of the `num_workers` argument` to `num_workers=11` in the `DataLoader` to improve performance.\n"
     ]
    },
    {
     "name": "stdout",
     "output_type": "stream",
     "text": [
      "Testing DataLoader 0: 100%|██████████| 35/35 [00:08<00:00,  3.94it/s]\n",
      "────────────────────────────────────────────────────────────────────────────────────────────────────────────────────────\n",
      "       Test metric             DataLoader 0\n",
      "────────────────────────────────────────────────────────────────────────────────────────────────────────────────────────\n",
      "      eval_accuracy         0.8198729753494263\n",
      "        eval_loss            0.761577308177948\n",
      "        hp_metric           0.8198729753494263\n",
      "────────────────────────────────────────────────────────────────────────────────────────────────────────────────────────\n",
      "[{'eval_loss': 0.761577308177948, 'eval_accuracy': 0.8198729753494263, 'hp_metric': 0.8198729753494263}]\n"
     ]
    }
   ],
   "source": [
    "import torch\n",
    "from lightning.pytorch.callbacks import ModelCheckpoint\n",
    "from lightning.pytorch import Trainer\n",
    "from lightning.pytorch import loggers as pl_loggers\n",
    "from models import ResNetMappedClassModel\n",
    "from datasets import Caltech256MappedClassDataModule\n",
    "\n",
    "\n",
    "# Reduce the precision of matrix multiplication to speed up training\n",
    "torch.set_float32_matmul_precision(\"medium\")\n",
    "\n",
    "tb_logger = pl_loggers.TensorBoardLogger(save_dir=\"logs\", name=\"caltech256_synthetic_1\")\n",
    "dataset = Caltech256MappedClassDataModule(deviation=synthetic_taxonomy.domains[0])\n",
    "model_name = \"resnet50-caltech256-synthetic-1-min-val-loss\"\n",
    "trainer = Trainer(\n",
    "    max_epochs=20,\n",
    "    logger=tb_logger,\n",
    "    callbacks=[\n",
    "        # Save the model with the lowest validation loss\n",
    "        ModelCheckpoint(\n",
    "            dirpath=\"checkpoints\",\n",
    "            monitor=\"val_loss\",\n",
    "            mode=\"min\",\n",
    "            save_top_k=1,\n",
    "            filename=model_name,\n",
    "            enable_version_counter=False,\n",
    "        )\n",
    "    ],\n",
    ")\n",
    "\n",
    "TRAIN = False\n",
    "\n",
    "if TRAIN:\n",
    "    model = ResNetMappedClassModel(\n",
    "        architecture=\"resnet50\",\n",
    "        optim=\"sgd\",\n",
    "        optim_kwargs={\n",
    "            \"lr\": 0.01,\n",
    "            \"momentum\": 0.9,\n",
    "            \"weight_decay\": 5e-4,\n",
    "        },\n",
    "        mapping=domain_A,\n",
    "    )\n",
    "    trainer.fit(model, datamodule=dataset)\n",
    "\n",
    "    # Test with the best model from the checkpoint\n",
    "    results = trainer.test(datamodule=dataset, ckpt_path=\"best\")\n",
    "else:\n",
    "    model = ResNetMappedClassModel.load_from_checkpoint(\n",
    "        f\"checkpoints/{model_name}.ckpt\"\n",
    "    )\n",
    "    results = trainer.test(model, datamodule=dataset)\n",
    "\n",
    "print(results)"
   ]
  },
  {
   "cell_type": "code",
   "execution_count": 4,
   "id": "84e5dcc5",
   "metadata": {},
   "outputs": [
    {
     "name": "stderr",
     "output_type": "stream",
     "text": [
      "GPU available: True (cuda), used: True\n",
      "TPU available: False, using: 0 TPU cores\n",
      "HPU available: False, using: 0 HPUs\n",
      "LOCAL_RANK: 0 - CUDA_VISIBLE_DEVICES: [0]\n"
     ]
    },
    {
     "name": "stdout",
     "output_type": "stream",
     "text": [
      "Testing DataLoader 0: 100%|██████████| 33/33 [00:08<00:00,  3.77it/s]\n",
      "────────────────────────────────────────────────────────────────────────────────────────────────────────────────────────\n",
      "       Test metric             DataLoader 0\n",
      "────────────────────────────────────────────────────────────────────────────────────────────────────────────────────────\n",
      "      eval_accuracy         0.8012452125549316\n",
      "        eval_loss            0.839570164680481\n",
      "        hp_metric           0.8012452125549316\n",
      "────────────────────────────────────────────────────────────────────────────────────────────────────────────────────────\n",
      "[{'eval_loss': 0.839570164680481, 'eval_accuracy': 0.8012452125549316, 'hp_metric': 0.8012452125549316}]\n"
     ]
    }
   ],
   "source": [
    "tb_logger = pl_loggers.TensorBoardLogger(save_dir=\"logs\", name=\"caltech256_synthetic_2\")\n",
    "dataset = Caltech256MappedClassDataModule(deviation=synthetic_taxonomy.domains[1])\n",
    "model_name = \"resnet50-caltech256-synthetic-2-min-val-loss\"\n",
    "trainer = Trainer(\n",
    "    max_epochs=20,\n",
    "    logger=tb_logger,\n",
    "    callbacks=[\n",
    "        # Save the model with the lowest validation loss\n",
    "        ModelCheckpoint(\n",
    "            dirpath=\"checkpoints\",\n",
    "            monitor=\"val_loss\",\n",
    "            mode=\"min\",\n",
    "            save_top_k=1,\n",
    "            filename=model_name,\n",
    "            enable_version_counter=False,\n",
    "        )\n",
    "    ],\n",
    ")\n",
    "\n",
    "TRAIN = False\n",
    "\n",
    "if TRAIN:\n",
    "    model = ResNetMappedClassModel(\n",
    "        architecture=\"resnet50\",\n",
    "        optim=\"sgd\",\n",
    "        optim_kwargs={\n",
    "            \"lr\": 0.01,\n",
    "            \"momentum\": 0.9,\n",
    "            \"weight_decay\": 5e-4,\n",
    "        },\n",
    "        mapping=domain_B,\n",
    "    )\n",
    "    trainer.fit(model, datamodule=dataset)\n",
    "\n",
    "    # Test with the best model from the checkpoint\n",
    "    results = trainer.test(datamodule=dataset, ckpt_path=\"best\")\n",
    "else:\n",
    "    model = ResNetMappedClassModel.load_from_checkpoint(\n",
    "        f\"checkpoints/{model_name}.ckpt\"\n",
    "    )\n",
    "    results = trainer.test(model, datamodule=dataset)\n",
    "\n",
    "print(results)"
   ]
  }
 ],
 "metadata": {
  "kernelspec": {
   "display_name": "Python 3",
   "language": "python",
   "name": "python3"
  },
  "language_info": {
   "codemirror_mode": {
    "name": "ipython",
    "version": 3
   },
   "file_extension": ".py",
   "mimetype": "text/x-python",
   "name": "python",
   "nbconvert_exporter": "python",
   "pygments_lexer": "ipython3",
   "version": "3.13.2"
  }
 },
 "nbformat": 4,
 "nbformat_minor": 5
}
