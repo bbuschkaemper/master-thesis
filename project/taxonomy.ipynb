{
 "cells": [
  {
   "cell_type": "code",
   "execution_count": 3,
   "id": "59ae5ec1",
   "metadata": {},
   "outputs": [],
   "source": [
    "import pandas as pd\n",
    "import numpy as np\n",
    "import numpy.typing as npt\n",
    "from torchvision.datasets import Caltech101, Caltech256\n",
    "\n",
    "# Get label names\n",
    "caltech101_labels = Caltech101(root=\"datasets/caltech101\", download=False).categories\n",
    "caltech256_labels = Caltech256(root=\"datasets/caltech256\", download=False).categories\n",
    "\n",
    "# Get targets\n",
    "caltech101_targets = pd.read_csv(\"outputs/caltech101.csv\")\n",
    "caltech256_targets = pd.read_csv(\"outputs/caltech256.csv\")\n",
    "caltech101_model_caltech256 = pd.read_csv(\"outputs/caltech101_model_caltech256.csv\")\n",
    "caltech256_model_caltech101 = pd.read_csv(\"outputs/caltech256_model_caltech101.csv\")"
   ]
  },
  {
   "cell_type": "code",
   "execution_count": null,
   "id": "8e72aee7",
   "metadata": {},
   "outputs": [],
   "source": [
    "from taxonomy import Taxonomy\n",
    "\n",
    "taxonomy = Taxonomy(\n",
    "    a_to_b_predictions=caltech101_model_caltech256[\"predictions\"].to_numpy(),\n",
    "    a_targets=caltech101_targets[\"targets\"].to_numpy(),\n",
    "    b_to_a_predictions=caltech256_model_caltech101[\"predictions\"].to_numpy(),\n",
    "    b_targets=caltech256_targets[\"targets\"].to_numpy(),\n",
    ")\n",
    "\n",
    "# Visualize the original taxonomy graph\n",
    "net = taxonomy.visualize_graph(\n",
    "    domain_a_labels=caltech101_labels,\n",
    "    domain_b_labels=caltech256_labels,\n",
    "    title=\"Caltech101 <=> Caltech256 Universal Taxonomy Graph\",\n",
    ")\n",
    "net.save_graph(\"outputs/caltech101_caltech256_relationships.html\")\n",
    "\n",
    "# Visualize the universal taxonomy graph\n",
    "taxonomy.build_universal_taxonomy()\n",
    "net = taxonomy.visualize_graph(\n",
    "    domain_a_labels=caltech101_labels,\n",
    "    domain_b_labels=caltech256_labels,\n",
    "    title=\"Caltech101 <=> Caltech256 Universal Taxonomy Graph\",\n",
    ")\n",
    "net.save_graph(\"outputs/caltech101_caltech256_universal_taxonomy.html\")"
   ]
  }
 ],
 "metadata": {
  "kernelspec": {
   "display_name": "Python 3",
   "language": "python",
   "name": "python3"
  },
  "language_info": {
   "codemirror_mode": {
    "name": "ipython",
    "version": 3
   },
   "file_extension": ".py",
   "mimetype": "text/x-python",
   "name": "python",
   "nbconvert_exporter": "python",
   "pygments_lexer": "ipython3",
   "version": "3.13.2"
  }
 },
 "nbformat": 4,
 "nbformat_minor": 5
}
