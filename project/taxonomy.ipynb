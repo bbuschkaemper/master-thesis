{
 "cells": [
  {
   "cell_type": "code",
   "execution_count": 1,
   "id": "59ae5ec1",
   "metadata": {},
   "outputs": [],
   "source": [
    "import pandas as pd\n",
    "import numpy as np\n",
    "from torchvision.datasets import Caltech101, Caltech256\n",
    "\n",
    "# Get label names\n",
    "caltech101_labels = Caltech101(root=\"datasets/caltech101\", download=False).categories\n",
    "caltech256_labels = Caltech256(root=\"datasets/caltech256\", download=False).categories\n",
    "\n",
    "# Get targets\n",
    "caltech101_targets = pd.read_csv(\"outputs/caltech101.csv\")\n",
    "caltech256_targets = pd.read_csv(\"outputs/caltech256.csv\")\n",
    "caltech101_model_caltech256 = pd.read_csv(\"outputs/caltech101_model_caltech256.csv\")\n",
    "caltech256_model_caltech101 = pd.read_csv(\"outputs/caltech256_model_caltech101.csv\")"
   ]
  },
  {
   "cell_type": "code",
   "execution_count": 2,
   "id": "8e72aee7",
   "metadata": {},
   "outputs": [
    {
     "name": "stdout",
     "output_type": "stream",
     "text": [
      "[0 0 0 0 1 0 0 0 1 1 0 1 0 0 0 0 0 0 0 0 0 0 1 0 0 0 0 0 0 0 0 0 0 0 0 0 0\n",
      " 0 0 0 1 0 0 0 0 0 0 0 0 0 0 0 0 0 0 0 0 0 0 0 0 0 0 0 0 0 0 0 0 1 0 0 0 0\n",
      " 2 0 0 0 0 0 0 0 0 0 0 0 0 0 0 0 0 0 0 4 0 0 0 0 0 0 0]\n"
     ]
    },
    {
     "name": "stderr",
     "output_type": "stream",
     "text": [
      "/tmp/ipykernel_18505/1045412886.py:31: RuntimeWarning: invalid value encountered in scalar divide\n",
      "  probababilities[i] = correlations[i, values[i]] / np.sum(correlations[i, :])\n"
     ]
    }
   ],
   "source": [
    "def form_correlation_matrix(\n",
    "    targets: np.ndarray[int], predictions: np.ndarray[int]\n",
    ") -> np.ndarray[int]:\n",
    "    correlations = np.zeros((np.max(targets) + 1, np.max(predictions) + 1), dtype=int)\n",
    "\n",
    "    for i in range(len(predictions)):\n",
    "        correlations[targets[i], predictions[i]] += 1\n",
    "\n",
    "    return correlations\n",
    "\n",
    "\n",
    "correlations_caltech101_model_caltech256 = form_correlation_matrix(\n",
    "    caltech256_targets[\"targets\"].to_numpy(),\n",
    "    caltech101_model_caltech256[\"predictions\"].to_numpy(),\n",
    ")\n",
    "correlations_caltech256_model_caltech101 = form_correlation_matrix(\n",
    "    caltech101_targets[\"targets\"].to_numpy(),\n",
    "    caltech256_model_caltech101[\"predictions\"].to_numpy(),\n",
    ")\n",
    "\n",
    "print(correlations_caltech101_model_caltech256[1])\n",
    "\n",
    "\n",
    "def most_common_foreign_prediction(\n",
    "    correlations: np.ndarray[int],\n",
    ") -> tuple[np.ndarray[int], np.ndarray[float]]:\n",
    "    values = np.zeros(correlations.shape[0], dtype=int)\n",
    "    probababilities = np.zeros(correlations.shape[0], dtype=float)\n",
    "    for i in range(correlations.shape[0]):\n",
    "        values[i] = np.argmax(correlations[i, :])\n",
    "        probababilities[i] = correlations[i, values[i]] / np.sum(correlations[i, :])\n",
    "\n",
    "    return values, probababilities\n",
    "\n",
    "\n",
    "def most_common_foreign_prediction_labels(\n",
    "    correlations: np.ndarray[int],\n",
    "    target_labels: list[str],\n",
    "    prediction_labels: list[str],\n",
    ") -> list[tuple[str, str, float]]:\n",
    "    mcfp = most_common_foreign_prediction(correlations)\n",
    "    values = []\n",
    "    for i in range(len(mcfp[0])):\n",
    "        values.append(\n",
    "            (\n",
    "                target_labels[i],\n",
    "                prediction_labels[mcfp[0][i]],\n",
    "                mcfp[1][i],\n",
    "            )\n",
    "        )\n",
    "\n",
    "    return values\n",
    "\n",
    "\n",
    "mapping_caltech101_model_caltech256 = most_common_foreign_prediction_labels(\n",
    "    correlations_caltech101_model_caltech256,\n",
    "    caltech256_labels,\n",
    "    caltech101_labels,\n",
    ")\n",
    "mapping_caltech256_model_caltech101 = most_common_foreign_prediction_labels(\n",
    "    correlations_caltech256_model_caltech101,\n",
    "    caltech101_labels,\n",
    "    caltech256_labels,\n",
    ")"
   ]
  }
 ],
 "metadata": {
  "kernelspec": {
   "display_name": "Python 3",
   "language": "python",
   "name": "python3"
  },
  "language_info": {
   "codemirror_mode": {
    "name": "ipython",
    "version": 3
   },
   "file_extension": ".py",
   "mimetype": "text/x-python",
   "name": "python",
   "nbconvert_exporter": "python",
   "pygments_lexer": "ipython3",
   "version": "3.13.2"
  }
 },
 "nbformat": 4,
 "nbformat_minor": 5
}
