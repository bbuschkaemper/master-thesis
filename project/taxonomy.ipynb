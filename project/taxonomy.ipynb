{
 "cells": [
  {
   "cell_type": "code",
   "execution_count": 1,
   "id": "59ae5ec1",
   "metadata": {},
   "outputs": [],
   "source": [
    "import pandas as pd\n",
    "import numpy as np\n",
    "import numpy.typing as npt\n",
    "from torchvision.datasets import Caltech101, Caltech256\n",
    "\n",
    "# Get label names\n",
    "caltech101_labels = Caltech101(root=\"datasets/caltech101\", download=False).categories\n",
    "caltech256_labels = Caltech256(root=\"datasets/caltech256\", download=False).categories\n",
    "\n",
    "# Get targets\n",
    "caltech101_targets = pd.read_csv(\"output/caltech101.csv\")\n",
    "caltech256_targets = pd.read_csv(\"output/caltech256.csv\")\n",
    "caltech101_model_caltech256 = pd.read_csv(\"output/caltech101_model_caltech256.csv\")\n",
    "caltech256_model_caltech101 = pd.read_csv(\"output/caltech256_model_caltech101.csv\")"
   ]
  },
  {
   "cell_type": "code",
   "execution_count": 2,
   "id": "8e72aee7",
   "metadata": {},
   "outputs": [],
   "source": [
    "from taxonomy import Taxonomy\n",
    "\n",
    "# Create cross-domain predictions in the new format [(model_domain_id, dataset_domain_id, predictions)]\n",
    "# Domain 0 = Caltech101, Domain 1 = Caltech256\n",
    "cross_domain_predictions = [\n",
    "    (\n",
    "        0,\n",
    "        1,\n",
    "        caltech101_model_caltech256[\"predictions\"].to_numpy(),\n",
    "    ),  # Caltech101 model predicting Caltech256\n",
    "    (\n",
    "        1,\n",
    "        0,\n",
    "        caltech256_model_caltech101[\"predictions\"].to_numpy(),\n",
    "    ),  # Caltech256 model predicting Caltech101\n",
    "]\n",
    "\n",
    "# Create domain targets in the new format [(domain_id, targets)]\n",
    "domain_targets = [\n",
    "    (0, caltech101_targets[\"targets\"].to_numpy()),  # Domain 0 (Caltech101) targets\n",
    "    (1, caltech256_targets[\"targets\"].to_numpy()),  # Domain 1 (Caltech256) targets\n",
    "]\n",
    "\n",
    "# Initialize taxonomy with the new API\n",
    "taxonomy = Taxonomy(\n",
    "    cross_domain_predictions=cross_domain_predictions,\n",
    "    domain_targets=domain_targets,\n",
    ")\n",
    "\n",
    "# Create domain labels dictionary for visualization\n",
    "domain_labels = {\n",
    "    0: caltech101_labels,  # Domain 0 = Caltech101\n",
    "    1: caltech256_labels,  # Domain 1 = Caltech256\n",
    "}\n",
    "\n",
    "# Visualize the original taxonomy graph\n",
    "net = taxonomy.visualize_graph(\n",
    "    domain_labels=domain_labels,\n",
    "    title=\"Caltech101 <=> Caltech256 Universal Taxonomy Graph\",\n",
    ")\n",
    "net.save_graph(\"output/caltech101_caltech256_relationships.html\")\n",
    "\n",
    "# Visualize the universal taxonomy graph\n",
    "taxonomy.build_universal_taxonomy()\n",
    "net = taxonomy.visualize_graph(\n",
    "    domain_labels=domain_labels,\n",
    "    title=\"Caltech101 <=> Caltech256 Universal Taxonomy Graph\",\n",
    ")\n",
    "net.save_graph(\"output/caltech101_caltech256_universal_taxonomy.html\")"
   ]
  }
 ],
 "metadata": {
  "kernelspec": {
   "display_name": "Python 3",
   "language": "python",
   "name": "python3"
  },
  "language_info": {
   "codemirror_mode": {
    "name": "ipython",
    "version": 3
   },
   "file_extension": ".py",
   "mimetype": "text/x-python",
   "name": "python",
   "nbconvert_exporter": "python",
   "pygments_lexer": "ipython3",
   "version": "3.13.2"
  }
 },
 "nbformat": 4,
 "nbformat_minor": 5
}
