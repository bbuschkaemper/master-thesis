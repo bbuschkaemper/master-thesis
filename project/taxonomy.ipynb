{
 "cells": [
  {
   "cell_type": "code",
   "execution_count": 1,
   "id": "59ae5ec1",
   "metadata": {},
   "outputs": [],
   "source": [
    "import pandas as pd\n",
    "import numpy as np\n",
    "import numpy.typing as npt\n",
    "from torchvision.datasets import Caltech101, Caltech256\n",
    "\n",
    "# Get label names\n",
    "caltech101_labels = Caltech101(root=\"datasets/caltech101\", download=False).categories\n",
    "caltech256_labels = Caltech256(root=\"datasets/caltech256\", download=False).categories\n",
    "\n",
    "# Get targets\n",
    "caltech101_targets = pd.read_csv(\"output/caltech101.csv\")\n",
    "caltech256_targets = pd.read_csv(\"output/caltech256.csv\")\n",
    "caltech101_model_caltech256 = pd.read_csv(\"output/caltech101_model_caltech256.csv\")\n",
    "caltech256_model_caltech101 = pd.read_csv(\"output/caltech256_model_caltech101.csv\")"
   ]
  },
  {
   "cell_type": "code",
   "execution_count": 2,
   "id": "8e72aee7",
   "metadata": {},
   "outputs": [],
   "source": [
    "from taxonomy import Taxonomy\n",
    "\n",
    "cross_domain_predictions = [\n",
    "    (\n",
    "        0,\n",
    "        1,\n",
    "        caltech101_model_caltech256[\"predictions\"].to_numpy(),\n",
    "    ),  # Caltech101 model predicting Caltech256\n",
    "    (\n",
    "        1,\n",
    "        0,\n",
    "        caltech256_model_caltech101[\"predictions\"].to_numpy(),\n",
    "    ),  # Caltech256 model predicting Caltech101\n",
    "]\n",
    "domain_targets = [\n",
    "    (0, caltech101_targets[\"targets\"].to_numpy()),\n",
    "    (1, caltech256_targets[\"targets\"].to_numpy()),\n",
    "]\n",
    "domain_labels = {\n",
    "    0: caltech101_labels,\n",
    "    1: caltech256_labels,\n",
    "}\n",
    "taxonomy = Taxonomy(\n",
    "    cross_domain_predictions=cross_domain_predictions,\n",
    "    domain_targets=domain_targets,\n",
    "    domain_labels=domain_labels,\n",
    ")\n",
    "\n",
    "# Visualize the original taxonomy graph\n",
    "net = taxonomy.visualize_graph(\n",
    "    title=\"Caltech101 <=> Caltech256 Universal Taxonomy Graph\",\n",
    ")\n",
    "net.save_graph(\"output/caltech101_caltech256_relationships.html\")\n",
    "\n",
    "# Visualize the universal taxonomy graph\n",
    "taxonomy.build_universal_taxonomy()\n",
    "net = taxonomy.visualize_graph(\n",
    "    title=\"Caltech101 <=> Caltech256 Universal Taxonomy Graph\",\n",
    ")\n",
    "net.save_graph(\"output/caltech101_caltech256_universal_taxonomy.html\")"
   ]
  },
  {
   "cell_type": "code",
   "execution_count": 3,
   "id": "021c7af8",
   "metadata": {},
   "outputs": [],
   "source": [
    "from synthetic_taxonomy import SyntheticTaxonomy\n",
    "\n",
    "synthetic_taxonomy = SyntheticTaxonomy(\n",
    "    num_atomic_concepts=50,\n",
    "    num_domains=2,\n",
    "    domain_class_count_mean=10,\n",
    "    domain_class_count_variance=3,\n",
    "    concept_cluster_size_mean=2,\n",
    "    concept_cluster_size_variance=1,\n",
    ")\n",
    "synthetic_net = synthetic_taxonomy.visualize_graph(\n",
    "    title=\"Synthetic Taxonomy Graph\",\n",
    ")\n",
    "synthetic_net.save_graph(\"output/synthetic_taxonomy_graph.html\")\n",
    "synthetic_taxonomy.build_universal_taxonomy()\n",
    "synthetic_net = synthetic_taxonomy.visualize_graph(\n",
    "    title=\"Synthetic Universal Taxonomy Graph\",\n",
    ")\n",
    "synthetic_net.save_graph(\"output/synthetic_universal_taxonomy_graph.html\")"
   ]
  }
 ],
 "metadata": {
  "kernelspec": {
   "display_name": "Python 3",
   "language": "python",
   "name": "python3"
  },
  "language_info": {
   "codemirror_mode": {
    "name": "ipython",
    "version": 3
   },
   "file_extension": ".py",
   "mimetype": "text/x-python",
   "name": "python",
   "nbconvert_exporter": "python",
   "pygments_lexer": "ipython3",
   "version": "3.13.2"
  }
 },
 "nbformat": 4,
 "nbformat_minor": 5
}
