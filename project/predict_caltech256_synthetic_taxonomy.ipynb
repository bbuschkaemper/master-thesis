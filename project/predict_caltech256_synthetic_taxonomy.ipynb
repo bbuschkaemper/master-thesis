{
 "cells": [
  {
   "cell_type": "code",
   "execution_count": 6,
   "id": "180f6776",
   "metadata": {},
   "outputs": [],
   "source": [
    "import pandas as pd\n",
    "from torchvision.datasets import Caltech256\n",
    "\n",
    "\n",
    "caltech256_labels = Caltech256(root=\"datasets/caltech256\", download=False).categories\n",
    "caltech256_targets = pd.read_csv(\"output/caltech256.csv\")"
   ]
  },
  {
   "cell_type": "code",
   "execution_count": 7,
   "id": "788c5c25",
   "metadata": {},
   "outputs": [],
   "source": [
    "from synthetic_taxonomy import SyntheticTaxonomy\n",
    "\n",
    "\n",
    "synthetic_taxonomy = SyntheticTaxonomy(\n",
    "    num_atomic_concepts=257,\n",
    "    num_domains=2,\n",
    "    domain_class_count_mean=180,\n",
    "    domain_class_count_variance=10,\n",
    "    concept_cluster_size_mean=3,\n",
    "    concept_cluster_size_variance=1,\n",
    ")\n",
    "\n",
    "domain_A = synthetic_taxonomy.domains[0].to_mapping()\n",
    "domain_B = synthetic_taxonomy.domains[1].to_mapping()"
   ]
  },
  {
   "cell_type": "code",
   "execution_count": 8,
   "id": "0a034dda",
   "metadata": {},
   "outputs": [
    {
     "name": "stderr",
     "output_type": "stream",
     "text": [
      "GPU available: True (cuda), used: True\n",
      "TPU available: False, using: 0 TPU cores\n",
      "HPU available: False, using: 0 HPUs\n",
      "LOCAL_RANK: 0 - CUDA_VISIBLE_DEVICES: [0]\n",
      "/home/sentinel/.conda/envs/master-thesis/lib/python3.13/site-packages/lightning/pytorch/trainer/connectors/data_connector.py:425: The 'predict_dataloader' does not have many workers which may be a bottleneck. Consider increasing the value of the `num_workers` argument` to `num_workers=11` in the `DataLoader` to improve performance.\n"
     ]
    },
    {
     "name": "stdout",
     "output_type": "stream",
     "text": [
      "Predicting DataLoader 0: 100%|██████████| 33/33 [00:08<00:00,  3.95it/s]"
     ]
    },
    {
     "name": "stderr",
     "output_type": "stream",
     "text": [
      "LOCAL_RANK: 0 - CUDA_VISIBLE_DEVICES: [0]\n"
     ]
    },
    {
     "name": "stdout",
     "output_type": "stream",
     "text": [
      "\n",
      "Predicting DataLoader 0: 100%|██████████| 35/35 [00:08<00:00,  4.24it/s]\n"
     ]
    }
   ],
   "source": [
    "import torch\n",
    "from models import ResNetMappedClassModel\n",
    "from datasets import Caltech256MappedClassDataModule\n",
    "from lightning.pytorch import Trainer\n",
    "\n",
    "\n",
    "torch.set_float32_matmul_precision(\"medium\")\n",
    "\n",
    "\n",
    "dataset_domain_A = Caltech256MappedClassDataModule(mapping=domain_A)\n",
    "model_domain_A = ResNetMappedClassModel.load_from_checkpoint(\n",
    "    \"checkpoints/resnet50-caltech256-synthetic-1-min-val-loss.ckpt\"\n",
    ")\n",
    "model_domain_A.eval()\n",
    "\n",
    "dataset_domain_B = Caltech256MappedClassDataModule(mapping=domain_B)\n",
    "model_domain_B = ResNetMappedClassModel.load_from_checkpoint(\n",
    "    \"checkpoints/resnet50-caltech256-synthetic-2-min-val-loss.ckpt\"\n",
    ")\n",
    "model_domain_B.eval()\n",
    "\n",
    "trainer = Trainer(logger=False, enable_checkpointing=False)\n",
    "model_A_on_domain_B = trainer.predict(model_domain_A, datamodule=dataset_domain_B)\n",
    "model_B_on_domain_A = trainer.predict(model_domain_B, datamodule=dataset_domain_A)"
   ]
  },
  {
   "cell_type": "code",
   "execution_count": 9,
   "id": "0ed0ddee",
   "metadata": {},
   "outputs": [],
   "source": [
    "predictions_A_on_B = torch.cat(model_A_on_domain_B).argmax(dim=1)  # type: ignore\n",
    "predictions_B_on_A = torch.cat(model_B_on_domain_A).argmax(dim=1)  # type: ignore\n",
    "\n",
    "domain_A_targets = torch.cat(\n",
    "    [label for _, label in dataset_domain_A.predict_dataloader()]\n",
    ")\n",
    "domain_A_targets = domain_A_targets.map_(\n",
    "    torch.zeros_like(domain_A_targets), lambda x, _: domain_A[x]\n",
    ")\n",
    "domain_B_targets = torch.cat(\n",
    "    [label for _, label in dataset_domain_B.predict_dataloader()]\n",
    ")\n",
    "domain_B_targets = domain_B_targets.map_(\n",
    "    torch.zeros_like(domain_B_targets), lambda x, _: domain_B[x]\n",
    ")"
   ]
  },
  {
   "cell_type": "code",
   "execution_count": 11,
   "id": "7adc9d45",
   "metadata": {},
   "outputs": [],
   "source": [
    "df = pd.DataFrame(\n",
    "    {\n",
    "        \"domain_A\": domain_A_targets,\n",
    "        \"predictions_B_on_A\": predictions_B_on_A,\n",
    "    }\n",
    ")\n",
    "df.to_csv(\"output/caltech256_domain_A_predictions.csv\", index=False)\n",
    "df = pd.DataFrame(\n",
    "    {\n",
    "        \"domain_B\": domain_B_targets,\n",
    "        \"predictions_A_on_B\": predictions_A_on_B,\n",
    "    }\n",
    ")\n",
    "df.to_csv(\"output/caltech256_domain_B_predictions.csv\", index=False)"
   ]
  }
 ],
 "metadata": {
  "kernelspec": {
   "display_name": "Python 3",
   "language": "python",
   "name": "python3"
  },
  "language_info": {
   "codemirror_mode": {
    "name": "ipython",
    "version": 3
   },
   "file_extension": ".py",
   "mimetype": "text/x-python",
   "name": "python",
   "nbconvert_exporter": "python",
   "pygments_lexer": "ipython3",
   "version": "3.13.2"
  }
 },
 "nbformat": 4,
 "nbformat_minor": 5
}
