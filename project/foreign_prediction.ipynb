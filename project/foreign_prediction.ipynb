{
    "cells": [
        {
            "cell_type": "code",
            "execution_count": 3,
            "id": "7b490e14",
            "metadata": {},
            "outputs": [
                {
                    "name": "stderr",
                    "output_type": "stream",
                    "text": [
                        "GPU available: True (cuda), used: True\n",
                        "TPU available: False, using: 0 TPU cores\n",
                        "HPU available: False, using: 0 HPUs\n",
                        "LOCAL_RANK: 0 - CUDA_VISIBLE_DEVICES: [0]\n",
                        "/home/sentinel/.conda/envs/master-thesis/lib/python3.13/site-packages/lightning/pytorch/trainer/connectors/data_connector.py:425: The 'predict_dataloader' does not have many workers which may be a bottleneck. Consider increasing the value of the `num_workers` argument` to `num_workers=11` in the `DataLoader` to improve performance.\n"
                    ]
                },
                {
                    "name": "stdout",
                    "output_type": "stream",
                    "text": [
                        "Predicting DataLoader 0: 100%|██████████| 48/48 [00:11<00:00,  4.18it/s]"
                    ]
                },
                {
                    "name": "stderr",
                    "output_type": "stream",
                    "text": [
                        "LOCAL_RANK: 0 - CUDA_VISIBLE_DEVICES: [0]\n"
                    ]
                },
                {
                    "name": "stdout",
                    "output_type": "stream",
                    "text": [
                        "\n",
                        "Predicting DataLoader 0: 100%|██████████| 14/14 [00:02<00:00,  5.83it/s]\n"
                    ]
                }
            ],
            "source": [
                "from models import ResNetModel\n",
                "from datasets import Caltech101DataModule, Caltech256DataModule\n",
                "from lightning import Trainer\n",
                "import torch\n",
                "\n",
                "# Load datasets\n",
                "caltech101 = Caltech101DataModule()\n",
                "caltech256 = Caltech256DataModule()\n",
                "\n",
                "# Load models\n",
                "caltech101_model = ResNetModel.load_from_checkpoint(\n",
                "    \"checkpoints/resnet50-caltech101-min-val-loss.ckpt\"\n",
                ")\n",
                "caltech101_model.eval()\n",
                "caltech256_model = ResNetModel.load_from_checkpoint(\n",
                "    \"checkpoints/resnet50-caltech256-min-val-loss.ckpt\"\n",
                ")\n",
                "caltech256_model.eval()\n",
                "\n",
                "# Test foreign datasets\n",
                "trainer = Trainer(logger=False, enable_checkpointing=False)\n",
                "outputs_caltech101_model_caltech256 = trainer.predict(\n",
                "    caltech101_model, datamodule=caltech256\n",
                ")\n",
                "outputs_caltech256_model_caltech101 = trainer.predict(\n",
                "    caltech256_model, datamodule=caltech101\n",
                ")"
            ]
        },
        {
            "cell_type": "code",
            "execution_count": null,
            "id": "c742ff64",
            "metadata": {},
            "outputs": [],
            "source": [
                "import pandas as pd\n",
                "\n",
                "# Get predictions\n",
                "predictions_caltech101_model_caltech256 = torch.cat(\n",
                "    outputs_caltech101_model_caltech256\n",
                ").argmax(dim=1)\n",
                "predictions_caltech256_model_caltech101 = torch.cat(\n",
                "    outputs_caltech256_model_caltech101\n",
                ").argmax(dim=1)\n",
                "\n",
                "# Get targets and labels\n",
                "caltech101_targets = torch.cat([label for _, label in caltech101.predict_dataloader()])\n",
                "caltech256_targets = torch.cat([label for _, label in caltech256.predict_dataloader()])\n",
                "\n",
                "# Save dataframes\n",
                "df_caltech101 = pd.DataFrame(\n",
                "    {\n",
                "        \"targets\": caltech101_targets.numpy(),\n",
                "    }\n",
                ")\n",
                "df_caltech101.to_csv(\n",
                "    \"output/caltech101.csv\",\n",
                "    index=False,\n",
                ")\n",
                "df_caltech256 = pd.DataFrame(\n",
                "    {\n",
                "        \"targets\": caltech256_targets.numpy(),\n",
                "    }\n",
                ")\n",
                "df_caltech256.to_csv(\n",
                "    \"output/caltech256.csv\",\n",
                "    index=False,\n",
                ")\n",
                "df_caltech101_model_caltech256 = pd.DataFrame(\n",
                "    {\n",
                "        \"predictions\": predictions_caltech101_model_caltech256.numpy(),\n",
                "    }\n",
                ")\n",
                "df_caltech101_model_caltech256.to_csv(\n",
                "    \"output/caltech101_model_caltech256.csv\",\n",
                "    index=False,\n",
                ")\n",
                "df_caltech256_model_caltech101 = pd.DataFrame(\n",
                "    {\n",
                "        \"predictions\": predictions_caltech256_model_caltech101.numpy(),\n",
                "    }\n",
                ")\n",
                "df_caltech256_model_caltech101.to_csv(\n",
                "    \"output/caltech256_model_caltech101.csv\",\n",
                "    index=False,\n",
                ")"
            ]
        }
    ],
    "metadata": {
        "kernelspec": {
            "display_name": "master-thesis",
            "language": "python",
            "name": "python3"
        },
        "language_info": {
            "codemirror_mode": {
                "name": "ipython",
                "version": 3
            },
            "file_extension": ".py",
            "mimetype": "text/x-python",
            "name": "python",
            "nbconvert_exporter": "python",
            "pygments_lexer": "ipython3",
            "version": "3.13.2"
        }
    },
    "nbformat": 4,
    "nbformat_minor": 5
}
