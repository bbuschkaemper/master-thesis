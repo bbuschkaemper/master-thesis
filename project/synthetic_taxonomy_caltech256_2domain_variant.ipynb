{
 "cells": [
  {
   "cell_type": "code",
   "execution_count": 5,
   "id": "a64dce65",
   "metadata": {},
   "outputs": [],
   "source": [
    "import pandas as pd\n",
    "import numpy as np\n",
    "import torch\n",
    "from torchvision.datasets import Caltech256\n",
    "from lightning.pytorch.callbacks import ModelCheckpoint\n",
    "from lightning.pytorch import Trainer\n",
    "from lightning.pytorch import loggers as pl_loggers\n",
    "\n",
    "from library.taxonomy_constructors import SyntheticTaxonomy, CrossPredictionsTaxonomy\n",
    "from library.models import ResNetModel\n",
    "from library.datasets import Caltech256MappedDataModule\n",
    "\n",
    "# Load Caltech256 dataset information\n",
    "caltech256_labels = Caltech256(root=\"datasets/caltech256\", download=False).categories\n",
    "caltech256_targets = pd.read_csv(\"data/caltech256.csv\")\n",
    "\n",
    "# Reduce the precision of matrix multiplication to speed up training\n",
    "torch.set_float32_matmul_precision(\"medium\")"
   ]
  },
  {
   "cell_type": "code",
   "execution_count": 6,
   "id": "d4f8724e",
   "metadata": {},
   "outputs": [
    {
     "name": "stdout",
     "output_type": "stream",
     "text": [
      "Domain A classes: 91\n",
      "Domain B classes: 93\n"
     ]
    }
   ],
   "source": [
    "# Create synthetic taxonomy with 2 domains (variant parameters)\n",
    "synthetic_taxonomy = SyntheticTaxonomy.create_synthetic_taxonomy(\n",
    "    num_atomic_concepts=257,\n",
    "    num_domains=2,\n",
    "    domain_class_count_mean=200,\n",
    "    domain_class_count_variance=10,\n",
    "    concept_cluster_size_mean=2,\n",
    "    concept_cluster_size_variance=1,\n",
    "    no_prediction_class=True,\n",
    "    atomic_concept_labels=caltech256_labels,\n",
    "    relationship_type=\"true\",\n",
    ")\n",
    "\n",
    "# Extract domain mappings\n",
    "domain_A_mapping = synthetic_taxonomy.domains[0].to_mapping()\n",
    "domain_B_mapping = synthetic_taxonomy.domains[1].to_mapping()\n",
    "\n",
    "print(f\"Domain A classes: {len(set(domain_A_mapping.values()))}\")\n",
    "print(f\"Domain B classes: {len(set(domain_B_mapping.values()))}\")"
   ]
  },
  {
   "cell_type": "code",
   "execution_count": null,
   "id": "c898de82",
   "metadata": {},
   "outputs": [],
   "source": [
    "# Configuration\n",
    "TRAIN = False  # Set to True to train models from scratch\n",
    "\n",
    "\n",
    "def train_domain_model(domain_mapping, domain_name, logger_name, model_name):\n",
    "    \"\"\"Train a ResNet model for a specific domain\"\"\"\n",
    "    tb_logger = pl_loggers.TensorBoardLogger(save_dir=\"logs\", name=logger_name)\n",
    "    dataset = Caltech256MappedDataModule(mapping=domain_mapping)\n",
    "\n",
    "    trainer = Trainer(\n",
    "        max_epochs=50,\n",
    "        logger=tb_logger if TRAIN else False,\n",
    "        callbacks=[\n",
    "            ModelCheckpoint(\n",
    "                dirpath=\"checkpoints\",\n",
    "                monitor=\"val_loss\",\n",
    "                mode=\"min\",\n",
    "                save_top_k=1,\n",
    "                filename=model_name,\n",
    "                enable_version_counter=False,\n",
    "            )\n",
    "        ],\n",
    "    )\n",
    "\n",
    "    if TRAIN:\n",
    "        model = ResNetModel(\n",
    "            num_classes=len(set(domain_mapping.values())),\n",
    "            architecture=\"resnet50\",\n",
    "            optim=\"sgd\",\n",
    "            optim_kwargs={\n",
    "                \"lr\": 0.01,\n",
    "                \"momentum\": 0.9,\n",
    "                \"weight_decay\": 5e-4,\n",
    "            },\n",
    "        )\n",
    "        trainer.fit(model, datamodule=dataset)\n",
    "        results = trainer.test(datamodule=dataset, ckpt_path=\"best\")\n",
    "    else:\n",
    "        model = ResNetModel.load_from_checkpoint(f\"checkpoints/{model_name}.ckpt\")\n",
    "        results = trainer.test(model, datamodule=dataset)\n",
    "\n",
    "    print(f\"{domain_name} Results: {results}\")\n",
    "    return results"
   ]
  },
  {
   "cell_type": "code",
   "execution_count": 8,
   "id": "1b81ced8",
   "metadata": {},
   "outputs": [
    {
     "name": "stderr",
     "output_type": "stream",
     "text": [
      "GPU available: True (cuda), used: True\n",
      "TPU available: False, using: 0 TPU cores\n",
      "HPU available: False, using: 0 HPUs\n",
      "TPU available: False, using: 0 TPU cores\n",
      "HPU available: False, using: 0 HPUs\n"
     ]
    },
    {
     "name": "stdout",
     "output_type": "stream",
     "text": [
      "Training/Testing Domain A Model:\n"
     ]
    },
    {
     "name": "stderr",
     "output_type": "stream",
     "text": [
      "/home/sentinel/.conda/envs/master-thesis/lib/python3.13/site-packages/lightning/pytorch/callbacks/model_checkpoint.py:654: Checkpoint directory /home/sentinel/Development/master-thesis/project/checkpoints exists and is not empty.\n",
      "LOCAL_RANK: 0 - CUDA_VISIBLE_DEVICES: [0]\n",
      "\n",
      "  | Name      | Type             | Params | Mode \n",
      "-------------------------------------------------------\n",
      "0 | model     | ResNet           | 26.3 M | train\n",
      "1 | criterion | CrossEntropyLoss | 0      | train\n",
      "-------------------------------------------------------\n",
      "26.3 M    Trainable params\n",
      "0         Non-trainable params\n",
      "26.3 M    Total params\n",
      "105.228   Total estimated model params size (MB)\n",
      "162       Modules in train mode\n",
      "0         Modules in eval mode\n",
      "\n",
      "  | Name      | Type             | Params | Mode \n",
      "-------------------------------------------------------\n",
      "0 | model     | ResNet           | 26.3 M | train\n",
      "1 | criterion | CrossEntropyLoss | 0      | train\n",
      "-------------------------------------------------------\n",
      "26.3 M    Trainable params\n",
      "0         Non-trainable params\n",
      "26.3 M    Total params\n",
      "105.228   Total estimated model params size (MB)\n",
      "162       Modules in train mode\n",
      "0         Modules in eval mode\n"
     ]
    },
    {
     "name": "stdout",
     "output_type": "stream",
     "text": [
      "Sanity Checking: |          | 0/? [00:00<?, ?it/s]"
     ]
    },
    {
     "name": "stderr",
     "output_type": "stream",
     "text": [
      "/home/sentinel/.conda/envs/master-thesis/lib/python3.13/site-packages/lightning/pytorch/trainer/connectors/data_connector.py:425: The 'val_dataloader' does not have many workers which may be a bottleneck. Consider increasing the value of the `num_workers` argument` to `num_workers=11` in the `DataLoader` to improve performance.\n"
     ]
    },
    {
     "name": "stdout",
     "output_type": "stream",
     "text": [
      "                                                                           "
     ]
    },
    {
     "name": "stderr",
     "output_type": "stream",
     "text": [
      "/home/sentinel/.conda/envs/master-thesis/lib/python3.13/site-packages/lightning/pytorch/trainer/connectors/data_connector.py:425: The 'train_dataloader' does not have many workers which may be a bottleneck. Consider increasing the value of the `num_workers` argument` to `num_workers=11` in the `DataLoader` to improve performance.\n"
     ]
    },
    {
     "name": "stdout",
     "output_type": "stream",
     "text": [
      "Epoch 49: 100%|██████████| 289/289 [01:27<00:00,  3.30it/s, v_num=0]"
     ]
    },
    {
     "name": "stderr",
     "output_type": "stream",
     "text": [
      "`Trainer.fit` stopped: `max_epochs=50` reached.\n"
     ]
    },
    {
     "name": "stdout",
     "output_type": "stream",
     "text": [
      "Epoch 49: 100%|██████████| 289/289 [01:27<00:00,  3.30it/s, v_num=0]\n",
      "\n"
     ]
    },
    {
     "name": "stderr",
     "output_type": "stream",
     "text": [
      "Restoring states from the checkpoint path at /home/sentinel/Development/master-thesis/project/checkpoints/resnet50-caltech256-synthetic-variant-A-min-val-loss.ckpt\n",
      "LOCAL_RANK: 0 - CUDA_VISIBLE_DEVICES: [0]\n",
      "LOCAL_RANK: 0 - CUDA_VISIBLE_DEVICES: [0]\n",
      "Loaded model weights from the checkpoint at /home/sentinel/Development/master-thesis/project/checkpoints/resnet50-caltech256-synthetic-variant-A-min-val-loss.ckpt\n",
      "Loaded model weights from the checkpoint at /home/sentinel/Development/master-thesis/project/checkpoints/resnet50-caltech256-synthetic-variant-A-min-val-loss.ckpt\n",
      "/home/sentinel/.conda/envs/master-thesis/lib/python3.13/site-packages/lightning/pytorch/trainer/connectors/data_connector.py:425: The 'test_dataloader' does not have many workers which may be a bottleneck. Consider increasing the value of the `num_workers` argument` to `num_workers=11` in the `DataLoader` to improve performance.\n",
      "/home/sentinel/.conda/envs/master-thesis/lib/python3.13/site-packages/lightning/pytorch/trainer/connectors/data_connector.py:425: The 'test_dataloader' does not have many workers which may be a bottleneck. Consider increasing the value of the `num_workers` argument` to `num_workers=11` in the `DataLoader` to improve performance.\n"
     ]
    },
    {
     "name": "stdout",
     "output_type": "stream",
     "text": [
      "Testing DataLoader 0: 100%|██████████| 37/37 [00:09<00:00,  4.05it/s]\n",
      "────────────────────────────────────────────────────────────────────────────────────────────────────────────────────────\n",
      "       Test metric             DataLoader 0\n",
      "────────────────────────────────────────────────────────────────────────────────────────────────────────────────────────\n",
      "      eval_accuracy         0.7694973945617676\n",
      "        eval_loss            0.940283477306366\n",
      "        hp_metric           0.7694973945617676\n",
      "────────────────────────────────────────────────────────────────────────────────────────────────────────────────────────\n",
      "Domain A Results: [{'eval_loss': 0.940283477306366, 'eval_accuracy': 0.7694973945617676, 'hp_metric': 0.7694973945617676}]\n",
      "\n",
      "────────────────────────────────────────────────────────────────────────────────────────────────────────────────────────\n",
      "       Test metric             DataLoader 0\n",
      "────────────────────────────────────────────────────────────────────────────────────────────────────────────────────────\n",
      "      eval_accuracy         0.7694973945617676\n",
      "        eval_loss            0.940283477306366\n",
      "        hp_metric           0.7694973945617676\n",
      "────────────────────────────────────────────────────────────────────────────────────────────────────────────────────────\n",
      "Domain A Results: [{'eval_loss': 0.940283477306366, 'eval_accuracy': 0.7694973945617676, 'hp_metric': 0.7694973945617676}]\n"
     ]
    }
   ],
   "source": [
    "# Train Domain A model\n",
    "print(\"Training/Testing Domain A Model:\")\n",
    "domain_A_results = train_domain_model(\n",
    "    domain_A_mapping,\n",
    "    \"Domain A\",\n",
    "    \"caltech256_synthetic_variant_A\",\n",
    "    \"resnet50-caltech256-synthetic-variant-A-min-val-loss\",\n",
    ")"
   ]
  },
  {
   "cell_type": "code",
   "execution_count": 9,
   "id": "1350f42c",
   "metadata": {},
   "outputs": [
    {
     "name": "stderr",
     "output_type": "stream",
     "text": [
      "GPU available: True (cuda), used: True\n",
      "TPU available: False, using: 0 TPU cores\n",
      "HPU available: False, using: 0 HPUs\n",
      "TPU available: False, using: 0 TPU cores\n",
      "HPU available: False, using: 0 HPUs\n"
     ]
    },
    {
     "name": "stdout",
     "output_type": "stream",
     "text": [
      "Training/Testing Domain B Model:\n"
     ]
    },
    {
     "name": "stderr",
     "output_type": "stream",
     "text": [
      "LOCAL_RANK: 0 - CUDA_VISIBLE_DEVICES: [0]\n",
      "\n",
      "  | Name      | Type             | Params | Mode \n",
      "-------------------------------------------------------\n",
      "0 | model     | ResNet           | 26.3 M | train\n",
      "1 | criterion | CrossEntropyLoss | 0      | train\n",
      "-------------------------------------------------------\n",
      "26.3 M    Trainable params\n",
      "0         Non-trainable params\n",
      "26.3 M    Total params\n",
      "105.229   Total estimated model params size (MB)\n",
      "162       Modules in train mode\n",
      "0         Modules in eval mode\n",
      "\n",
      "  | Name      | Type             | Params | Mode \n",
      "-------------------------------------------------------\n",
      "0 | model     | ResNet           | 26.3 M | train\n",
      "1 | criterion | CrossEntropyLoss | 0      | train\n",
      "-------------------------------------------------------\n",
      "26.3 M    Trainable params\n",
      "0         Non-trainable params\n",
      "26.3 M    Total params\n",
      "105.229   Total estimated model params size (MB)\n",
      "162       Modules in train mode\n",
      "0         Modules in eval mode\n"
     ]
    },
    {
     "name": "stdout",
     "output_type": "stream",
     "text": [
      "Epoch 49: 100%|██████████| 294/294 [01:27<00:00,  3.36it/s, v_num=0]       "
     ]
    },
    {
     "name": "stderr",
     "output_type": "stream",
     "text": [
      "`Trainer.fit` stopped: `max_epochs=50` reached.\n"
     ]
    },
    {
     "name": "stdout",
     "output_type": "stream",
     "text": [
      "Epoch 49: 100%|██████████| 294/294 [01:27<00:00,  3.36it/s, v_num=0]\n",
      "\n"
     ]
    },
    {
     "name": "stderr",
     "output_type": "stream",
     "text": [
      "Restoring states from the checkpoint path at /home/sentinel/Development/master-thesis/project/checkpoints/resnet50-caltech256-synthetic-variant-B-min-val-loss.ckpt\n",
      "LOCAL_RANK: 0 - CUDA_VISIBLE_DEVICES: [0]\n",
      "LOCAL_RANK: 0 - CUDA_VISIBLE_DEVICES: [0]\n",
      "Loaded model weights from the checkpoint at /home/sentinel/Development/master-thesis/project/checkpoints/resnet50-caltech256-synthetic-variant-B-min-val-loss.ckpt\n",
      "Loaded model weights from the checkpoint at /home/sentinel/Development/master-thesis/project/checkpoints/resnet50-caltech256-synthetic-variant-B-min-val-loss.ckpt\n"
     ]
    },
    {
     "name": "stdout",
     "output_type": "stream",
     "text": [
      "Testing DataLoader 0: 100%|██████████| 37/37 [00:08<00:00,  4.29it/s]\n",
      "────────────────────────────────────────────────────────────────────────────────────────────────────────────────────────\n",
      "       Test metric             DataLoader 0\n",
      "────────────────────────────────────────────────────────────────────────────────────────────────────────────────────────\n",
      "      eval_accuracy         0.8046075105667114\n",
      "        eval_loss            0.910868763923645\n",
      "        hp_metric           0.8046075105667114\n",
      "────────────────────────────────────────────────────────────────────────────────────────────────────────────────────────\n",
      "Domain B Results: [{'eval_loss': 0.910868763923645, 'eval_accuracy': 0.8046075105667114, 'hp_metric': 0.8046075105667114}]\n",
      "\n",
      "────────────────────────────────────────────────────────────────────────────────────────────────────────────────────────\n",
      "       Test metric             DataLoader 0\n",
      "────────────────────────────────────────────────────────────────────────────────────────────────────────────────────────\n",
      "      eval_accuracy         0.8046075105667114\n",
      "        eval_loss            0.910868763923645\n",
      "        hp_metric           0.8046075105667114\n",
      "────────────────────────────────────────────────────────────────────────────────────────────────────────────────────────\n",
      "Domain B Results: [{'eval_loss': 0.910868763923645, 'eval_accuracy': 0.8046075105667114, 'hp_metric': 0.8046075105667114}]\n"
     ]
    }
   ],
   "source": [
    "# Train Domain B model\n",
    "print(\"Training/Testing Domain B Model:\")\n",
    "domain_B_results = train_domain_model(\n",
    "    domain_B_mapping,\n",
    "    \"Domain B\",\n",
    "    \"caltech256_synthetic_variant_B\",\n",
    "    \"resnet50-caltech256-synthetic-variant-B-min-val-loss\",\n",
    ")"
   ]
  },
  {
   "cell_type": "code",
   "execution_count": null,
   "id": "c83fd1bd",
   "metadata": {},
   "outputs": [
    {
     "name": "stderr",
     "output_type": "stream",
     "text": [
      "GPU available: True (cuda), used: True\n",
      "TPU available: False, using: 0 TPU cores\n",
      "HPU available: False, using: 0 HPUs\n",
      "TPU available: False, using: 0 TPU cores\n",
      "HPU available: False, using: 0 HPUs\n",
      "LOCAL_RANK: 0 - CUDA_VISIBLE_DEVICES: [0]\n",
      "/home/sentinel/.conda/envs/master-thesis/lib/python3.13/site-packages/lightning/pytorch/trainer/connectors/data_connector.py:425: The 'predict_dataloader' does not have many workers which may be a bottleneck. Consider increasing the value of the `num_workers` argument` to `num_workers=11` in the `DataLoader` to improve performance.\n",
      "LOCAL_RANK: 0 - CUDA_VISIBLE_DEVICES: [0]\n",
      "/home/sentinel/.conda/envs/master-thesis/lib/python3.13/site-packages/lightning/pytorch/trainer/connectors/data_connector.py:425: The 'predict_dataloader' does not have many workers which may be a bottleneck. Consider increasing the value of the `num_workers` argument` to `num_workers=11` in the `DataLoader` to improve performance.\n"
     ]
    },
    {
     "name": "stdout",
     "output_type": "stream",
     "text": [
      "Generating cross-domain predictions...\n",
      "Predicting DataLoader 0: 100%|██████████| 37/37 [00:08<00:00,  4.47it/s]"
     ]
    },
    {
     "name": "stderr",
     "output_type": "stream",
     "text": [
      "LOCAL_RANK: 0 - CUDA_VISIBLE_DEVICES: [0]\n"
     ]
    },
    {
     "name": "stdout",
     "output_type": "stream",
     "text": [
      "\n",
      "Predicting DataLoader 0: 100%|██████████| 37/37 [00:08<00:00,  4.47it/s]\n",
      "\n",
      "Predictions saved to CSV files.\n",
      "Domain A predictions shape: (2308, 2)\n",
      "Domain B predictions shape: (2344, 2)\n",
      "Predictions saved to CSV files.\n",
      "Domain A predictions shape: (2308, 2)\n",
      "Domain B predictions shape: (2344, 2)\n"
     ]
    }
   ],
   "source": [
    "# Configuration for prediction generation\n",
    "PREDICT = False  # Set to True to generate predictions from scratch\n",
    "\n",
    "if PREDICT:\n",
    "    # Load datasets\n",
    "    dataset_domain_A = Caltech256MappedDataModule(mapping=domain_A_mapping)\n",
    "    dataset_domain_B = Caltech256MappedDataModule(mapping=domain_B_mapping)\n",
    "\n",
    "    # Load trained models\n",
    "    model_domain_A = ResNetModel.load_from_checkpoint(\n",
    "        \"checkpoints/resnet50-caltech256-synthetic-variant-A-min-val-loss.ckpt\"\n",
    "    )\n",
    "    model_domain_A.eval()\n",
    "\n",
    "    model_domain_B = ResNetModel.load_from_checkpoint(\n",
    "        \"checkpoints/resnet50-caltech256-synthetic-variant-B-min-val-loss.ckpt\"\n",
    "    )\n",
    "    model_domain_B.eval()\n",
    "\n",
    "    trainer = Trainer(logger=False, enable_checkpointing=False)\n",
    "\n",
    "    # Generate cross-domain predictions\n",
    "    print(\"Generating cross-domain predictions...\")\n",
    "    model_A_on_domain_B = trainer.predict(model_domain_A, datamodule=dataset_domain_B)\n",
    "    model_B_on_domain_A = trainer.predict(model_domain_B, datamodule=dataset_domain_A)\n",
    "\n",
    "    # Convert predictions to class indices\n",
    "    predictions_A_on_B = torch.cat(model_A_on_domain_B).argmax(dim=1)  # type: ignore\n",
    "    predictions_B_on_A = torch.cat(model_B_on_domain_A).argmax(dim=1)  # type: ignore\n",
    "\n",
    "    # Get ground truth targets\n",
    "    domain_A_targets = torch.cat(\n",
    "        [label for _, label in dataset_domain_A.predict_dataloader()]\n",
    "    )\n",
    "    domain_B_targets = torch.cat(\n",
    "        [label for _, label in dataset_domain_B.predict_dataloader()]\n",
    "    )\n",
    "\n",
    "    # Save predictions\n",
    "    pd.DataFrame(\n",
    "        {\n",
    "            \"domain_A\": domain_A_targets,\n",
    "            \"predictions_B_on_A\": predictions_B_on_A,\n",
    "        }\n",
    "    ).to_csv(\"data/caltech256_2domain_variant_A_predictions.csv\", index=False)\n",
    "\n",
    "    pd.DataFrame(\n",
    "        {\n",
    "            \"domain_B\": domain_B_targets,\n",
    "            \"predictions_A_on_B\": predictions_A_on_B,\n",
    "        }\n",
    "    ).to_csv(\"data/caltech256_2domain_variant_B_predictions.csv\", index=False)\n",
    "\n",
    "    print(\"Predictions saved to CSV files.\")\n",
    "\n",
    "# Load prediction results\n",
    "df_A = pd.read_csv(\"data/caltech256_2domain_variant_A_predictions.csv\")\n",
    "df_B = pd.read_csv(\"data/caltech256_2domain_variant_B_predictions.csv\")\n",
    "\n",
    "print(f\"Domain A predictions shape: {df_A.shape}\")\n",
    "print(f\"Domain B predictions shape: {df_B.shape}\")"
   ]
  },
  {
   "cell_type": "code",
   "execution_count": 11,
   "id": "be7d173b",
   "metadata": {},
   "outputs": [
    {
     "name": "stdout",
     "output_type": "stream",
     "text": [
      "Taxonomy constructed from cross-domain predictions.\n"
     ]
    }
   ],
   "source": [
    "# Construct taxonomy from cross-domain predictions\n",
    "taxonomy = CrossPredictionsTaxonomy.from_cross_domain_predictions(\n",
    "    cross_domain_predictions=[\n",
    "        (0, 1, np.array(df_B[\"predictions_A_on_B\"], dtype=np.intp)),\n",
    "        (1, 0, np.array(df_A[\"predictions_B_on_A\"], dtype=np.intp)),\n",
    "    ],\n",
    "    domain_targets=[\n",
    "        (0, np.array(df_A[\"domain_A\"], dtype=np.intp)),\n",
    "        (1, np.array(df_B[\"domain_B\"], dtype=np.intp)),\n",
    "    ],\n",
    "    domain_labels=synthetic_taxonomy.domain_labels,\n",
    "    relationship_type=\"hypothesis\",\n",
    ")\n",
    "\n",
    "print(\"Taxonomy constructed from cross-domain predictions.\")"
   ]
  },
  {
   "cell_type": "code",
   "execution_count": 12,
   "id": "c4f0c027",
   "metadata": {},
   "outputs": [
    {
     "name": "stdout",
     "output_type": "stream",
     "text": [
      "Generating taxonomy visualizations...\n",
      "Taxonomy visualizations saved to output/ directory.\n"
     ]
    }
   ],
   "source": [
    "# Generate and save taxonomy visualizations\n",
    "print(\"Generating taxonomy visualizations...\")\n",
    "\n",
    "taxonomy.visualize_graph(\"2-Domain Caltech256 Variant Model Taxonomy\").save_graph(\n",
    "    \"output/caltech256_2domain_variant_synthetic_model_taxonomy.html\"\n",
    ")\n",
    "\n",
    "synthetic_taxonomy.visualize_graph(\n",
    "    \"2-Domain Caltech256 Variant Ground Truth Taxonomy\",\n",
    "    height=2000,\n",
    "    width=2000,\n",
    ").save_graph(\"output/caltech256_2domain_variant_synthetic_taxonomy.html\")\n",
    "\n",
    "print(\"Taxonomy visualizations saved to output/ directory.\")"
   ]
  },
  {
   "cell_type": "code",
   "execution_count": 13,
   "id": "e39aa105",
   "metadata": {},
   "outputs": [
    {
     "name": "stdout",
     "output_type": "stream",
     "text": [
      "2-Domain Synthetic Taxonomy Variant Evaluation:\n",
      "Edge Difference Ratio: 0.4315\n",
      "Precision: 0.6698\n",
      "Recall: 0.8758\n",
      "F1 Score: 0.7591\n"
     ]
    }
   ],
   "source": [
    "# Evaluate taxonomy against ground truth\n",
    "edr = taxonomy.edge_difference_ratio(synthetic_taxonomy)\n",
    "precision, recall, f1 = taxonomy.precision_recall_f1(synthetic_taxonomy)\n",
    "\n",
    "print(\"2-Domain Synthetic Taxonomy Variant Evaluation:\")\n",
    "print(f\"Edge Difference Ratio: {edr:.4f}\")\n",
    "print(f\"Precision: {precision:.4f}\")\n",
    "print(f\"Recall: {recall:.4f}\")\n",
    "print(f\"F1 Score: {f1:.4f}\")"
   ]
  },
  {
   "cell_type": "code",
   "execution_count": 14,
   "id": "a92e9add",
   "metadata": {},
   "outputs": [
    {
     "name": "stdout",
     "output_type": "stream",
     "text": [
      "Building universal taxonomies...\n",
      "Universal taxonomy visualizations saved to output/ directory.\n",
      "Universal taxonomy visualizations saved to output/ directory.\n"
     ]
    }
   ],
   "source": [
    "# Build universal taxonomies\n",
    "print(\"Building universal taxonomies...\")\n",
    "\n",
    "taxonomy.build_universal_taxonomy()\n",
    "taxonomy.visualize_graph(\n",
    "    \"2-Domain Caltech256 Variant Model Universal Taxonomy\"\n",
    ").save_graph(\n",
    "    \"output/caltech256_2domain_variant_synthetic_model_universal_taxonomy.html\"\n",
    ")\n",
    "\n",
    "synthetic_taxonomy.build_universal_taxonomy()\n",
    "synthetic_taxonomy.visualize_graph(\n",
    "    \"2-Domain Caltech256 Variant Ground Truth Universal Taxonomy\"\n",
    ").save_graph(\"output/caltech256_2domain_variant_synthetic_universal_taxonomy.html\")\n",
    "\n",
    "print(\"Universal taxonomy visualizations saved to output/ directory.\")"
   ]
  }
 ],
 "metadata": {
  "kernelspec": {
   "display_name": "master-thesis",
   "language": "python",
   "name": "python3"
  },
  "language_info": {
   "codemirror_mode": {
    "name": "ipython",
    "version": 3
   },
   "file_extension": ".py",
   "mimetype": "text/x-python",
   "name": "python",
   "nbconvert_exporter": "python",
   "pygments_lexer": "ipython3",
   "version": "3.13.2"
  }
 },
 "nbformat": 4,
 "nbformat_minor": 5
}
