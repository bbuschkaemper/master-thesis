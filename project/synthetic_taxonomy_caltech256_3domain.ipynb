{
 "cells": [
  {
   "cell_type": "code",
   "execution_count": 10,
   "id": "67e7d8a6",
   "metadata": {},
   "outputs": [],
   "source": [
    "import pandas as pd\n",
    "import numpy as np\n",
    "import torch\n",
    "from torchvision.datasets import Caltech256\n",
    "from lightning.pytorch.callbacks import ModelCheckpoint\n",
    "from lightning.pytorch import Trainer\n",
    "from lightning.pytorch import loggers as pl_loggers\n",
    "\n",
    "from library.taxonomy_constructors import SyntheticTaxonomy, CrossPredictionsTaxonomy\n",
    "from library.models import ResNetModel\n",
    "from library.datasets import Caltech256MappedDataModule\n",
    "\n",
    "# Load Caltech256 dataset information\n",
    "caltech256_labels = Caltech256(root=\"datasets/caltech256\", download=False).categories\n",
    "caltech256_targets = pd.read_csv(\"data/caltech256.csv\")\n",
    "\n",
    "# Reduce the precision of matrix multiplication to speed up training\n",
    "torch.set_float32_matmul_precision(\"medium\")"
   ]
  },
  {
   "cell_type": "code",
   "execution_count": 11,
   "id": "294767ba",
   "metadata": {},
   "outputs": [
    {
     "name": "stdout",
     "output_type": "stream",
     "text": [
      "Domain A classes: 38\n",
      "Domain B classes: 39\n",
      "Domain C classes: 34\n"
     ]
    }
   ],
   "source": [
    "# Create synthetic taxonomy with 3 domains\n",
    "synthetic_taxonomy = SyntheticTaxonomy.create_synthetic_taxonomy(\n",
    "    num_atomic_concepts=257,\n",
    "    num_domains=3,\n",
    "    domain_class_count_mean=180,\n",
    "    domain_class_count_variance=10,\n",
    "    concept_cluster_size_mean=5,\n",
    "    concept_cluster_size_variance=1,\n",
    "    no_prediction_class=True,\n",
    "    atomic_concept_labels=caltech256_labels,\n",
    "    relationship_type=\"true\",\n",
    ")\n",
    "\n",
    "# Extract domain mappings\n",
    "domain_A_mapping = synthetic_taxonomy.domains[0].to_mapping()\n",
    "domain_B_mapping = synthetic_taxonomy.domains[1].to_mapping()\n",
    "domain_C_mapping = synthetic_taxonomy.domains[2].to_mapping()\n",
    "\n",
    "print(f\"Domain A classes: {len(set(domain_A_mapping.values()))}\")\n",
    "print(f\"Domain B classes: {len(set(domain_B_mapping.values()))}\")\n",
    "print(f\"Domain C classes: {len(set(domain_C_mapping.values()))}\")"
   ]
  },
  {
   "cell_type": "code",
   "execution_count": null,
   "id": "ce058e83",
   "metadata": {},
   "outputs": [],
   "source": [
    "# Configuration\n",
    "TRAIN = False  # Set to True to train models from scratch\n",
    "\n",
    "\n",
    "def train_domain_model(domain_mapping, domain_name, logger_name, model_name):\n",
    "    \"\"\"Train a ResNet model for a specific domain\"\"\"\n",
    "    tb_logger = pl_loggers.TensorBoardLogger(save_dir=\"logs\", name=logger_name)\n",
    "    dataset = Caltech256MappedDataModule(mapping=domain_mapping)\n",
    "\n",
    "    trainer = Trainer(\n",
    "        max_epochs=50,\n",
    "        logger=tb_logger if TRAIN else False,\n",
    "        callbacks=[\n",
    "            ModelCheckpoint(\n",
    "                dirpath=\"checkpoints\",\n",
    "                monitor=\"val_loss\",\n",
    "                mode=\"min\",\n",
    "                save_top_k=1,\n",
    "                filename=model_name,\n",
    "                enable_version_counter=False,\n",
    "            )\n",
    "        ],\n",
    "    )\n",
    "\n",
    "    if TRAIN:\n",
    "        model = ResNetModel(\n",
    "            num_classes=len(set(domain_mapping.values())),\n",
    "            architecture=\"resnet50\",\n",
    "            optim=\"sgd\",\n",
    "            optim_kwargs={\n",
    "                \"lr\": 0.01,\n",
    "                \"momentum\": 0.9,\n",
    "                \"weight_decay\": 5e-4,\n",
    "            },\n",
    "        )\n",
    "        trainer.fit(model, datamodule=dataset)\n",
    "        results = trainer.test(datamodule=dataset, ckpt_path=\"best\")\n",
    "    else:\n",
    "        model = ResNetModel.load_from_checkpoint(f\"checkpoints/{model_name}.ckpt\")\n",
    "        results = trainer.test(model, datamodule=dataset)\n",
    "\n",
    "    print(f\"{domain_name} Results: {results}\")\n",
    "    return results"
   ]
  },
  {
   "cell_type": "code",
   "execution_count": 13,
   "id": "93956f91",
   "metadata": {},
   "outputs": [
    {
     "name": "stderr",
     "output_type": "stream",
     "text": [
      "GPU available: True (cuda), used: True\n",
      "TPU available: False, using: 0 TPU cores\n",
      "HPU available: False, using: 0 HPUs\n"
     ]
    },
    {
     "name": "stdout",
     "output_type": "stream",
     "text": [
      "Training/Testing Domain A Model:\n"
     ]
    },
    {
     "name": "stderr",
     "output_type": "stream",
     "text": [
      "LOCAL_RANK: 0 - CUDA_VISIBLE_DEVICES: [0]\n",
      "/home/sentinel/.conda/envs/master-thesis/lib/python3.13/site-packages/lightning/pytorch/trainer/connectors/data_connector.py:425: The 'test_dataloader' does not have many workers which may be a bottleneck. Consider increasing the value of the `num_workers` argument` to `num_workers=11` in the `DataLoader` to improve performance.\n"
     ]
    },
    {
     "name": "stdout",
     "output_type": "stream",
     "text": [
      "Testing DataLoader 0: 100%|██████████| 35/35 [00:10<00:00,  3.37it/s]"
     ]
    },
    {
     "name": "stderr",
     "output_type": "stream",
     "text": [
      "GPU available: True (cuda), used: True\n",
      "TPU available: False, using: 0 TPU cores\n",
      "HPU available: False, using: 0 HPUs\n"
     ]
    },
    {
     "name": "stdout",
     "output_type": "stream",
     "text": [
      "\n",
      "────────────────────────────────────────────────────────────────────────────────────────────────────────────────────────\n",
      "       Test metric             DataLoader 0\n",
      "────────────────────────────────────────────────────────────────────────────────────────────────────────────────────────\n",
      "      eval_accuracy         0.8375680446624756\n",
      "        eval_loss           0.8006241917610168\n",
      "        hp_metric           0.8375680446624756\n",
      "────────────────────────────────────────────────────────────────────────────────────────────────────────────────────────\n",
      "Domain A Results: [{'eval_loss': 0.8006241917610168, 'eval_accuracy': 0.8375680446624756, 'hp_metric': 0.8375680446624756}]\n",
      "\n",
      "Training/Testing Domain B Model:\n"
     ]
    },
    {
     "name": "stderr",
     "output_type": "stream",
     "text": [
      "LOCAL_RANK: 0 - CUDA_VISIBLE_DEVICES: [0]\n"
     ]
    },
    {
     "name": "stdout",
     "output_type": "stream",
     "text": [
      "Testing DataLoader 0: 100%|██████████| 35/35 [00:09<00:00,  3.60it/s]"
     ]
    },
    {
     "name": "stderr",
     "output_type": "stream",
     "text": [
      "GPU available: True (cuda), used: True\n",
      "TPU available: False, using: 0 TPU cores\n",
      "HPU available: False, using: 0 HPUs\n"
     ]
    },
    {
     "name": "stdout",
     "output_type": "stream",
     "text": [
      "\n",
      "────────────────────────────────────────────────────────────────────────────────────────────────────────────────────────\n",
      "       Test metric             DataLoader 0\n",
      "────────────────────────────────────────────────────────────────────────────────────────────────────────────────────────\n",
      "      eval_accuracy         0.8194633722305298\n",
      "        eval_loss           0.8503769636154175\n",
      "        hp_metric           0.8194633722305298\n",
      "────────────────────────────────────────────────────────────────────────────────────────────────────────────────────────\n",
      "Domain B Results: [{'eval_loss': 0.8503769636154175, 'eval_accuracy': 0.8194633722305298, 'hp_metric': 0.8194633722305298}]\n",
      "\n",
      "Training/Testing Domain C Model:\n"
     ]
    },
    {
     "name": "stderr",
     "output_type": "stream",
     "text": [
      "LOCAL_RANK: 0 - CUDA_VISIBLE_DEVICES: [0]\n"
     ]
    },
    {
     "name": "stdout",
     "output_type": "stream",
     "text": [
      "Testing DataLoader 0: 100%|██████████| 31/31 [00:08<00:00,  3.46it/s]\n",
      "────────────────────────────────────────────────────────────────────────────────────────────────────────────────────────\n",
      "       Test metric             DataLoader 0\n",
      "────────────────────────────────────────────────────────────────────────────────────────────────────────────────────────\n",
      "      eval_accuracy         0.8081218004226685\n",
      "        eval_loss           0.7520386576652527\n",
      "        hp_metric           0.8081218004226685\n",
      "────────────────────────────────────────────────────────────────────────────────────────────────────────────────────────\n",
      "Domain C Results: [{'eval_loss': 0.7520386576652527, 'eval_accuracy': 0.8081218004226685, 'hp_metric': 0.8081218004226685}]\n"
     ]
    }
   ],
   "source": [
    "# Train all three domain models\n",
    "print(\"Training/Testing Domain A Model:\")\n",
    "domain_A_results = train_domain_model(\n",
    "    domain_A_mapping,\n",
    "    \"Domain A\",\n",
    "    \"caltech256_synthetic_2_A\",\n",
    "    \"resnet50-caltech256-synthetic-2-A-min-val-loss\",\n",
    ")\n",
    "\n",
    "print(\"\\nTraining/Testing Domain B Model:\")\n",
    "domain_B_results = train_domain_model(\n",
    "    domain_B_mapping,\n",
    "    \"Domain B\",\n",
    "    \"caltech256_synthetic_2_B\",\n",
    "    \"resnet50-caltech256-synthetic-2-B-min-val-loss\",\n",
    ")\n",
    "\n",
    "print(\"\\nTraining/Testing Domain C Model:\")\n",
    "domain_C_results = train_domain_model(\n",
    "    domain_C_mapping,\n",
    "    \"Domain C\",\n",
    "    \"caltech256_synthetic_2_C\",\n",
    "    \"resnet50-caltech256-synthetic-2-C-min-val-loss\",\n",
    ")"
   ]
  },
  {
   "cell_type": "code",
   "execution_count": 14,
   "id": "3005dec2",
   "metadata": {},
   "outputs": [
    {
     "name": "stdout",
     "output_type": "stream",
     "text": [
      "Domain A predictions shape: (2204, 3)\n",
      "Domain B predictions shape: (2199, 3)\n",
      "Domain C predictions shape: (1970, 3)\n"
     ]
    }
   ],
   "source": [
    "# Configuration for prediction generation\n",
    "PREDICT = False  # Set to True to generate predictions from scratch\n",
    "\n",
    "if PREDICT:\n",
    "    # Load datasets for all three domains\n",
    "    dataset_domain_A = Caltech256MappedDataModule(mapping=domain_A_mapping)\n",
    "    dataset_domain_B = Caltech256MappedDataModule(mapping=domain_B_mapping)\n",
    "    dataset_domain_C = Caltech256MappedDataModule(mapping=domain_C_mapping)\n",
    "\n",
    "    # Load trained models for all three domains\n",
    "    model_domain_A = ResNetModel.load_from_checkpoint(\n",
    "        \"checkpoints/resnet50-caltech256-synthetic-2-A-min-val-loss.ckpt\"\n",
    "    )\n",
    "    model_domain_A.eval()\n",
    "\n",
    "    model_domain_B = ResNetModel.load_from_checkpoint(\n",
    "        \"checkpoints/resnet50-caltech256-synthetic-2-B-min-val-loss.ckpt\"\n",
    "    )\n",
    "    model_domain_B.eval()\n",
    "\n",
    "    model_domain_C = ResNetModel.load_from_checkpoint(\n",
    "        \"checkpoints/resnet50-caltech256-synthetic-2-C-min-val-loss.ckpt\"\n",
    "    )\n",
    "    model_domain_C.eval()\n",
    "\n",
    "    trainer = Trainer(logger=False, enable_checkpointing=False)\n",
    "\n",
    "    print(\"Generating cross-domain predictions...\")\n",
    "\n",
    "    # Generate all cross-domain predictions (6 combinations)\n",
    "    model_A_on_domain_B = trainer.predict(model_domain_A, datamodule=dataset_domain_B)\n",
    "    model_A_on_domain_C = trainer.predict(model_domain_A, datamodule=dataset_domain_C)\n",
    "    model_B_on_domain_A = trainer.predict(model_domain_B, datamodule=dataset_domain_A)\n",
    "    model_B_on_domain_C = trainer.predict(model_domain_B, datamodule=dataset_domain_C)\n",
    "    model_C_on_domain_A = trainer.predict(model_domain_C, datamodule=dataset_domain_A)\n",
    "    model_C_on_domain_B = trainer.predict(model_domain_C, datamodule=dataset_domain_B)\n",
    "\n",
    "    # Convert predictions to class indices\n",
    "    predictions_A_on_B = torch.cat(model_A_on_domain_B).argmax(dim=1)  # type: ignore\n",
    "    predictions_A_on_C = torch.cat(model_A_on_domain_C).argmax(dim=1)  # type: ignore\n",
    "    predictions_B_on_A = torch.cat(model_B_on_domain_A).argmax(dim=1)  # type: ignore\n",
    "    predictions_B_on_C = torch.cat(model_B_on_domain_C).argmax(dim=1)  # type: ignore\n",
    "    predictions_C_on_A = torch.cat(model_C_on_domain_A).argmax(dim=1)  # type: ignore\n",
    "    predictions_C_on_B = torch.cat(model_C_on_domain_B).argmax(dim=1)  # type: ignore\n",
    "\n",
    "    # Get ground truth targets for all domains\n",
    "    domain_A_targets = torch.cat(\n",
    "        [label for _, label in dataset_domain_A.predict_dataloader()]\n",
    "    )\n",
    "    domain_B_targets = torch.cat(\n",
    "        [label for _, label in dataset_domain_B.predict_dataloader()]\n",
    "    )\n",
    "    domain_C_targets = torch.cat(\n",
    "        [label for _, label in dataset_domain_C.predict_dataloader()]\n",
    "    )\n",
    "\n",
    "    # Save all prediction results\n",
    "    pd.DataFrame(\n",
    "        {\n",
    "            \"domain_A\": domain_A_targets,\n",
    "            \"predictions_B_on_A\": predictions_B_on_A,\n",
    "            \"predictions_C_on_A\": predictions_C_on_A,\n",
    "        }\n",
    "    ).to_csv(\"data/caltech256_3domain_A_predictions.csv\", index=False)\n",
    "\n",
    "    pd.DataFrame(\n",
    "        {\n",
    "            \"domain_B\": domain_B_targets,\n",
    "            \"predictions_A_on_B\": predictions_A_on_B,\n",
    "            \"predictions_C_on_B\": predictions_C_on_B,\n",
    "        }\n",
    "    ).to_csv(\"data/caltech256_3domain_B_predictions.csv\", index=False)\n",
    "\n",
    "    pd.DataFrame(\n",
    "        {\n",
    "            \"domain_C\": domain_C_targets,\n",
    "            \"predictions_A_on_C\": predictions_A_on_C,\n",
    "            \"predictions_B_on_C\": predictions_B_on_C,\n",
    "        }\n",
    "    ).to_csv(\"data/caltech256_3domain_C_predictions.csv\", index=False)\n",
    "\n",
    "    print(\"All predictions saved to CSV files.\")\n",
    "\n",
    "# Load the prediction results\n",
    "df_A_3domain = pd.read_csv(\"data/caltech256_3domain_A_predictions.csv\")\n",
    "df_B_3domain = pd.read_csv(\"data/caltech256_3domain_B_predictions.csv\")\n",
    "df_C_3domain = pd.read_csv(\"data/caltech256_3domain_C_predictions.csv\")\n",
    "\n",
    "print(f\"Domain A predictions shape: {df_A_3domain.shape}\")\n",
    "print(f\"Domain B predictions shape: {df_B_3domain.shape}\")\n",
    "print(f\"Domain C predictions shape: {df_C_3domain.shape}\")"
   ]
  },
  {
   "cell_type": "code",
   "execution_count": 15,
   "id": "2e6e6e28",
   "metadata": {},
   "outputs": [
    {
     "name": "stdout",
     "output_type": "stream",
     "text": [
      "3-domain taxonomy constructed from cross-domain predictions.\n"
     ]
    }
   ],
   "source": [
    "# Construct taxonomy from all cross-domain predictions (3 domains = 6 prediction pairs)\n",
    "taxonomy_3domain = CrossPredictionsTaxonomy.from_cross_domain_predictions(\n",
    "    cross_domain_predictions=[\n",
    "        # Domain A → Domain B\n",
    "        (0, 1, np.array(df_B_3domain[\"predictions_A_on_B\"], dtype=np.intp)),\n",
    "        # Domain A → Domain C\n",
    "        (0, 2, np.array(df_C_3domain[\"predictions_A_on_C\"], dtype=np.intp)),\n",
    "        # Domain B → Domain A\n",
    "        (1, 0, np.array(df_A_3domain[\"predictions_B_on_A\"], dtype=np.intp)),\n",
    "        # Domain B → Domain C\n",
    "        (1, 2, np.array(df_C_3domain[\"predictions_B_on_C\"], dtype=np.intp)),\n",
    "        # Domain C → Domain A\n",
    "        (2, 0, np.array(df_A_3domain[\"predictions_C_on_A\"], dtype=np.intp)),\n",
    "        # Domain C → Domain B\n",
    "        (2, 1, np.array(df_B_3domain[\"predictions_C_on_B\"], dtype=np.intp)),\n",
    "    ],\n",
    "    domain_targets=[\n",
    "        (0, np.array(df_A_3domain[\"domain_A\"], dtype=np.intp)),\n",
    "        (1, np.array(df_B_3domain[\"domain_B\"], dtype=np.intp)),\n",
    "        (2, np.array(df_C_3domain[\"domain_C\"], dtype=np.intp)),\n",
    "    ],\n",
    "    domain_labels=synthetic_taxonomy.domain_labels,\n",
    "    relationship_type=\"hypothesis\",\n",
    ")\n",
    "\n",
    "print(\"3-domain taxonomy constructed from cross-domain predictions.\")"
   ]
  },
  {
   "cell_type": "code",
   "execution_count": null,
   "id": "584358b9",
   "metadata": {},
   "outputs": [
    {
     "name": "stdout",
     "output_type": "stream",
     "text": [
      "Generating 3-domain taxonomy visualizations...\n",
      "3-domain taxonomy visualizations saved to output/ directory.\n"
     ]
    }
   ],
   "source": [
    "# Generate and save taxonomy visualizations\n",
    "print(\"Generating 3-domain taxonomy visualizations...\")\n",
    "\n",
    "taxonomy_3domain.visualize_graph(\"3-Domain Caltech256 Model Taxonomy\").save_graph(\n",
    "    \"output/caltech256_3domain_synthetic_model_taxonomy.html\"\n",
    ")\n",
    "\n",
    "synthetic_taxonomy.visualize_graph(\n",
    "    \"3-Domain Caltech256 Ground Truth Taxonomy\"\n",
    ").save_graph(\"output/caltech256_3domain_synthetic_taxonomy.html\")\n",
    "\n",
    "print(\"3-domain taxonomy visualizations saved to output/ directory.\")"
   ]
  },
  {
   "cell_type": "code",
   "execution_count": 17,
   "id": "148fc3b8",
   "metadata": {},
   "outputs": [
    {
     "name": "stdout",
     "output_type": "stream",
     "text": [
      "3-Domain Synthetic Taxonomy Evaluation:\n",
      "Edge Difference Ratio: 0.3983\n",
      "Precision: 0.8223\n",
      "Recall: 0.8463\n",
      "F1 Score: 0.8341\n"
     ]
    }
   ],
   "source": [
    "# Evaluate the 3-domain taxonomy against the ground truth\n",
    "edr_3domain = taxonomy_3domain.edge_difference_ratio(synthetic_taxonomy)\n",
    "precision_3domain, recall_3domain, f1_3domain = taxonomy_3domain.precision_recall_f1(\n",
    "    synthetic_taxonomy\n",
    ")\n",
    "\n",
    "print(\"3-Domain Synthetic Taxonomy Evaluation:\")\n",
    "print(f\"Edge Difference Ratio: {edr_3domain:.4f}\")\n",
    "print(f\"Precision: {precision_3domain:.4f}\")\n",
    "print(f\"Recall: {recall_3domain:.4f}\")\n",
    "print(f\"F1 Score: {f1_3domain:.4f}\")"
   ]
  },
  {
   "cell_type": "code",
   "execution_count": null,
   "id": "9f26c203",
   "metadata": {},
   "outputs": [
    {
     "name": "stdout",
     "output_type": "stream",
     "text": [
      "Building 3-domain universal taxonomies...\n",
      "3-domain universal taxonomy visualizations saved to output/ directory.\n"
     ]
    }
   ],
   "source": [
    "# Build and visualize universal taxonomies for the 3-domain case\n",
    "print(\"Building 3-domain universal taxonomies...\")\n",
    "\n",
    "taxonomy_3domain.build_universal_taxonomy()\n",
    "taxonomy_3domain.visualize_graph(\n",
    "    \"3-Domain Caltech256 Model Universal Taxonomy\"\n",
    ").save_graph(\"output/caltech256_3domain_synthetic_model_universal_taxonomy.html\")\n",
    "\n",
    "synthetic_taxonomy.build_universal_taxonomy()\n",
    "synthetic_taxonomy.visualize_graph(\n",
    "    \"3-Domain Caltech256 Ground Truth Universal Taxonomy\"\n",
    ").save_graph(\"output/caltech256_3domain_synthetic_universal_taxonomy.html\")\n",
    "\n",
    "print(\"3-domain universal taxonomy visualizations saved to output/ directory.\")"
   ]
  }
 ],
 "metadata": {
  "kernelspec": {
   "display_name": "master-thesis",
   "language": "python",
   "name": "python3"
  },
  "language_info": {
   "codemirror_mode": {
    "name": "ipython",
    "version": 3
   },
   "file_extension": ".py",
   "mimetype": "text/x-python",
   "name": "python",
   "nbconvert_exporter": "python",
   "pygments_lexer": "ipython3",
   "version": "3.13.2"
  }
 },
 "nbformat": 4,
 "nbformat_minor": 5
}
