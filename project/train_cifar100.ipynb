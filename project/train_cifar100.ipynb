{
 "cells": [
  {
   "cell_type": "code",
   "execution_count": null,
   "id": "63079fa4",
   "metadata": {},
   "outputs": [
    {
     "name": "stdout",
     "output_type": "stream",
     "text": [
      "CIFAR-100 classes: 100\n"
     ]
    }
   ],
   "source": [
    "import pandas as pd\n",
    "import numpy as np\n",
    "import torch\n",
    "from torchvision.datasets import CIFAR100\n",
    "from lightning.pytorch.callbacks import ModelCheckpoint\n",
    "from lightning.pytorch import Trainer\n",
    "from lightning.pytorch import loggers as pl_loggers\n",
    "\n",
    "from library.models.resnet import ResNetModel\n",
    "from library.datasets.cifar100 import CIFAR100DataModule\n",
    "\n",
    "# Load dataset information\n",
    "cifar100_labels = CIFAR100(root=\"datasets/cifar100\", train=True, download=False).classes\n",
    "\n",
    "print(f\"CIFAR-100 classes: {len(cifar100_labels)}\")\n",
    "\n",
    "# Reduce the precision of matrix multiplication to speed up training\n",
    "torch.set_float32_matmul_precision(\"medium\")"
   ]
  },
  {
   "cell_type": "code",
   "execution_count": 2,
   "id": "b0cf04e3",
   "metadata": {},
   "outputs": [],
   "source": [
    "# Configuration\n",
    "TRAIN = True  # Set to True to train models from scratch\n",
    "\n",
    "\n",
    "def train_dataset_model(\n",
    "    dataset_module, dataset_name, logger_name, model_name, num_classes, training_config\n",
    "):\n",
    "    \"\"\"Train a ResNet model for a specific dataset\"\"\"\n",
    "    tb_logger = pl_loggers.TensorBoardLogger(save_dir=\"logs\", name=logger_name)\n",
    "\n",
    "    trainer = Trainer(\n",
    "        max_epochs=training_config[\"max_epochs\"],\n",
    "        logger=tb_logger if TRAIN else False,\n",
    "        callbacks=[\n",
    "            ModelCheckpoint(\n",
    "                dirpath=\"checkpoints\",\n",
    "                monitor=\"val_loss\",\n",
    "                mode=\"min\",\n",
    "                save_top_k=1,\n",
    "                filename=model_name,\n",
    "                enable_version_counter=False,\n",
    "            )\n",
    "        ],\n",
    "    )\n",
    "\n",
    "    if TRAIN:\n",
    "        model = ResNetModel(\n",
    "            num_classes=num_classes,\n",
    "            architecture=\"resnet152\",  # Using ResNet152 for CIFAR-100\n",
    "            optim=training_config[\"optim\"],\n",
    "            optim_kwargs=training_config[\"optim_kwargs\"],\n",
    "            **training_config[\"addition\"],\n",
    "        )\n",
    "        trainer.fit(model, datamodule=dataset_module)\n",
    "        results = trainer.test(datamodule=dataset_module, ckpt_path=\"best\")\n",
    "    else:\n",
    "        model = ResNetModel.load_from_checkpoint(f\"checkpoints/{model_name}.ckpt\")\n",
    "        results = trainer.test(model, datamodule=dataset_module)\n",
    "\n",
    "    return results"
   ]
  },
  {
   "cell_type": "code",
   "execution_count": 3,
   "id": "81b4b305",
   "metadata": {},
   "outputs": [
    {
     "name": "stderr",
     "output_type": "stream",
     "text": [
      "GPU available: True (cuda), used: True\n",
      "TPU available: False, using: 0 TPU cores\n",
      "HPU available: False, using: 0 HPUs\n"
     ]
    },
    {
     "name": "stdout",
     "output_type": "stream",
     "text": [
      "Training CIFAR-100 baseline model...\n"
     ]
    },
    {
     "name": "stderr",
     "output_type": "stream",
     "text": [
      "/home/bjoern/miniconda3/envs/master-thesis/lib/python3.13/site-packages/lightning/pytorch/callbacks/model_checkpoint.py:654: Checkpoint directory /home/bjoern/dev/master-thesis/project/checkpoints exists and is not empty.\n",
      "LOCAL_RANK: 0 - CUDA_VISIBLE_DEVICES: [0]\n",
      "\n",
      "  | Name      | Type             | Params | Mode \n",
      "-------------------------------------------------------\n",
      "0 | model     | ResNet           | 60.9 M | train\n",
      "1 | criterion | CrossEntropyLoss | 0      | train\n",
      "-------------------------------------------------------\n",
      "60.9 M    Trainable params\n",
      "0         Non-trainable params\n",
      "60.9 M    Total params\n",
      "243.776   Total estimated model params size (MB)\n",
      "434       Modules in train mode\n",
      "0         Modules in eval mode\n"
     ]
    },
    {
     "name": "stdout",
     "output_type": "stream",
     "text": [
      "Epoch 49: 100%|██████████| 157/157 [00:33<00:00,  4.68it/s, v_num=2]       "
     ]
    },
    {
     "name": "stderr",
     "output_type": "stream",
     "text": [
      "`Trainer.fit` stopped: `max_epochs=50` reached.\n"
     ]
    },
    {
     "name": "stdout",
     "output_type": "stream",
     "text": [
      "Epoch 49: 100%|██████████| 157/157 [00:33<00:00,  4.68it/s, v_num=2]\n"
     ]
    },
    {
     "name": "stderr",
     "output_type": "stream",
     "text": [
      "Restoring states from the checkpoint path at /home/bjoern/dev/master-thesis/project/checkpoints/resnet152-cifar100-min-val-loss.ckpt\n",
      "LOCAL_RANK: 0 - CUDA_VISIBLE_DEVICES: [0]\n",
      "Loaded model weights from the checkpoint at /home/bjoern/dev/master-thesis/project/checkpoints/resnet152-cifar100-min-val-loss.ckpt\n"
     ]
    },
    {
     "name": "stdout",
     "output_type": "stream",
     "text": [
      "Testing DataLoader 0: 100%|██████████| 40/40 [00:03<00:00, 12.73it/s]\n",
      "────────────────────────────────────────────────────────────────────────────────────────────────────────────────────────\n",
      "       Test metric             DataLoader 0\n",
      "────────────────────────────────────────────────────────────────────────────────────────────────────────────────────────\n",
      "      eval_accuracy         0.6047000288963318\n",
      "        eval_loss           1.9386216402053833\n",
      "        hp_metric           0.6047000288963318\n",
      "────────────────────────────────────────────────────────────────────────────────────────────────────────────────────────\n",
      "CIFAR-100 Test Results: [{'eval_loss': 1.9386216402053833, 'eval_accuracy': 0.6047000288963318, 'hp_metric': 0.6047000288963318}]\n"
     ]
    }
   ],
   "source": [
    "# Train CIFAR-100 model\n",
    "cifar100_dataset = CIFAR100DataModule()\n",
    "cifar100_config = {\n",
    "    \"max_epochs\": 50,\n",
    "    \"optim\": \"adamw\",\n",
    "    \"optim_kwargs\": {\n",
    "        \"lr\": 0.001,\n",
    "        \"weight_decay\": 0.001,\n",
    "    },\n",
    "    \"addition\": {\n",
    "        # Add learning rate scheduling\n",
    "        \"lr_scheduler\": \"multistep\",\n",
    "        \"lr_scheduler_kwargs\": {\n",
    "            \"milestones\": [30, 60, 80],\n",
    "            \"gamma\": 0.1,\n",
    "        },\n",
    "    },\n",
    "}\n",
    "\n",
    "print(\"Training CIFAR-100 baseline model...\")\n",
    "cifar100_results = train_dataset_model(\n",
    "    cifar100_dataset,\n",
    "    \"CIFAR-100\",\n",
    "    \"cifar100_baseline\",\n",
    "    \"resnet152-cifar100-min-val-loss\",\n",
    "    len(cifar100_labels),\n",
    "    cifar100_config,\n",
    ")\n",
    "\n",
    "print(f\"CIFAR-100 Test Results: {cifar100_results}\")"
   ]
  }
 ],
 "metadata": {
  "kernelspec": {
   "display_name": "master-thesis",
   "language": "python",
   "name": "python3"
  },
  "language_info": {
   "codemirror_mode": {
    "name": "ipython",
    "version": 3
   },
   "file_extension": ".py",
   "mimetype": "text/x-python",
   "name": "python",
   "nbconvert_exporter": "python",
   "pygments_lexer": "ipython3",
   "version": "3.13.2"
  }
 },
 "nbformat": 4,
 "nbformat_minor": 5
}
