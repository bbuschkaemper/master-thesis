{
 "cells": [
  {
   "cell_type": "code",
   "execution_count": 2,
   "metadata": {},
   "outputs": [
    {
     "name": "stderr",
     "output_type": "stream",
     "text": [
      "GPU available: True (cuda), used: True\n",
      "TPU available: False, using: 0 TPU cores\n",
      "HPU available: False, using: 0 HPUs\n",
      "LOCAL_RANK: 0 - CUDA_VISIBLE_DEVICES: [0]\n",
      "\n",
      "  | Name      | Type             | Params | Mode \n",
      "-------------------------------------------------------\n",
      "0 | model     | ResNet           | 58.3 M | train\n",
      "1 | criterion | CrossEntropyLoss | 0      | train\n",
      "-------------------------------------------------------\n",
      "58.3 M    Trainable params\n",
      "0         Non-trainable params\n",
      "58.3 M    Total params\n",
      "233.395   Total estimated model params size (MB)\n",
      "424       Modules in train mode\n",
      "0         Modules in eval mode\n"
     ]
    },
    {
     "name": "stdout",
     "output_type": "stream",
     "text": [
      "Epoch 29: 100%|██████████| 157/157 [00:29<00:00,  5.27it/s, v_num=14]      "
     ]
    },
    {
     "name": "stderr",
     "output_type": "stream",
     "text": [
      "`Trainer.fit` stopped: `max_epochs=30` reached.\n"
     ]
    },
    {
     "name": "stdout",
     "output_type": "stream",
     "text": [
      "Epoch 29: 100%|██████████| 157/157 [00:29<00:00,  5.27it/s, v_num=14]\n"
     ]
    },
    {
     "name": "stderr",
     "output_type": "stream",
     "text": [
      "Restoring states from the checkpoint path at /home/sentinel/Development/master-thesis/project/checkpoints/resnet152-cifar100-min-val-loss.ckpt\n",
      "LOCAL_RANK: 0 - CUDA_VISIBLE_DEVICES: [0]\n",
      "Loaded model weights from the checkpoint at /home/sentinel/Development/master-thesis/project/checkpoints/resnet152-cifar100-min-val-loss.ckpt\n"
     ]
    },
    {
     "name": "stdout",
     "output_type": "stream",
     "text": [
      "Testing DataLoader 0: 100%|██████████| 40/40 [00:04<00:00,  8.43it/s]\n",
      "────────────────────────────────────────────────────────────────────────────────────────────────────────────────────────\n",
      "       Test metric             DataLoader 0\n",
      "────────────────────────────────────────────────────────────────────────────────────────────────────────────────────────\n",
      "      eval_accuracy         0.5734000205993652\n",
      "        eval_loss           1.6999752521514893\n",
      "        hp_metric           0.5734000205993652\n",
      "────────────────────────────────────────────────────────────────────────────────────────────────────────────────────────\n",
      "[{'eval_loss': 1.6999752521514893, 'eval_accuracy': 0.5734000205993652, 'hp_metric': 0.5734000205993652}]\n"
     ]
    }
   ],
   "source": [
    "import lightning as pl\n",
    "from lightning.pytorch import loggers as pl_loggers\n",
    "from models import *\n",
    "from datasets import *\n",
    "\n",
    "\n",
    "# Reduce the precision of matrix multiplication to speed up training\n",
    "torch.set_float32_matmul_precision(\"medium\")\n",
    "\n",
    "\n",
    "tb_logger = pl_loggers.TensorBoardLogger(save_dir=\"logs\", name=\"cifar100\")\n",
    "dataset = CIFAR100DataModule()\n",
    "model_name = \"resnet152-cifar100-min-val-loss\"\n",
    "trainer = pl.Trainer(\n",
    "    max_epochs=30,\n",
    "    logger=tb_logger,\n",
    "    callbacks=[\n",
    "        # Save the model with the lowest validation loss\n",
    "        pl.pytorch.callbacks.ModelCheckpoint(\n",
    "            dirpath=\"checkpoints\",\n",
    "            monitor=\"val_loss\",\n",
    "            mode=\"min\",\n",
    "            save_top_k=1,\n",
    "            filename=model_name,\n",
    "            enable_version_counter=False,\n",
    "        )\n",
    "    ],\n",
    ")\n",
    "\n",
    "TRAIN = True\n",
    "\n",
    "if TRAIN:\n",
    "    model = ResNetModule(\n",
    "        num_classes=100,\n",
    "        architecture=\"resnet152\",\n",
    "        optim=\"adamw\",\n",
    "        lr=0.001,\n",
    "        weight_decay=0.05,\n",
    "    )\n",
    "    trainer.fit(model, datamodule=dataset)\n",
    "\n",
    "    # Test with the best model from the checkpoint\n",
    "    results = trainer.test(datamodule=dataset, ckpt_path=\"best\")\n",
    "else:\n",
    "    model = ResNetModule.load_from_checkpoint(f\"checkpoints/{model_name}.ckpt\")\n",
    "    results = trainer.test(model, datamodule=dataset)\n",
    "\n",
    "print(results)"
   ]
  }
 ],
 "metadata": {
  "kernelspec": {
   "display_name": "Python 3",
   "language": "python",
   "name": "python3"
  },
  "language_info": {
   "codemirror_mode": {
    "name": "ipython",
    "version": 3
   },
   "file_extension": ".py",
   "mimetype": "text/x-python",
   "name": "python",
   "nbconvert_exporter": "python",
   "pygments_lexer": "ipython3",
   "version": "3.13.2"
  }
 },
 "nbformat": 4,
 "nbformat_minor": 2
}
