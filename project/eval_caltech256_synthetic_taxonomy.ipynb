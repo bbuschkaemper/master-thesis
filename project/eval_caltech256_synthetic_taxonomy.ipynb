{
 "cells": [
  {
   "cell_type": "code",
   "execution_count": 14,
   "id": "4a39ed7f",
   "metadata": {},
   "outputs": [],
   "source": [
    "from synthetic_taxonomy import SyntheticTaxonomy\n",
    "\n",
    "\n",
    "synthetic_taxonomy = SyntheticTaxonomy(\n",
    "    num_atomic_concepts=257,\n",
    "    num_domains=2,\n",
    "    domain_class_count_mean=180,\n",
    "    domain_class_count_variance=10,\n",
    "    concept_cluster_size_mean=3,\n",
    "    concept_cluster_size_variance=1,\n",
    ")"
   ]
  },
  {
   "cell_type": "code",
   "execution_count": 15,
   "id": "6a694a19",
   "metadata": {},
   "outputs": [],
   "source": [
    "import pandas as pd\n",
    "\n",
    "df_A = pd.read_csv(\"output/caltech256_domain_A_predictions.csv\")\n",
    "df_B = pd.read_csv(\"output/caltech256_domain_B_predictions.csv\")"
   ]
  },
  {
   "cell_type": "code",
   "execution_count": 16,
   "id": "3c4e6288",
   "metadata": {},
   "outputs": [],
   "source": [
    "from taxonomy import Taxonomy\n",
    "import numpy as np\n",
    "\n",
    "taxonomy = Taxonomy(\n",
    "    cross_domain_predictions=[\n",
    "        (0, 1, np.array(df_B[\"predictions_A_on_B\"])),\n",
    "        (1, 0, np.array(df_A[\"predictions_B_on_A\"])),\n",
    "    ],\n",
    "    domain_targets=[(0, np.array(df_A[\"domain_A\"])), (1, np.array(df_B[\"domain_B\"]))],\n",
    "    domain_labels=synthetic_taxonomy.domain_labels,\n",
    ")\n",
    "taxonomy.visualize_graph(\"Synthetic Model Taxonomy\").save_graph(\n",
    "    \"output/caltech256_synthetic_model_taxonomy.html\"\n",
    ")\n",
    "\n",
    "taxonomy.build_universal_taxonomy()\n",
    "taxonomy.visualize_graph(\"Synthetic Model Universal Taxonomy\").save_graph(\n",
    "    \"output/caltech256_synthetic_model_universal_taxonomy.html\"\n",
    ")\n",
    "\n",
    "synthetic_taxonomy.build_universal_taxonomy()\n",
    "synthetic_taxonomy.visualize_graph(\"Synthetic Universal Taxonomy\").save_graph(\n",
    "    \"output/caltech256_synthetic_universal_taxonomy.html\"\n",
    ")"
   ]
  }
 ],
 "metadata": {
  "kernelspec": {
   "display_name": "Python 3",
   "language": "python",
   "name": "python3"
  },
  "language_info": {
   "codemirror_mode": {
    "name": "ipython",
    "version": 3
   },
   "file_extension": ".py",
   "mimetype": "text/x-python",
   "name": "python",
   "nbconvert_exporter": "python",
   "pygments_lexer": "ipython3",
   "version": "3.13.2"
  }
 },
 "nbformat": 4,
 "nbformat_minor": 5
}
