{
 "cells": [
  {
   "cell_type": "code",
   "execution_count": 19,
   "id": "0763762c",
   "metadata": {},
   "outputs": [],
   "source": [
    "from torchvision.datasets import Caltech256, Caltech101\n",
    "import torch\n",
    "\n",
    "caltech256_labels = Caltech256(root=\"datasets/caltech256\", download=False).categories\n",
    "caltech101_labels = Caltech101(root=\"datasets/caltech101\", download=False).categories\n",
    "\n",
    "# Reduce the precision of matrix multiplication to speed up training\n",
    "torch.set_float32_matmul_precision(\"medium\")"
   ]
  },
  {
   "cell_type": "code",
   "execution_count": 20,
   "id": "285bbfb0",
   "metadata": {},
   "outputs": [
    {
     "name": "stdout",
     "output_type": "stream",
     "text": [
      "Caltech256 labels (first 10):\n",
      "0: 001.ak47\n",
      "1: 002.american-flag\n",
      "2: 003.backpack\n",
      "3: 004.baseball-bat\n",
      "4: 005.baseball-glove\n",
      "5: 006.basketball-hoop\n",
      "6: 007.bat\n",
      "7: 008.bathtub\n",
      "8: 009.bear\n",
      "9: 010.beer-mug\n",
      "\n",
      "Total Caltech256 classes: 257\n",
      "\n",
      "Caltech101 labels (first 10):\n",
      "0: Faces\n",
      "1: Faces_easy\n",
      "2: Leopards\n",
      "3: Motorbikes\n",
      "4: accordion\n",
      "5: airplanes\n",
      "6: anchor\n",
      "7: ant\n",
      "8: barrel\n",
      "9: bass\n",
      "\n",
      "Total Caltech101 classes: 101\n"
     ]
    }
   ],
   "source": [
    "# Examine the structure of the labels\n",
    "print(\"Caltech256 labels (first 10):\")\n",
    "for i, label in enumerate(caltech256_labels[:10]):\n",
    "    print(f\"{i}: {label}\")\n",
    "\n",
    "print(f\"\\nTotal Caltech256 classes: {len(caltech256_labels)}\")\n",
    "\n",
    "print(\"\\nCaltech101 labels (first 10):\")\n",
    "for i, label in enumerate(caltech101_labels[:10]):\n",
    "    print(f\"{i}: {label}\")\n",
    "\n",
    "print(f\"\\nTotal Caltech101 classes: {len(caltech101_labels)}\")"
   ]
  },
  {
   "cell_type": "code",
   "execution_count": 21,
   "id": "45b82a18",
   "metadata": {},
   "outputs": [
    {
     "name": "stdout",
     "output_type": "stream",
     "text": [
      "Cleaned Caltech256 labels (first 10):\n",
      "0: 001.ak47 -> ak47\n",
      "1: 002.american-flag -> american flag\n",
      "2: 003.backpack -> backpack\n",
      "3: 004.baseball-bat -> baseball bat\n",
      "4: 005.baseball-glove -> baseball glove\n",
      "5: 006.basketball-hoop -> basketball hoop\n",
      "6: 007.bat -> bat\n",
      "7: 008.bathtub -> bathtub\n",
      "8: 009.bear -> bear\n",
      "9: 010.beer-mug -> beer mug\n",
      "\n",
      "Cleaned Caltech101 labels (first 10):\n",
      "0: Faces -> Faces\n",
      "1: Faces_easy -> Faces easy\n",
      "2: Leopards -> Leopards\n",
      "3: Motorbikes -> Motorbikes\n",
      "4: accordion -> accordion\n",
      "5: airplanes -> airplanes\n",
      "6: anchor -> anchor\n",
      "7: ant -> ant\n",
      "8: barrel -> barrel\n",
      "9: bass -> bass\n",
      "\n",
      "Total cleaned Caltech256 classes: 257\n",
      "Total cleaned Caltech101 classes: 101\n"
     ]
    }
   ],
   "source": [
    "# Clean up dataset labels by removing prefixes and normalizing formats\n",
    "import re\n",
    "\n",
    "\n",
    "def clean_caltech256_label(label):\n",
    "    # Remove the number prefix (e.g., \"001.\", \"002.\")\n",
    "    cleaned = re.sub(r\"^\\d+\\.\", \"\", label)\n",
    "    # Replace hyphens with spaces\n",
    "    cleaned = cleaned.replace(\"-\", \" \")\n",
    "    return cleaned\n",
    "\n",
    "\n",
    "def clean_caltech101_label(label):\n",
    "    # Replace underscores with spaces and handle special cases\n",
    "    cleaned = label.replace(\"_\", \" \")\n",
    "    # Handle specific formatting issues\n",
    "    cleaned = cleaned.replace(\".\", \" \")\n",
    "    return cleaned\n",
    "\n",
    "\n",
    "# Clean all labels\n",
    "caltech256_clean_labels = [clean_caltech256_label(label) for label in caltech256_labels]\n",
    "caltech101_clean_labels = [clean_caltech101_label(label) for label in caltech101_labels]\n",
    "\n",
    "print(\"Cleaned Caltech256 labels (first 10):\")\n",
    "for i, (original, cleaned) in enumerate(\n",
    "    zip(caltech256_labels[:10], caltech256_clean_labels[:10])\n",
    "):\n",
    "    print(f\"{i}: {original} -> {cleaned}\")\n",
    "\n",
    "print(f\"\\nCleaned Caltech101 labels (first 10):\")\n",
    "for i, (original, cleaned) in enumerate(\n",
    "    zip(caltech101_labels[:10], caltech101_clean_labels[:10])\n",
    "):\n",
    "    print(f\"{i}: {original} -> {cleaned}\")\n",
    "\n",
    "print(f\"\\nTotal cleaned Caltech256 classes: {len(caltech256_clean_labels)}\")\n",
    "print(f\"Total cleaned Caltech101 classes: {len(caltech101_clean_labels)}\")"
   ]
  },
  {
   "cell_type": "code",
   "execution_count": 22,
   "id": "944406d3",
   "metadata": {},
   "outputs": [
    {
     "name": "stderr",
     "output_type": "stream",
     "text": [
      "[nltk_data] Downloading package wordnet to /home/bjoern/nltk_data...\n",
      "[nltk_data]   Package wordnet is already up-to-date!\n"
     ]
    },
    {
     "data": {
      "text/plain": [
       "True"
      ]
     },
     "execution_count": 22,
     "metadata": {},
     "output_type": "execute_result"
    }
   ],
   "source": [
    "import nltk\n",
    "from nltk.corpus import wordnet as wn\n",
    "\n",
    "# Download WordNet data if not already available\n",
    "nltk.download(\"wordnet\")"
   ]
  },
  {
   "cell_type": "code",
   "execution_count": 23,
   "id": "3e030c84",
   "metadata": {},
   "outputs": [],
   "source": [
    "import pandas as pd\n",
    "import numpy as np\n",
    "from lightning.pytorch.callbacks import ModelCheckpoint\n",
    "from lightning.pytorch import Trainer\n",
    "from lightning.pytorch import loggers as pl_loggers\n",
    "\n",
    "from library.taxonomy_constructors import ManualTaxonomy, CrossPredictionsTaxonomy\n",
    "from library.models import ResNetModel\n",
    "from library.datasets import Caltech256MappedDataModule, Caltech101MappedDataModule\n",
    "from library.taxonomy import Relationship, DomainClass"
   ]
  },
  {
   "cell_type": "code",
   "execution_count": 24,
   "id": "91694424",
   "metadata": {},
   "outputs": [
    {
     "name": "stdout",
     "output_type": "stream",
     "text": [
      "Configuration:\n",
      "CALCULATE similarity matrix: False\n",
      "TRAIN models: False\n",
      "PREDICT cross-domain: False\n"
     ]
    }
   ],
   "source": [
    "# Configuration Constants\n",
    "CALCULATE = False  # Set to True to calculate similarity matrix from scratch\n",
    "TRAIN = False  # Set to True to train models from scratch\n",
    "PREDICT = False  # Set to True to generate predictions from scratch\n",
    "\n",
    "print(\"Configuration:\")\n",
    "print(f\"CALCULATE similarity matrix: {CALCULATE}\")\n",
    "print(f\"TRAIN models: {TRAIN}\")\n",
    "print(f\"PREDICT cross-domain: {PREDICT}\")"
   ]
  },
  {
   "cell_type": "code",
   "execution_count": 25,
   "id": "551d2e91",
   "metadata": {},
   "outputs": [
    {
     "name": "stdout",
     "output_type": "stream",
     "text": [
      "Test similarity between 'car' and 'automobile': 1.0\n"
     ]
    }
   ],
   "source": [
    "def calculate_wordnet_similarity(label1, label2):\n",
    "    \"\"\"Calculate WordNet WUP similarity between two labels.\n",
    "\n",
    "    Uses multiple strategies to find the best synset matches:\n",
    "    1. Direct label matching\n",
    "    2. Individual word matching\n",
    "    3. Context-based matching for compound terms\n",
    "    \"\"\"\n",
    "\n",
    "    def get_synsets_for_label(label):\n",
    "        \"\"\"Get synsets for a label using multiple strategies.\"\"\"\n",
    "        synsets = []\n",
    "        direct_synsets = wn.synsets(label.replace(\" \", \"_\"))\n",
    "        synsets.extend(direct_synsets)\n",
    "\n",
    "        return synsets\n",
    "\n",
    "    synsets1 = get_synsets_for_label(label1)\n",
    "    synsets2 = get_synsets_for_label(label2)\n",
    "\n",
    "    if not synsets1 or not synsets2:\n",
    "        return 0.0\n",
    "\n",
    "    # Calculate maximum similarity across all synset pairs\n",
    "    max_similarity = 0.0\n",
    "    for syn1 in synsets1:\n",
    "        for syn2 in synsets2:\n",
    "            try:\n",
    "                sim = syn1.wup_similarity(syn2)\n",
    "                if sim is not None and sim > max_similarity:\n",
    "                    max_similarity = sim\n",
    "            except:\n",
    "                continue\n",
    "\n",
    "    return max_similarity\n",
    "\n",
    "\n",
    "# Test the function\n",
    "test_similarity = calculate_wordnet_similarity(\"car\", \"automobile\")\n",
    "print(f\"Test similarity between 'car' and 'automobile': {test_similarity}\")"
   ]
  },
  {
   "cell_type": "code",
   "execution_count": 26,
   "id": "7b86002e",
   "metadata": {},
   "outputs": [
    {
     "name": "stdout",
     "output_type": "stream",
     "text": [
      "Loading similarity matrix from saved file...\n",
      "Similarity matrix loaded successfully!\n",
      "Matrix shape: (257, 101)\n",
      "Max similarity: 1.0000\n",
      "Mean similarity: 0.3046\n",
      "Non-zero similarities: 17622/25957\n"
     ]
    }
   ],
   "source": [
    "# Configuration for similarity matrix calculation/loading\n",
    "if CALCULATE:\n",
    "    print(\"Calculating similarity matrix between Caltech256 and Caltech101 labels...\")\n",
    "    print(\n",
    "        f\"This will compute {len(caltech256_clean_labels)} x {len(caltech101_clean_labels)} = {len(caltech256_clean_labels) * len(caltech101_clean_labels)} similarity scores\"\n",
    "    )\n",
    "\n",
    "    # Create similarity matrix\n",
    "    similarity_matrix = np.zeros(\n",
    "        (len(caltech256_clean_labels), len(caltech101_clean_labels))\n",
    "    )\n",
    "\n",
    "    # Calculate similarities\n",
    "    for i, caltech256_label in enumerate(caltech256_clean_labels):\n",
    "        if i % 50 == 0:\n",
    "            print(f\"Processing Caltech256 class {i}/{len(caltech256_clean_labels)}\")\n",
    "\n",
    "        for j, caltech101_label in enumerate(caltech101_clean_labels):\n",
    "            similarity = calculate_wordnet_similarity(\n",
    "                caltech256_label, caltech101_label\n",
    "            )\n",
    "            similarity_matrix[i, j] = similarity\n",
    "\n",
    "    print(\"Similarity matrix calculation complete!\")\n",
    "\n",
    "    # Save the similarity matrix for future use\n",
    "    np.save(\n",
    "        \"data/wordnet_similarity_matrix_caltech256_caltech101.npy\", similarity_matrix\n",
    "    )\n",
    "    print(\n",
    "        \"Similarity matrix saved to data/wordnet_similarity_matrix_caltech256_caltech101.npy\"\n",
    "    )\n",
    "\n",
    "else:\n",
    "    print(\"Loading similarity matrix from saved file...\")\n",
    "    try:\n",
    "        similarity_matrix = np.load(\n",
    "            \"data/wordnet_similarity_matrix_caltech256_caltech101.npy\"\n",
    "        )\n",
    "        print(\"Similarity matrix loaded successfully!\")\n",
    "    except FileNotFoundError:\n",
    "        print(\"Similarity matrix file not found. Set CALCULATE=True to compute it.\")\n",
    "        print(\"Computing similarity matrix now...\")\n",
    "\n",
    "        # Fallback to calculation if file doesn't exist\n",
    "        similarity_matrix = np.zeros(\n",
    "            (len(caltech256_clean_labels), len(caltech101_clean_labels))\n",
    "        )\n",
    "\n",
    "        for i, caltech256_label in enumerate(caltech256_clean_labels):\n",
    "            if i % 50 == 0:\n",
    "                print(f\"Processing Caltech256 class {i}/{len(caltech256_clean_labels)}\")\n",
    "            for j, caltech101_label in enumerate(caltech101_clean_labels):\n",
    "                similarity = calculate_wordnet_similarity(\n",
    "                    caltech256_label, caltech101_label\n",
    "                )\n",
    "                similarity_matrix[i, j] = similarity\n",
    "\n",
    "        np.save(\n",
    "            \"data/wordnet_similarity_matrix_caltech256_caltech101.npy\",\n",
    "            similarity_matrix,\n",
    "        )\n",
    "        print(\"Similarity matrix calculated and saved!\")\n",
    "\n",
    "print(f\"Matrix shape: {similarity_matrix.shape}\")\n",
    "print(f\"Max similarity: {similarity_matrix.max():.4f}\")\n",
    "print(f\"Mean similarity: {similarity_matrix.mean():.4f}\")\n",
    "print(\n",
    "    f\"Non-zero similarities: {np.count_nonzero(similarity_matrix)}/{similarity_matrix.size}\"\n",
    ")"
   ]
  },
  {
   "cell_type": "code",
   "execution_count": 27,
   "id": "e8cd130e",
   "metadata": {},
   "outputs": [
    {
     "name": "stdout",
     "output_type": "stream",
     "text": [
      "Creating relationships with similarity threshold: 0.8\n",
      "Created 234 relationships above threshold 0.8\n",
      "Created 234 reverse relationships\n",
      "Manual taxonomy created with 468 total relationships\n",
      "Graph has 358 nodes and 468 edges\n"
     ]
    }
   ],
   "source": [
    "# Create relationships based on similarity threshold\n",
    "similarity_threshold = 0.8  # Only consider high similarities to reduce noise\n",
    "relationships = []\n",
    "\n",
    "print(f\"Creating relationships with similarity threshold: {similarity_threshold}\")\n",
    "\n",
    "# Domain 0: Caltech256, Domain 1: Caltech101\n",
    "for caltech256_idx, caltech256_similarities in enumerate(similarity_matrix):\n",
    "    for caltech101_idx, similarity in enumerate(caltech256_similarities):\n",
    "        if similarity > similarity_threshold:\n",
    "            # Create relationship: Caltech256 class -> Caltech101 class\n",
    "            target_class = DomainClass(\n",
    "                (np.intp(0), np.intp(caltech256_idx))\n",
    "            )  # Caltech256\n",
    "            source_class = DomainClass(\n",
    "                (np.intp(1), np.intp(caltech101_idx))\n",
    "            )  # Caltech101\n",
    "            relationship = Relationship((target_class, source_class, float(similarity)))\n",
    "            relationships.append(relationship)\n",
    "\n",
    "print(\n",
    "    f\"Created {len(relationships)} relationships above threshold {similarity_threshold}\"\n",
    ")\n",
    "\n",
    "# Also add reverse relationships (Caltech101 -> Caltech256)\n",
    "reverse_relationships = []\n",
    "for caltech101_idx in range(len(caltech101_clean_labels)):\n",
    "    for caltech256_idx in range(len(caltech256_clean_labels)):\n",
    "        similarity = similarity_matrix[caltech256_idx, caltech101_idx]\n",
    "        if similarity > similarity_threshold:\n",
    "            # Create relationship: Caltech101 class -> Caltech256 class\n",
    "            target_class = DomainClass(\n",
    "                (np.intp(1), np.intp(caltech101_idx))\n",
    "            )  # Caltech101\n",
    "            source_class = DomainClass(\n",
    "                (np.intp(0), np.intp(caltech256_idx))\n",
    "            )  # Caltech256\n",
    "            relationship = Relationship((target_class, source_class, float(similarity)))\n",
    "            reverse_relationships.append(relationship)\n",
    "\n",
    "print(f\"Created {len(reverse_relationships)} reverse relationships\")\n",
    "\n",
    "# Combine all relationships\n",
    "all_relationships = relationships + reverse_relationships\n",
    "\n",
    "# Create domain labels for visualization\n",
    "domain_labels = {\n",
    "    0: caltech256_clean_labels,  # Caltech256\n",
    "    1: caltech101_clean_labels,  # Caltech101\n",
    "}\n",
    "\n",
    "# Create the ManualTaxonomy\n",
    "manual_taxonomy = ManualTaxonomy(\n",
    "    num_nodes=[len(caltech256_clean_labels), len(caltech101_clean_labels)],\n",
    "    num_domains=2,\n",
    "    relationships=all_relationships,\n",
    "    domain_labels=domain_labels,\n",
    ")\n",
    "\n",
    "print(f\"Manual taxonomy created with {len(all_relationships)} total relationships\")\n",
    "print(\n",
    "    f\"Graph has {manual_taxonomy.graph.number_of_nodes()} nodes and {manual_taxonomy.graph.number_of_edges()} edges\"\n",
    ")"
   ]
  },
  {
   "cell_type": "code",
   "execution_count": 28,
   "id": "140dc627",
   "metadata": {},
   "outputs": [
    {
     "name": "stdout",
     "output_type": "stream",
     "text": [
      "Caltech256 domain mapping: 257 classes\n",
      "Caltech101 domain mapping: 101 classes\n",
      "Caltech256 dataset size: 3060\n",
      "Caltech101 dataset size: 867\n"
     ]
    }
   ],
   "source": [
    "# Create domain mappings for model training\n",
    "# Caltech256 mapping (original class index -> domain class index)\n",
    "caltech256_mapping = {i: i for i in range(len(caltech256_clean_labels))}\n",
    "\n",
    "# Caltech101 mapping (original class index -> domain class index)\n",
    "caltech101_mapping = {i: i for i in range(len(caltech101_clean_labels))}\n",
    "\n",
    "print(f\"Caltech256 domain mapping: {len(caltech256_mapping)} classes\")\n",
    "print(f\"Caltech101 domain mapping: {len(caltech101_mapping)} classes\")\n",
    "\n",
    "# Load target information for creating proper mappings\n",
    "caltech256_targets = pd.read_csv(\"data/caltech256.csv\")\n",
    "caltech101_targets = pd.read_csv(\"data/caltech101.csv\")\n",
    "\n",
    "print(f\"Caltech256 dataset size: {len(caltech256_targets)}\")\n",
    "print(f\"Caltech101 dataset size: {len(caltech101_targets)}\")"
   ]
  },
  {
   "cell_type": "code",
   "execution_count": 29,
   "id": "fdcc436c",
   "metadata": {},
   "outputs": [],
   "source": [
    "def train_domain_model(dataset_class, mapping, domain_name, logger_name, model_name):\n",
    "    \"\"\"Train a ResNet model for a specific domain\"\"\"\n",
    "    tb_logger = pl_loggers.TensorBoardLogger(save_dir=\"logs\", name=logger_name)\n",
    "    dataset = dataset_class(mapping=mapping)\n",
    "\n",
    "    trainer = Trainer(\n",
    "        max_epochs=50,\n",
    "        logger=tb_logger if TRAIN else False,\n",
    "        callbacks=[\n",
    "            ModelCheckpoint(\n",
    "                dirpath=\"checkpoints\",\n",
    "                monitor=\"val_loss\",\n",
    "                mode=\"min\",\n",
    "                save_top_k=1,\n",
    "                filename=model_name,\n",
    "                enable_version_counter=False,\n",
    "            )\n",
    "        ],\n",
    "    )\n",
    "\n",
    "    if TRAIN:\n",
    "        model = ResNetModel(\n",
    "            num_classes=len(set(mapping.values())),\n",
    "            architecture=\"resnet50\",\n",
    "            optim=\"sgd\",\n",
    "            optim_kwargs={\n",
    "                \"lr\": 0.01,\n",
    "                \"momentum\": 0.9,\n",
    "                \"weight_decay\": 5e-4,\n",
    "            },\n",
    "        )\n",
    "        trainer.fit(model, datamodule=dataset)\n",
    "        results = trainer.test(datamodule=dataset, ckpt_path=\"best\")\n",
    "    else:\n",
    "        model = ResNetModel.load_from_checkpoint(f\"checkpoints/{model_name}.ckpt\")\n",
    "        results = trainer.test(model, datamodule=dataset)\n",
    "\n",
    "    print(f\"{domain_name} Results: {results}\")\n",
    "    return results"
   ]
  },
  {
   "cell_type": "code",
   "execution_count": 30,
   "id": "4c66c9e0",
   "metadata": {},
   "outputs": [
    {
     "name": "stdout",
     "output_type": "stream",
     "text": [
      "Training/Testing Caltech256 Model:\n"
     ]
    },
    {
     "name": "stderr",
     "output_type": "stream",
     "text": [
      "GPU available: True (cuda), used: True\n",
      "TPU available: False, using: 0 TPU cores\n",
      "HPU available: False, using: 0 HPUs\n",
      "LOCAL_RANK: 0 - CUDA_VISIBLE_DEVICES: [0]\n",
      "/home/bjoern/miniconda3/envs/master-thesis/lib/python3.13/site-packages/lightning/pytorch/trainer/connectors/data_connector.py:425: The 'test_dataloader' does not have many workers which may be a bottleneck. Consider increasing the value of the `num_workers` argument` to `num_workers=11` in the `DataLoader` to improve performance.\n"
     ]
    },
    {
     "name": "stdout",
     "output_type": "stream",
     "text": [
      "Testing DataLoader 0: 100%|██████████| 48/48 [00:14<00:00,  3.37it/s]\n",
      "────────────────────────────────────────────────────────────────────────────────────────────────────────────────────────\n",
      "       Test metric             DataLoader 0\n",
      "────────────────────────────────────────────────────────────────────────────────────────────────────────────────────────\n",
      "      eval_accuracy         0.6993464231491089\n",
      "        eval_loss           1.4174646139144897\n",
      "        hp_metric           0.6993464231491089\n",
      "────────────────────────────────────────────────────────────────────────────────────────────────────────────────────────\n",
      "Caltech256 Results: [{'eval_loss': 1.4174646139144897, 'eval_accuracy': 0.6993464231491089, 'hp_metric': 0.6993464231491089}]\n"
     ]
    }
   ],
   "source": [
    "# Train Caltech256 model\n",
    "print(\"Training/Testing Caltech256 Model:\")\n",
    "caltech256_results = train_domain_model(\n",
    "    Caltech256MappedDataModule,\n",
    "    caltech256_mapping,\n",
    "    \"Caltech256\",\n",
    "    \"caltech256_wordnet\",\n",
    "    \"resnet50-caltech256-min-val-loss\",\n",
    ")"
   ]
  },
  {
   "cell_type": "code",
   "execution_count": 31,
   "id": "225f262b",
   "metadata": {},
   "outputs": [
    {
     "name": "stderr",
     "output_type": "stream",
     "text": [
      "GPU available: True (cuda), used: True\n",
      "TPU available: False, using: 0 TPU cores\n",
      "HPU available: False, using: 0 HPUs\n"
     ]
    },
    {
     "name": "stdout",
     "output_type": "stream",
     "text": [
      "Training/Testing Caltech101 Model:\n"
     ]
    },
    {
     "name": "stderr",
     "output_type": "stream",
     "text": [
      "LOCAL_RANK: 0 - CUDA_VISIBLE_DEVICES: [0]\n"
     ]
    },
    {
     "name": "stdout",
     "output_type": "stream",
     "text": [
      "Testing DataLoader 0: 100%|██████████| 14/14 [00:03<00:00,  4.48it/s]\n",
      "────────────────────────────────────────────────────────────────────────────────────────────────────────────────────────\n",
      "       Test metric             DataLoader 0\n",
      "────────────────────────────────────────────────────────────────────────────────────────────────────────────────────────\n",
      "      eval_accuracy         0.9158016443252563\n",
      "        eval_loss           0.33412083983421326\n",
      "        hp_metric           0.9158016443252563\n",
      "────────────────────────────────────────────────────────────────────────────────────────────────────────────────────────\n",
      "Caltech101 Results: [{'eval_loss': 0.33412083983421326, 'eval_accuracy': 0.9158016443252563, 'hp_metric': 0.9158016443252563}]\n"
     ]
    }
   ],
   "source": [
    "# Train Caltech101 model\n",
    "print(\"Training/Testing Caltech101 Model:\")\n",
    "caltech101_results = train_domain_model(\n",
    "    Caltech101MappedDataModule,\n",
    "    caltech101_mapping,\n",
    "    \"Caltech101\",\n",
    "    \"caltech101_wordnet\",\n",
    "    \"resnet50-caltech101-min-val-loss\",\n",
    ")"
   ]
  },
  {
   "cell_type": "code",
   "execution_count": 32,
   "id": "92d2103d",
   "metadata": {},
   "outputs": [
    {
     "name": "stdout",
     "output_type": "stream",
     "text": [
      "Using existing cross-domain prediction files...\n",
      "Caltech256 predictions shape: (3060, 2)\n",
      "Caltech101 predictions shape: (867, 2)\n",
      "Caltech256 predictions columns: ['caltech256', 'predictions_caltech101_on_caltech256']\n",
      "Caltech101 predictions columns: ['caltech101', 'predictions_caltech256_on_caltech101']\n",
      "\n",
      "Caltech256 sample data:\n",
      "   caltech256  predictions_caltech101_on_caltech256\n",
      "0         254                                    52\n",
      "1         231                                    30\n",
      "2          57                                     6\n",
      "3         132                                    18\n",
      "4         150                                    58\n",
      "\n",
      "Caltech101 sample data:\n",
      "   caltech101  predictions_caltech256_on_caltech101\n",
      "0          81                                   178\n",
      "1           8                                     9\n",
      "2          53                                   178\n",
      "3          92                                   229\n",
      "4           0                                   252\n"
     ]
    }
   ],
   "source": [
    "# Configuration for prediction generation - using centralized PREDICT constant\n",
    "\n",
    "# The prediction files already exist from previous runs, so we'll use those\n",
    "print(\"Using existing cross-domain prediction files...\")\n",
    "\n",
    "# Load prediction results from existing files\n",
    "df_caltech256 = pd.read_csv(\n",
    "    \"data/caltech256_caltech101_caltech256_real_predictions.csv\"\n",
    ")\n",
    "df_caltech101 = pd.read_csv(\n",
    "    \"data/caltech256_caltech101_caltech101_real_predictions.csv\"\n",
    ")\n",
    "\n",
    "print(f\"Caltech256 predictions shape: {df_caltech256.shape}\")\n",
    "print(f\"Caltech101 predictions shape: {df_caltech101.shape}\")\n",
    "\n",
    "# Display column names to understand the structure\n",
    "print(f\"Caltech256 predictions columns: {df_caltech256.columns.tolist()}\")\n",
    "print(f\"Caltech101 predictions columns: {df_caltech101.columns.tolist()}\")\n",
    "\n",
    "# Display sample data\n",
    "print(f\"\\nCaltech256 sample data:\")\n",
    "print(df_caltech256.head())\n",
    "print(f\"\\nCaltech101 sample data:\")\n",
    "print(df_caltech101.head())"
   ]
  },
  {
   "cell_type": "code",
   "execution_count": 33,
   "id": "9c316040",
   "metadata": {},
   "outputs": [
    {
     "name": "stdout",
     "output_type": "stream",
     "text": [
      "Taxonomy constructed from cross-domain predictions.\n",
      "Predicted taxonomy has 358 nodes and 356 edges\n"
     ]
    }
   ],
   "source": [
    "# Construct taxonomy from cross-domain predictions\n",
    "predicted_taxonomy = CrossPredictionsTaxonomy.from_cross_domain_predictions(\n",
    "    cross_domain_predictions=[\n",
    "        (\n",
    "            0,\n",
    "            1,\n",
    "            np.array(\n",
    "                df_caltech101[\"predictions_caltech256_on_caltech101\"], dtype=np.intp\n",
    "            ),\n",
    "        ),\n",
    "        (\n",
    "            1,\n",
    "            0,\n",
    "            np.array(\n",
    "                df_caltech256[\"predictions_caltech101_on_caltech256\"], dtype=np.intp\n",
    "            ),\n",
    "        ),\n",
    "    ],\n",
    "    domain_targets=[\n",
    "        (0, np.array(df_caltech256[\"caltech256\"], dtype=np.intp)),\n",
    "        (1, np.array(df_caltech101[\"caltech101\"], dtype=np.intp)),\n",
    "    ],\n",
    "    domain_labels=domain_labels,\n",
    "    relationship_type=\"mcfp\",\n",
    ")\n",
    "\n",
    "print(\"Taxonomy constructed from cross-domain predictions.\")\n",
    "print(\n",
    "    f\"Predicted taxonomy has {predicted_taxonomy.graph.number_of_nodes()} nodes and {predicted_taxonomy.graph.number_of_edges()} edges\"\n",
    ")"
   ]
  },
  {
   "cell_type": "code",
   "execution_count": 34,
   "id": "3ce42480",
   "metadata": {},
   "outputs": [
    {
     "name": "stdout",
     "output_type": "stream",
     "text": [
      "Generating taxonomy visualizations...\n",
      "Taxonomy visualizations saved to output/ directory.\n"
     ]
    }
   ],
   "source": [
    "# Generate and save taxonomy visualizations\n",
    "print(\"Generating taxonomy visualizations...\")\n",
    "\n",
    "predicted_taxonomy.visualize_graph(\"Caltech256-Caltech101 Model Taxonomy\").save_graph(\n",
    "    \"output/caltech256_caltech101_model_taxonomy.html\"\n",
    ")\n",
    "\n",
    "manual_taxonomy.visualize_graph(\n",
    "    \"Caltech256-Caltech101 WordNet Ground Truth Taxonomy\",\n",
    "    height=2000,\n",
    "    width=2000,\n",
    ").save_graph(\"output/caltech256_caltech101_wordnet_taxonomy.html\")\n",
    "\n",
    "print(\"Taxonomy visualizations saved to output/ directory.\")"
   ]
  },
  {
   "cell_type": "code",
   "execution_count": 35,
   "id": "7f2b99ce",
   "metadata": {},
   "outputs": [
    {
     "name": "stdout",
     "output_type": "stream",
     "text": [
      "Taxonomy Structure Comparison:\n",
      "WordNet Ground Truth - Nodes: 358, Edges: 468\n",
      "Model Predictions - Nodes: 358, Edges: 356\n",
      "\n",
      "Caltech256-Caltech101 WordNet Taxonomy Evaluation:\n",
      "Edge Difference Ratio: 0.9685\n",
      "Precision: 0.1236\n",
      "Recall: 0.0664\n",
      "F1 Score: 0.0864\n"
     ]
    }
   ],
   "source": [
    "print(\"Taxonomy Structure Comparison:\")\n",
    "print(\n",
    "    f\"WordNet Ground Truth - Nodes: {manual_taxonomy.graph.number_of_nodes()}, Edges: {manual_taxonomy.graph.number_of_edges()}\"\n",
    ")\n",
    "print(\n",
    "    f\"Model Predictions - Nodes: {predicted_taxonomy.graph.number_of_nodes()}, Edges: {predicted_taxonomy.graph.number_of_edges()}\"\n",
    ")\n",
    "\n",
    "try:\n",
    "    edr = predicted_taxonomy.edge_difference_ratio(manual_taxonomy)\n",
    "    precision, recall, f1 = predicted_taxonomy.precision_recall_f1(manual_taxonomy)\n",
    "\n",
    "    print(\"\\nCaltech256-Caltech101 WordNet Taxonomy Evaluation:\")\n",
    "    print(f\"Edge Difference Ratio: {edr:.4f}\")\n",
    "    print(f\"Precision: {precision:.4f}\")\n",
    "    print(f\"Recall: {recall:.4f}\")\n",
    "    print(f\"F1 Score: {f1:.4f}\")\n",
    "\n",
    "except ValueError as e:\n",
    "    print(f\"\\nEvaluation error: {e}\")\n",
    "    print(\"Still having issues with taxonomy comparison.\")"
   ]
  },
  {
   "cell_type": "code",
   "execution_count": 36,
   "id": "1cf7699b",
   "metadata": {},
   "outputs": [
    {
     "name": "stdout",
     "output_type": "stream",
     "text": [
      "Building universal taxonomies...\n",
      "Universal taxonomy visualizations saved to output/ directory.\n",
      "\n",
      "Final Summary:\n",
      "WordNet similarity threshold used: 0.8\n",
      "Total relationships created: 468\n",
      "WordNet taxonomy edges: 663\n",
      "Predicted taxonomy edges: 598\n",
      "Evaluation F1 Score: 0.0864\n"
     ]
    }
   ],
   "source": [
    "# Build universal taxonomies\n",
    "print(\"Building universal taxonomies...\")\n",
    "\n",
    "predicted_taxonomy.build_universal_taxonomy()\n",
    "predicted_taxonomy.visualize_graph(\n",
    "    \"Caltech256-Caltech101 Model Universal Taxonomy\"\n",
    ").save_graph(\"output/caltech256_caltech101_model_universal_taxonomy.html\")\n",
    "\n",
    "manual_taxonomy.build_universal_taxonomy()\n",
    "manual_taxonomy.visualize_graph(\n",
    "    \"Caltech256-Caltech101 WordNet Universal Taxonomy\"\n",
    ").save_graph(\"output/caltech256_caltech101_wordnet_universal_taxonomy.html\")\n",
    "\n",
    "print(\"Universal taxonomy visualizations saved to output/ directory.\")\n",
    "\n",
    "# Summary statistics\n",
    "print(f\"\\nFinal Summary:\")\n",
    "print(f\"WordNet similarity threshold used: {similarity_threshold}\")\n",
    "print(f\"Total relationships created: {len(all_relationships)}\")\n",
    "print(f\"WordNet taxonomy edges: {manual_taxonomy.graph.number_of_edges()}\")\n",
    "print(f\"Predicted taxonomy edges: {predicted_taxonomy.graph.number_of_edges()}\")\n",
    "try:\n",
    "    print(f\"Evaluation F1 Score: {f1:.4f}\")\n",
    "except:\n",
    "    print(\"F1 Score: Not available due to evaluation issues\")"
   ]
  }
 ],
 "metadata": {
  "kernelspec": {
   "display_name": "master-thesis",
   "language": "python",
   "name": "python3"
  },
  "language_info": {
   "codemirror_mode": {
    "name": "ipython",
    "version": 3
   },
   "file_extension": ".py",
   "mimetype": "text/x-python",
   "name": "python",
   "nbconvert_exporter": "python",
   "pygments_lexer": "ipython3",
   "version": "3.13.2"
  }
 },
 "nbformat": 4,
 "nbformat_minor": 5
}
