{
 "cells": [
  {
   "cell_type": "code",
   "execution_count": 3,
   "metadata": {},
   "outputs": [
    {
     "name": "stderr",
     "output_type": "stream",
     "text": [
      "GPU available: True (cuda), used: True\n",
      "TPU available: False, using: 0 TPU cores\n",
      "HPU available: False, using: 0 HPUs\n",
      "LOCAL_RANK: 0 - CUDA_VISIBLE_DEVICES: [0]\n",
      "/home/sentinel/.conda/envs/master-thesis/lib/python3.13/site-packages/lightning/pytorch/trainer/connectors/data_connector.py:425: The 'test_dataloader' does not have many workers which may be a bottleneck. Consider increasing the value of the `num_workers` argument` to `num_workers=11` in the `DataLoader` to improve performance.\n"
     ]
    },
    {
     "name": "stdout",
     "output_type": "stream",
     "text": [
      "Testing DataLoader 0: 100%|██████████| 28/28 [00:02<00:00,  9.74it/s]\n",
      "────────────────────────────────────────────────────────────────────────────────────────────────────────────────────────\n",
      "       Test metric             DataLoader 0\n",
      "────────────────────────────────────────────────────────────────────────────────────────────────────────────────────────\n",
      "      eval_accuracy         0.9711649417877197\n",
      "        eval_loss           0.09238769114017487\n",
      "        hp_metric           0.9711649417877197\n",
      "────────────────────────────────────────────────────────────────────────────────────────────────────────────────────────\n",
      "[{'eval_loss': 0.09238769114017487, 'eval_accuracy': 0.9711649417877197, 'hp_metric': 0.9711649417877197}]\n"
     ]
    }
   ],
   "source": [
    "import lightning as pl\n",
    "from lightning.pytorch import loggers as pl_loggers\n",
    "import torch\n",
    "from models import *\n",
    "from datasets import *\n",
    "\n",
    "\n",
    "# Reduce the precision of matrix multiplication to speed up training\n",
    "torch.set_float32_matmul_precision(\"medium\")\n",
    "\n",
    "\n",
    "tb_logger = pl_loggers.TensorBoardLogger(save_dir=\"logs\", name=\"caltech101\")\n",
    "dataset = Caltech101DataModule()\n",
    "model_name = \"resnet50-caltech101-min-val-loss\"\n",
    "trainer = pl.Trainer(\n",
    "    max_epochs=10,\n",
    "    logger=tb_logger,\n",
    "    callbacks=[\n",
    "        # Save the model with the lowest validation loss\n",
    "        pl.pytorch.callbacks.ModelCheckpoint(\n",
    "            dirpath=\"checkpoints\",\n",
    "            monitor=\"val_loss\",\n",
    "            mode=\"min\",\n",
    "            save_top_k=1,\n",
    "            filename=model_name,\n",
    "            enable_version_counter=False,\n",
    "        )\n",
    "    ],\n",
    ")\n",
    "\n",
    "TRAIN = False\n",
    "\n",
    "if TRAIN:\n",
    "    model = ResNetModule(\n",
    "        num_classes=101,\n",
    "        architecture=\"resnet50\",\n",
    "        optim=\"sgd\",\n",
    "        lr=0.01,\n",
    "        momentum=0.9,\n",
    "        weight_decay=5e-4,\n",
    "    )\n",
    "    trainer.fit(model, datamodule=dataset)\n",
    "\n",
    "    # Test with the best model from the checkpoint\n",
    "    results = trainer.test(datamodule=dataset, ckpt_path=\"best\")\n",
    "else:\n",
    "    model = ResNetModule.load_from_checkpoint(f\"checkpoints/{model_name}.ckpt\")\n",
    "    results = trainer.test(model, datamodule=dataset)\n",
    "\n",
    "print(results)"
   ]
  }
 ],
 "metadata": {
  "kernelspec": {
   "display_name": "Python 3",
   "language": "python",
   "name": "python3"
  },
  "language_info": {
   "codemirror_mode": {
    "name": "ipython",
    "version": 3
   },
   "file_extension": ".py",
   "mimetype": "text/x-python",
   "name": "python",
   "nbconvert_exporter": "python",
   "pygments_lexer": "ipython3",
   "version": "3.13.2"
  }
 },
 "nbformat": 4,
 "nbformat_minor": 2
}
