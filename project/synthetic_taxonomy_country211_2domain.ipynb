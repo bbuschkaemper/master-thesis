{
 "cells": [
  {
   "cell_type": "code",
   "execution_count": 31,
   "id": "d9529cf7",
   "metadata": {},
   "outputs": [
    {
     "name": "stdout",
     "output_type": "stream",
     "text": [
      "Total Country211 classes: 211\n"
     ]
    }
   ],
   "source": [
    "import pandas as pd\n",
    "import numpy as np\n",
    "import torch\n",
    "from lightning.pytorch.callbacks import ModelCheckpoint\n",
    "from lightning.pytorch import Trainer\n",
    "from lightning.pytorch import loggers as pl_loggers\n",
    "\n",
    "from library.taxonomy_constructors import SyntheticTaxonomy, CrossPredictionsTaxonomy\n",
    "from library.models import ResNetModel\n",
    "from library.datasets import Country211MappedDataModule, Country211Mapped\n",
    "\n",
    "# Load Country211 dataset information\n",
    "country211_dataset = Country211Mapped(root=\"datasets\", download=False)\n",
    "country211_labels = country211_dataset.classes\n",
    "print(f\"Total Country211 classes: {len(country211_labels)}\")\n",
    "\n",
    "# Create a simple target mapping for Country211 (0 to num_classes-1)\n",
    "country211_targets = pd.DataFrame(\n",
    "    {\"class_id\": range(len(country211_labels)), \"class_name\": country211_labels}\n",
    ")\n",
    "\n",
    "# Reduce the precision of matrix multiplication to speed up training\n",
    "torch.set_float32_matmul_precision(\"medium\")"
   ]
  },
  {
   "cell_type": "code",
   "execution_count": 32,
   "id": "ebf4092c",
   "metadata": {},
   "outputs": [
    {
     "name": "stdout",
     "output_type": "stream",
     "text": [
      "Domain A classes: 52\n",
      "Domain B classes: 49\n",
      "Domain A original classes: 152\n",
      "Domain B original classes: 152\n"
     ]
    }
   ],
   "source": [
    "# Create synthetic taxonomy with 2 domains for Country211\n",
    "synthetic_taxonomy = SyntheticTaxonomy.create_synthetic_taxonomy(\n",
    "    num_atomic_concepts=len(country211_labels),\n",
    "    num_domains=2,\n",
    "    domain_class_count_mean=150,  # Adjusted for Country211's 211 classes\n",
    "    domain_class_count_variance=10,\n",
    "    concept_cluster_size_mean=3,\n",
    "    concept_cluster_size_variance=1,\n",
    "    no_prediction_class=True,\n",
    "    atomic_concept_labels=country211_labels,\n",
    "    relationship_type=\"true\",\n",
    ")\n",
    "\n",
    "# Extract domain mappings\n",
    "domain_A_mapping = synthetic_taxonomy.domains[0].to_mapping()\n",
    "domain_B_mapping = synthetic_taxonomy.domains[1].to_mapping()\n",
    "\n",
    "print(f\"Domain A classes: {len(set(domain_A_mapping.values()))}\")\n",
    "print(f\"Domain B classes: {len(set(domain_B_mapping.values()))}\")\n",
    "print(f\"Domain A original classes: {len(domain_A_mapping)}\")\n",
    "print(f\"Domain B original classes: {len(domain_B_mapping)}\")"
   ]
  },
  {
   "cell_type": "code",
   "execution_count": 33,
   "id": "c87f25df",
   "metadata": {},
   "outputs": [],
   "source": [
    "# Configuration\n",
    "TRAIN = False\n",
    "\n",
    "\n",
    "def train_domain_model(domain_mapping, domain_name, logger_name, model_name):\n",
    "    \"\"\"Train a ResNet model for a specific domain using Country211\"\"\"\n",
    "    tb_logger = pl_loggers.TensorBoardLogger(save_dir=\"logs\", name=logger_name)\n",
    "    dataset = Country211MappedDataModule(mapping=domain_mapping, split=\"train\")\n",
    "\n",
    "    trainer = Trainer(\n",
    "        max_epochs=60,\n",
    "        logger=tb_logger if TRAIN else False,\n",
    "        callbacks=[\n",
    "            ModelCheckpoint(\n",
    "                dirpath=\"checkpoints\",\n",
    "                monitor=\"val_loss\",\n",
    "                mode=\"min\",\n",
    "                save_top_k=1,\n",
    "                filename=model_name,\n",
    "                enable_version_counter=False,\n",
    "            )\n",
    "        ],\n",
    "    )\n",
    "\n",
    "    if TRAIN:\n",
    "        model = ResNetModel(\n",
    "            num_classes=len(set(domain_mapping.values())),\n",
    "            architecture=\"resnet50\",\n",
    "            optim=\"sgd\",\n",
    "            optim_kwargs={\n",
    "                \"lr\": 0.01,\n",
    "                \"momentum\": 0.9,\n",
    "                \"weight_decay\": 5e-4,\n",
    "            },\n",
    "        )\n",
    "        trainer.fit(model, datamodule=dataset)\n",
    "        results = trainer.test(datamodule=dataset, ckpt_path=\"best\")\n",
    "    else:\n",
    "        model = ResNetModel.load_from_checkpoint(f\"checkpoints/{model_name}.ckpt\")\n",
    "        # results = trainer.test(model, datamodule=dataset)\n",
    "        results = []\n",
    "\n",
    "    print(f\"{domain_name} Results: {results}\")\n",
    "    return results"
   ]
  },
  {
   "cell_type": "code",
   "execution_count": 34,
   "id": "fae14c06",
   "metadata": {},
   "outputs": [
    {
     "name": "stderr",
     "output_type": "stream",
     "text": [
      "GPU available: True (cuda), used: True\n",
      "TPU available: False, using: 0 TPU cores\n",
      "HPU available: False, using: 0 HPUs\n"
     ]
    },
    {
     "name": "stdout",
     "output_type": "stream",
     "text": [
      "Training/Testing Domain A Model:\n",
      "Domain A Results: []\n"
     ]
    }
   ],
   "source": [
    "# Train Domain A model\n",
    "print(\"Training/Testing Domain A Model:\")\n",
    "domain_A_results = train_domain_model(\n",
    "    domain_A_mapping,\n",
    "    \"Domain A\",\n",
    "    \"country211_synthetic_A\",\n",
    "    \"resnet50-country211-synthetic-A-min-val-loss\",\n",
    ")"
   ]
  },
  {
   "cell_type": "code",
   "execution_count": 35,
   "id": "025e3fde",
   "metadata": {},
   "outputs": [
    {
     "name": "stderr",
     "output_type": "stream",
     "text": [
      "GPU available: True (cuda), used: True\n",
      "TPU available: False, using: 0 TPU cores\n",
      "HPU available: False, using: 0 HPUs\n"
     ]
    },
    {
     "name": "stdout",
     "output_type": "stream",
     "text": [
      "Training/Testing Domain B Model:\n",
      "Domain B Results: []\n"
     ]
    }
   ],
   "source": [
    "# Train Domain B model\n",
    "print(\"Training/Testing Domain B Model:\")\n",
    "domain_B_results = train_domain_model(\n",
    "    domain_B_mapping,\n",
    "    \"Domain B\",\n",
    "    \"country211_synthetic_B\",\n",
    "    \"resnet50-country211-synthetic-B-min-val-loss\",\n",
    ")"
   ]
  },
  {
   "cell_type": "code",
   "execution_count": 36,
   "id": "5c2f6e36",
   "metadata": {},
   "outputs": [
    {
     "name": "stdout",
     "output_type": "stream",
     "text": [
      "Domain A predictions shape: (15200, 2)\n",
      "Domain B predictions shape: (15200, 2)\n"
     ]
    }
   ],
   "source": [
    "# Configuration for prediction generation\n",
    "PREDICT = False\n",
    "\n",
    "if PREDICT:\n",
    "    # Load datasets\n",
    "    dataset_domain_A = Country211MappedDataModule(\n",
    "        mapping=domain_A_mapping, split=\"test\"\n",
    "    )\n",
    "    dataset_domain_B = Country211MappedDataModule(\n",
    "        mapping=domain_B_mapping, split=\"test\"\n",
    "    )\n",
    "\n",
    "    # Load trained models\n",
    "    model_domain_A = ResNetModel.load_from_checkpoint(\n",
    "        \"checkpoints/resnet50-country211-synthetic-A-min-val-loss.ckpt\"\n",
    "    )\n",
    "    model_domain_A.eval()\n",
    "\n",
    "    model_domain_B = ResNetModel.load_from_checkpoint(\n",
    "        \"checkpoints/resnet50-country211-synthetic-B-min-val-loss.ckpt\"\n",
    "    )\n",
    "    model_domain_B.eval()\n",
    "\n",
    "    trainer = Trainer(logger=False, enable_checkpointing=False)\n",
    "\n",
    "    # Generate cross-domain predictions\n",
    "    print(\"Generating cross-domain predictions...\")\n",
    "    model_A_on_domain_B = trainer.predict(model_domain_A, datamodule=dataset_domain_B)\n",
    "    model_B_on_domain_A = trainer.predict(model_domain_B, datamodule=dataset_domain_A)\n",
    "\n",
    "    # Convert predictions to class indices\n",
    "    predictions_A_on_B = torch.cat(model_A_on_domain_B).argmax(dim=1)  # type: ignore\n",
    "    predictions_B_on_A = torch.cat(model_B_on_domain_A).argmax(dim=1)  # type: ignore\n",
    "\n",
    "    # Get ground truth targets\n",
    "    domain_A_targets = torch.cat(\n",
    "        [label for _, label in dataset_domain_A.predict_dataloader()]\n",
    "    )\n",
    "    domain_B_targets = torch.cat(\n",
    "        [label for _, label in dataset_domain_B.predict_dataloader()]\n",
    "    )\n",
    "\n",
    "    # Save predictions\n",
    "    pd.DataFrame(\n",
    "        {\n",
    "            \"domain_A\": domain_A_targets,\n",
    "            \"predictions_B_on_A\": predictions_B_on_A,\n",
    "        }\n",
    "    ).to_csv(\"data/country211_2domain_A_predictions.csv\", index=False)\n",
    "\n",
    "    pd.DataFrame(\n",
    "        {\n",
    "            \"domain_B\": domain_B_targets,\n",
    "            \"predictions_A_on_B\": predictions_A_on_B,\n",
    "        }\n",
    "    ).to_csv(\"data/country211_2domain_B_predictions.csv\", index=False)\n",
    "\n",
    "    print(\"Predictions saved to CSV files.\")\n",
    "\n",
    "# Load prediction results\n",
    "df_A = pd.read_csv(\"data/country211_2domain_A_predictions.csv\")\n",
    "df_B = pd.read_csv(\"data/country211_2domain_B_predictions.csv\")\n",
    "\n",
    "print(f\"Domain A predictions shape: {df_A.shape}\")\n",
    "print(f\"Domain B predictions shape: {df_B.shape}\")"
   ]
  },
  {
   "cell_type": "code",
   "execution_count": null,
   "id": "ce16940c",
   "metadata": {},
   "outputs": [
    {
     "name": "stdout",
     "output_type": "stream",
     "text": [
      "Taxonomy constructed from cross-domain predictions.\n"
     ]
    }
   ],
   "source": [
    "# Construct taxonomy from cross-domain predictions\n",
    "taxonomy = CrossPredictionsTaxonomy.from_cross_domain_predictions(\n",
    "    cross_domain_predictions=[\n",
    "        (0, 1, np.array(df_B[\"predictions_A_on_B\"], dtype=np.intp)),\n",
    "        (1, 0, np.array(df_A[\"predictions_B_on_A\"], dtype=np.intp)),\n",
    "    ],\n",
    "    domain_targets=[\n",
    "        (0, np.array(df_A[\"domain_A\"], dtype=np.intp)),\n",
    "        (1, np.array(df_B[\"domain_B\"], dtype=np.intp)),\n",
    "    ],\n",
    "    domain_labels=synthetic_taxonomy.domain_labels,\n",
    "    relationship_type=\"density_threshold\",\n",
    "    threshold=0.5,\n",
    ")\n",
    "\n",
    "print(\"Taxonomy constructed from cross-domain predictions.\")"
   ]
  },
  {
   "cell_type": "code",
   "execution_count": 38,
   "id": "8ec30331",
   "metadata": {},
   "outputs": [
    {
     "name": "stdout",
     "output_type": "stream",
     "text": [
      "Generating taxonomy visualizations...\n",
      "Taxonomy visualizations saved to output/ directory.\n"
     ]
    }
   ],
   "source": [
    "# Generate and save taxonomy visualizations\n",
    "print(\"Generating taxonomy visualizations...\")\n",
    "\n",
    "taxonomy.visualize_graph(\"2-Domain Country211 Model Taxonomy\").save_graph(\n",
    "    \"output/country211_2domain_synthetic_model_taxonomy.html\"\n",
    ")\n",
    "\n",
    "synthetic_taxonomy.visualize_graph(\n",
    "    \"2-Domain Country211 Ground Truth Taxonomy\"\n",
    ").save_graph(\"output/country211_2domain_synthetic_taxonomy.html\")\n",
    "\n",
    "print(\"Taxonomy visualizations saved to output/ directory.\")"
   ]
  },
  {
   "cell_type": "code",
   "execution_count": 39,
   "id": "d3e6672b",
   "metadata": {},
   "outputs": [
    {
     "name": "stdout",
     "output_type": "stream",
     "text": [
      "2-Domain Country211 Taxonomy Evaluation:\n",
      "Edge Difference Ratio: 0.9394\n",
      "Precision: 0.3043\n",
      "Recall: 0.2500\n",
      "F1 Score: 0.2745\n"
     ]
    }
   ],
   "source": [
    "# Evaluate taxonomy against ground truth\n",
    "edr = taxonomy.edge_difference_ratio(synthetic_taxonomy)\n",
    "precision, recall, f1 = taxonomy.precision_recall_f1(synthetic_taxonomy)\n",
    "\n",
    "print(\"2-Domain Country211 Taxonomy Evaluation:\")\n",
    "print(f\"Edge Difference Ratio: {edr:.4f}\")\n",
    "print(f\"Precision: {precision:.4f}\")\n",
    "print(f\"Recall: {recall:.4f}\")\n",
    "print(f\"F1 Score: {f1:.4f}\")"
   ]
  },
  {
   "cell_type": "code",
   "execution_count": 40,
   "id": "ffdf6947",
   "metadata": {},
   "outputs": [
    {
     "name": "stdout",
     "output_type": "stream",
     "text": [
      "Building universal taxonomies...\n",
      "Universal taxonomy visualizations saved to output/ directory.\n"
     ]
    }
   ],
   "source": [
    "# Build universal taxonomies\n",
    "print(\"Building universal taxonomies...\")\n",
    "\n",
    "taxonomy.build_universal_taxonomy()\n",
    "taxonomy.visualize_graph(\"2-Domain Country211 Model Universal Taxonomy\").save_graph(\n",
    "    \"output/country211_2domain_synthetic_model_universal_taxonomy.html\"\n",
    ")\n",
    "\n",
    "synthetic_taxonomy.build_universal_taxonomy()\n",
    "synthetic_taxonomy.visualize_graph(\n",
    "    \"2-Domain Country211 Ground Truth Universal Taxonomy\"\n",
    ").save_graph(\"output/country211_2domain_synthetic_universal_taxonomy.html\")\n",
    "\n",
    "print(\"Universal taxonomy visualizations saved to output/ directory.\")"
   ]
  }
 ],
 "metadata": {
  "kernelspec": {
   "display_name": "master-thesis",
   "language": "python",
   "name": "python3"
  },
  "language_info": {
   "codemirror_mode": {
    "name": "ipython",
    "version": 3
   },
   "file_extension": ".py",
   "mimetype": "text/x-python",
   "name": "python",
   "nbconvert_exporter": "python",
   "pygments_lexer": "ipython3",
   "version": "3.13.2"
  }
 },
 "nbformat": 4,
 "nbformat_minor": 5
}
