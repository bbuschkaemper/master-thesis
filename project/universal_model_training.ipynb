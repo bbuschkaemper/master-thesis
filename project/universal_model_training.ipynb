{
 "cells": [
  {
   "cell_type": "code",
   "execution_count": 1,
   "id": "249d7fbe",
   "metadata": {},
   "outputs": [
    {
     "name": "stdout",
     "output_type": "stream",
     "text": [
      "Caltech-256 classes: 257\n",
      "Caltech-101 classes: 101\n"
     ]
    }
   ],
   "source": [
    "import pandas as pd\n",
    "import numpy as np\n",
    "import torch\n",
    "from torchvision.datasets import Caltech256, Caltech101\n",
    "from lightning.pytorch.callbacks import ModelCheckpoint\n",
    "from lightning.pytorch import Trainer\n",
    "from lightning.pytorch import loggers as pl_loggers\n",
    "\n",
    "from library.taxonomy import Taxonomy\n",
    "from library.models import UniversalResNetModel\n",
    "from library.datasets import (\n",
    "    Caltech256DataModule,\n",
    "    Caltech101DataModule,\n",
    "    CombinedDataModule,\n",
    ")\n",
    "\n",
    "# Load dataset information\n",
    "caltech256_labels = Caltech256(root=\"datasets/caltech256\", download=False).categories\n",
    "caltech101_labels = Caltech101(root=\"datasets/caltech101\", download=False).categories\n",
    "\n",
    "print(f\"Caltech-256 classes: {len(caltech256_labels)}\")\n",
    "print(f\"Caltech-101 classes: {len(caltech101_labels)}\")\n",
    "\n",
    "# Reduce the precision of matrix multiplication to speed up training\n",
    "torch.set_float32_matmul_precision(\"medium\")"
   ]
  },
  {
   "cell_type": "code",
   "execution_count": 2,
   "id": "25714df9",
   "metadata": {},
   "outputs": [],
   "source": [
    "# Load the universal taxonomy created from the real-world datasets\n",
    "taxonomy = Taxonomy.load(\"taxonomies/caltech256_caltech101_mcfp.pkl\")"
   ]
  },
  {
   "cell_type": "code",
   "execution_count": 3,
   "id": "d8a9cc06",
   "metadata": {},
   "outputs": [],
   "source": [
    "# Configuration for Multi-Domain Training\n",
    "\n",
    "# Training configuration\n",
    "TRAIN = True  # Set to True to train model from scratch\n",
    "\n",
    "# Create individual dataset modules\n",
    "caltech101_dm = Caltech101DataModule(batch_size=32)\n",
    "caltech256_dm = Caltech256DataModule(batch_size=32)\n",
    "\n",
    "# Create combined data module with domain IDs\n",
    "# Domain 0: Caltech-101, Domain 1: Caltech-256\n",
    "dataset_module = CombinedDataModule(\n",
    "    dataset_modules=[caltech101_dm, caltech256_dm], domain_ids=[0, 1], batch_size=64\n",
    ")\n",
    "\n",
    "dataset_name = \"Caltech-101 + Caltech-256 (Multi-Domain)\"\n",
    "model_name = \"universal-resnet50-multi-domain-min-val-loss\"\n",
    "logger_name = \"universal_multi_domain\""
   ]
  },
  {
   "cell_type": "code",
   "execution_count": 4,
   "id": "fc0c7bd3",
   "metadata": {},
   "outputs": [],
   "source": [
    "# Training configuration\n",
    "training_config = {\n",
    "    \"max_epochs\": 100,\n",
    "    \"optim\": \"adamw\",\n",
    "    \"optim_kwargs\": {\n",
    "        \"lr\": 0.001,\n",
    "        \"weight_decay\": 0.001,\n",
    "    },\n",
    "    \"lr_scheduler\": \"multistep\",\n",
    "    \"lr_scheduler_kwargs\": {\n",
    "        \"milestones\": [15, 30, 40],\n",
    "        \"gamma\": 0.1,\n",
    "    },\n",
    "}\n",
    "\n",
    "# Create the Universal ResNet model\n",
    "model = UniversalResNetModel(\n",
    "    taxonomy=taxonomy,\n",
    "    architecture=\"resnet50\",\n",
    "    optim=training_config[\"optim\"],\n",
    "    optim_kwargs=training_config[\"optim_kwargs\"],\n",
    "    lr_scheduler=training_config[\"lr_scheduler\"],\n",
    "    lr_scheduler_kwargs=training_config[\"lr_scheduler_kwargs\"],\n",
    ")"
   ]
  },
  {
   "cell_type": "code",
   "execution_count": 5,
   "id": "fb2e34cd",
   "metadata": {},
   "outputs": [
    {
     "name": "stderr",
     "output_type": "stream",
     "text": [
      "GPU available: True (cuda), used: True\n",
      "TPU available: False, using: 0 TPU cores\n",
      "HPU available: False, using: 0 HPUs\n"
     ]
    },
    {
     "name": "stdout",
     "output_type": "stream",
     "text": [
      "Trainer configured for training\n"
     ]
    }
   ],
   "source": [
    "# Setup trainer\n",
    "if TRAIN:\n",
    "    tb_logger = pl_loggers.TensorBoardLogger(save_dir=\"logs\", name=logger_name)\n",
    "\n",
    "    trainer = Trainer(\n",
    "        max_epochs=training_config[\"max_epochs\"],\n",
    "        logger=tb_logger,\n",
    "        callbacks=[\n",
    "            ModelCheckpoint(\n",
    "                dirpath=\"checkpoints\",\n",
    "                monitor=\"val_loss\",\n",
    "                mode=\"min\",\n",
    "                save_top_k=1,\n",
    "                filename=model_name,\n",
    "                enable_version_counter=False,\n",
    "            )\n",
    "        ],\n",
    "        enable_progress_bar=True,\n",
    "        enable_model_summary=True,\n",
    "    )\n",
    "\n",
    "    print(\"Trainer configured for training\")\n",
    "else:\n",
    "    trainer = Trainer(\n",
    "        logger=False,\n",
    "        enable_checkpointing=False,\n",
    "        enable_progress_bar=True,\n",
    "    )\n",
    "\n",
    "    print(\"Trainer configured for evaluation only\")"
   ]
  },
  {
   "cell_type": "code",
   "execution_count": null,
   "id": "e9b613db",
   "metadata": {},
   "outputs": [
    {
     "name": "stderr",
     "output_type": "stream",
     "text": [
      "/home/bjoern/miniconda3/envs/master-thesis/lib/python3.13/site-packages/lightning/pytorch/callbacks/model_checkpoint.py:654: Checkpoint directory /home/bjoern/dev/master-thesis/project/checkpoints exists and is not empty.\n",
      "LOCAL_RANK: 0 - CUDA_VISIBLE_DEVICES: [0]\n"
     ]
    },
    {
     "name": "stdout",
     "output_type": "stream",
     "text": [
      "Starting training on Caltech-101 + Caltech-256 (Multi-Domain)...\n",
      "Expected training time: ~100 epochs\n"
     ]
    },
    {
     "name": "stderr",
     "output_type": "stream",
     "text": [
      "\n",
      "  | Name      | Type      | Params | Mode \n",
      "------------------------------------------------\n",
      "0 | model     | ResNet    | 26.0 M | train\n",
      "1 | criterion | KLDivLoss | 0      | train\n",
      "------------------------------------------------\n",
      "26.0 M    Trainable params\n",
      "0         Non-trainable params\n",
      "26.0 M    Total params\n",
      "103.893   Total estimated model params size (MB)\n",
      "154       Modules in train mode\n",
      "0         Modules in eval mode\n"
     ]
    },
    {
     "name": "stdout",
     "output_type": "stream",
     "text": [
      "Sanity Checking: |          | 0/? [00:00<?, ?it/s]"
     ]
    },
    {
     "name": "stderr",
     "output_type": "stream",
     "text": [
      "/home/bjoern/miniconda3/envs/master-thesis/lib/python3.13/site-packages/lightning/pytorch/trainer/connectors/data_connector.py:425: The 'val_dataloader' does not have many workers which may be a bottleneck. Consider increasing the value of the `num_workers` argument` to `num_workers=11` in the `DataLoader` to improve performance.\n"
     ]
    },
    {
     "name": "stdout",
     "output_type": "stream",
     "text": [
      "Sanity Checking DataLoader 0:  50%|█████     | 1/2 [00:00<00:00,  1.66it/s]"
     ]
    },
    {
     "name": "stderr",
     "output_type": "stream",
     "text": [
      "/home/bjoern/miniconda3/envs/master-thesis/lib/python3.13/site-packages/lightning/pytorch/utilities/data.py:79: Trying to infer the `batch_size` from an ambiguous collection. The batch size we found is 64. To avoid any miscalculations, use `self.log(..., batch_size=batch_size)`.\n"
     ]
    },
    {
     "name": "stdout",
     "output_type": "stream",
     "text": [
      "                                                                           "
     ]
    },
    {
     "name": "stderr",
     "output_type": "stream",
     "text": [
      "/home/bjoern/miniconda3/envs/master-thesis/lib/python3.13/site-packages/lightning/pytorch/trainer/connectors/data_connector.py:425: The 'train_dataloader' does not have many workers which may be a bottleneck. Consider increasing the value of the `num_workers` argument` to `num_workers=11` in the `DataLoader` to improve performance.\n"
     ]
    },
    {
     "name": "stdout",
     "output_type": "stream",
     "text": [
      "Epoch 0:  76%|███████▋  | 376/492 [02:07<00:39,  2.95it/s, v_num=11]"
     ]
    }
   ],
   "source": [
    "# Train or load the model\n",
    "if TRAIN:\n",
    "    print(f\"Starting training on {dataset_name}...\")\n",
    "    print(f\"Expected training time: ~{training_config['max_epochs']} epochs\")\n",
    "\n",
    "    # Train the model\n",
    "    trainer.fit(model, datamodule=dataset_module)\n",
    "\n",
    "    print(\"Training completed!\")\n",
    "\n",
    "    # Test the trained model\n",
    "    print(\"Testing the trained model...\")\n",
    "    results = trainer.test(datamodule=dataset_module, ckpt_path=\"best\")\n",
    "\n",
    "else:\n",
    "    # Load pre-trained model\n",
    "    print(f\"Loading pre-trained model: {model_name}.ckpt\")\n",
    "    try:\n",
    "        model = UniversalResNetModel.load_from_checkpoint(\n",
    "            f\"checkpoints/{model_name}.ckpt\",\n",
    "            taxonomy=taxonomy,  # Need to pass taxonomy since it's not serialized\n",
    "        )\n",
    "\n",
    "        print(\"Model loaded successfully!\")\n",
    "\n",
    "        # Test the loaded model\n",
    "        results = trainer.test(model, datamodule=dataset_module)\n",
    "\n",
    "    except FileNotFoundError:\n",
    "        print(f\"Checkpoint file not found: checkpoints/{model_name}.ckpt\")\n",
    "        print(\"Please set TRAIN=True to train the model first.\")\n",
    "        results = None\n",
    "\n",
    "if results:\n",
    "    print(f\"\\nTest Results for {dataset_name}:\")\n",
    "    for key, value in results[0].items():\n",
    "        print(f\"  {key}: {value:.4f}\")"
   ]
  }
 ],
 "metadata": {
  "kernelspec": {
   "display_name": "master-thesis",
   "language": "python",
   "name": "python3"
  },
  "language_info": {
   "codemirror_mode": {
    "name": "ipython",
    "version": 3
   },
   "file_extension": ".py",
   "mimetype": "text/x-python",
   "name": "python",
   "nbconvert_exporter": "python",
   "pygments_lexer": "ipython3",
   "version": "3.13.2"
  }
 },
 "nbformat": 4,
 "nbformat_minor": 5
}
