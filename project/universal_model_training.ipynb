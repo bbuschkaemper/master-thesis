{
 "cells": [
  {
   "cell_type": "code",
   "execution_count": 1,
   "id": "249d7fbe",
   "metadata": {},
   "outputs": [
    {
     "name": "stdout",
     "output_type": "stream",
     "text": [
      "Caltech-256 classes: 257\n",
      "Caltech-101 classes: 101\n",
      "CIFAR-100 classes: 100\n"
     ]
    }
   ],
   "source": [
    "import pandas as pd\n",
    "import numpy as np\n",
    "import torch\n",
    "from torchvision.datasets import Caltech256, Caltech101, CIFAR100\n",
    "from lightning.pytorch.callbacks import ModelCheckpoint\n",
    "from lightning.pytorch import Trainer\n",
    "from lightning.pytorch import loggers as pl_loggers\n",
    "\n",
    "from library.taxonomy import Taxonomy\n",
    "from library.models.universal_resnet import UniversalResNetModel\n",
    "from library.datasets.caltech101 import Caltech101DataModule\n",
    "from library.datasets.caltech256 import Caltech256DataModule\n",
    "from library.datasets.cifar100 import CIFAR100ScaledDataModule, CIFAR100DataModule\n",
    "from library.datasets.util import CombinedDataModule\n",
    "\n",
    "# Load dataset information\n",
    "caltech256_labels = Caltech256(root=\"datasets/caltech256\", download=False).categories\n",
    "caltech101_labels = Caltech101(root=\"datasets/caltech101\", download=False).categories\n",
    "cifar100_labels = CIFAR100(\n",
    "    root=\"datasets/cifar100\", download=False, train=False\n",
    ").classes\n",
    "\n",
    "print(f\"Caltech-256 classes: {len(caltech256_labels)}\")\n",
    "print(f\"Caltech-101 classes: {len(caltech101_labels)}\")\n",
    "print(f\"CIFAR-100 classes: {len(cifar100_labels)}\")\n",
    "\n",
    "# Reduce the precision of matrix multiplication to speed up training\n",
    "torch.set_float32_matmul_precision(\"medium\")"
   ]
  },
  {
   "cell_type": "code",
   "execution_count": 2,
   "id": "25714df9",
   "metadata": {},
   "outputs": [],
   "source": [
    "# Load both taxonomies created from the real-world datasets\n",
    "hypothesis_taxonomy = Taxonomy.load(\"taxonomies/caltech256_caltech101_hypothesis.pkl\")\n",
    "mcfp_taxonomy = Taxonomy.load(\"taxonomies/caltech256_caltech101_mcfp.pkl\")\n",
    "mcfp_binary_taxonomy = Taxonomy.load(\"taxonomies/caltech256_caltech101_mcfp_binary.pkl\")\n",
    "\n",
    "# Load the threshold-based taxonomies with optimal parameters\n",
    "density_threshold_taxonomy = Taxonomy.load(\n",
    "    \"taxonomies/caltech256_caltech101_density_threshold.pkl\"\n",
    ")\n",
    "naive_threshold_taxonomy = Taxonomy.load(\n",
    "    \"taxonomies/caltech256_caltech101_naive_threshold.pkl\"\n",
    ")\n",
    "\n",
    "# Load the three-domain taxonomies\n",
    "three_domain_hypothesis_taxonomy = Taxonomy.load(\n",
    "    \"taxonomies/three_domain_hypothesis.pkl\"\n",
    ")\n",
    "three_domain_mcfp_taxonomy = Taxonomy.load(\"taxonomies/three_domain_mcfp.pkl\")\n",
    "three_domain_mcfp_binary_taxonomy = Taxonomy.load(\n",
    "    \"taxonomies/three_domain_mcfp_binary.pkl\"\n",
    ")\n",
    "\n",
    "# Load the three-domain threshold-based taxonomies\n",
    "three_domain_density_threshold_taxonomy = Taxonomy.load(\n",
    "    \"taxonomies/three_domain_density_threshold.pkl\"\n",
    ")\n",
    "three_domain_naive_threshold_taxonomy = Taxonomy.load(\n",
    "    \"taxonomies/three_domain_naive_threshold.pkl\"\n",
    ")"
   ]
  },
  {
   "cell_type": "code",
   "execution_count": 3,
   "id": "d8a9cc06",
   "metadata": {},
   "outputs": [],
   "source": [
    "# Configuration for Multi-Domain Training\n",
    "\n",
    "# Training configuration\n",
    "TRAIN = False  # Set to True to train model from scratch\n",
    "\n",
    "# Create individual dataset modules\n",
    "caltech101_dm = Caltech101DataModule(batch_size=32)\n",
    "caltech256_dm = Caltech256DataModule(batch_size=32)\n",
    "cifar100_dm = CIFAR100ScaledDataModule(batch_size=32)\n",
    "cifar100_original_dm = CIFAR100DataModule(batch_size=32)\n",
    "\n",
    "# Create combined data module with domain IDs\n",
    "# Domain 0: Caltech-101, Domain 1: Caltech-256\n",
    "dataset_module = CombinedDataModule(\n",
    "    dataset_modules=[caltech101_dm, caltech256_dm],\n",
    "    domain_ids=[0, 1],\n",
    "    batch_size=64,\n",
    "    num_workers=11,\n",
    ")\n",
    "\n",
    "# Create three-domain data module\n",
    "# Domain 0: Caltech-101, Domain 1: Caltech-256, Domain 2: CIFAR-100\n",
    "three_domain_dataset_module = CombinedDataModule(\n",
    "    dataset_modules=[caltech101_dm, caltech256_dm, cifar100_dm],\n",
    "    domain_ids=[0, 1, 2],\n",
    "    batch_size=64,\n",
    "    num_workers=11,\n",
    ")\n",
    "\n",
    "dataset_name = \"Caltech-101 + Caltech-256 (Multi-Domain)\"\n",
    "three_domain_dataset_name = \"Caltech-101 + Caltech-256 + CIFAR-100 (Three-Domain)\"\n",
    "\n",
    "# Configuration for all taxonomies\n",
    "taxonomies_config = {\n",
    "    \"hypothesis\": {\n",
    "        \"taxonomy\": hypothesis_taxonomy,\n",
    "        \"model_name\": \"universal-resnet50-hypothesis-multi-domain-min-val-loss\",\n",
    "        \"logger_name\": \"universal_hypothesis_multi_domain\",\n",
    "    },\n",
    "    \"mcfp\": {\n",
    "        \"taxonomy\": mcfp_taxonomy,\n",
    "        \"model_name\": \"universal-resnet50-mcfp-multi-domain-min-val-loss\",\n",
    "        \"logger_name\": \"universal_mcfp_multi_domain\",\n",
    "    },\n",
    "    \"mcfp_binary\": {\n",
    "        \"taxonomy\": mcfp_binary_taxonomy,\n",
    "        \"model_name\": \"universal-resnet50-mcfp-binary-multi-domain-min-val-loss\",\n",
    "        \"logger_name\": \"universal_mcfp_binary_multi_domain\",\n",
    "    },\n",
    "    \"density_threshold\": {\n",
    "        \"taxonomy\": density_threshold_taxonomy,\n",
    "        \"model_name\": \"universal-resnet50-density-threshold-multi-domain-min-val-loss\",\n",
    "        \"logger_name\": \"universal_density_threshold_multi_domain\",\n",
    "    },\n",
    "    \"naive_threshold\": {\n",
    "        \"taxonomy\": naive_threshold_taxonomy,\n",
    "        \"model_name\": \"universal-resnet50-naive-threshold-multi-domain-min-val-loss\",\n",
    "        \"logger_name\": \"universal_naive_threshold_multi_domain\",\n",
    "    },\n",
    "    \"three_domain_hypothesis\": {\n",
    "        \"taxonomy\": three_domain_hypothesis_taxonomy,\n",
    "        \"model_name\": \"universal-resnet50-three-domain-hypothesis-min-val-loss\",\n",
    "        \"logger_name\": \"universal_three_domain_hypothesis\",\n",
    "    },\n",
    "    \"three_domain_mcfp\": {\n",
    "        \"taxonomy\": three_domain_mcfp_taxonomy,\n",
    "        \"model_name\": \"universal-resnet50-three-domain-mcfp-min-val-loss\",\n",
    "        \"logger_name\": \"universal_three_domain_mcfp\",\n",
    "    },\n",
    "    \"three_domain_mcfp_binary\": {\n",
    "        \"taxonomy\": three_domain_mcfp_binary_taxonomy,\n",
    "        \"model_name\": \"universal-resnet50-three-domain-mcfp-binary-min-val-loss\",\n",
    "        \"logger_name\": \"universal_three_domain_mcfp_binary\",\n",
    "    },\n",
    "    \"three_domain_density_threshold\": {\n",
    "        \"taxonomy\": three_domain_density_threshold_taxonomy,\n",
    "        \"model_name\": \"universal-resnet50-three-domain-density-threshold-min-val-loss\",\n",
    "        \"logger_name\": \"universal_three_domain_density_threshold\",\n",
    "    },\n",
    "    \"three_domain_naive_threshold\": {\n",
    "        \"taxonomy\": three_domain_naive_threshold_taxonomy,\n",
    "        \"model_name\": \"universal-resnet50-three-domain-naive-threshold-min-val-loss\",\n",
    "        \"logger_name\": \"universal_three_domain_naive_threshold\",\n",
    "    },\n",
    "}"
   ]
  },
  {
   "cell_type": "code",
   "execution_count": 4,
   "id": "fc0c7bd3",
   "metadata": {},
   "outputs": [],
   "source": [
    "# Training configuration (shared for both models)\n",
    "training_config = {\n",
    "    \"max_epochs\": 50,\n",
    "    \"optim\": \"adamw\",\n",
    "    \"optim_kwargs\": {\n",
    "        \"lr\": 0.00005,  # Reduced from 0.0001\n",
    "        \"weight_decay\": 0.001,\n",
    "        \"betas\": (0.9, 0.999),\n",
    "        \"eps\": 1e-8,\n",
    "    },\n",
    "    \"lr_scheduler\": \"cosine\",  # Changed from multistep\n",
    "    \"lr_scheduler_kwargs\": {\n",
    "        \"T_max\": 50,  # matches max_epochs\n",
    "        \"eta_min\": 1e-7,\n",
    "    },\n",
    "}"
   ]
  },
  {
   "cell_type": "code",
   "execution_count": 5,
   "id": "fb2e34cd",
   "metadata": {},
   "outputs": [
    {
     "name": "stderr",
     "output_type": "stream",
     "text": [
      "GPU available: True (cuda), used: True\n",
      "TPU available: False, using: 0 TPU cores\n",
      "HPU available: False, using: 0 HPUs\n"
     ]
    },
    {
     "name": "stdout",
     "output_type": "stream",
     "text": [
      "Loading pre-trained model: universal-resnet50-hypothesis-multi-domain-min-val-loss.ckpt\n"
     ]
    },
    {
     "name": "stderr",
     "output_type": "stream",
     "text": [
      "LOCAL_RANK: 0 - CUDA_VISIBLE_DEVICES: [0]\n"
     ]
    },
    {
     "name": "stdout",
     "output_type": "stream",
     "text": [
      "Testing DataLoader 0:   3%|▎         | 2/62 [00:01<00:53,  1.11it/s]"
     ]
    },
    {
     "name": "stderr",
     "output_type": "stream",
     "text": [
      "/home/bjoern/miniconda3/envs/master-thesis/lib/python3.13/site-packages/lightning/pytorch/utilities/data.py:79: Trying to infer the `batch_size` from an ambiguous collection. The batch size we found is 64. To avoid any miscalculations, use `self.log(..., batch_size=batch_size)`.\n"
     ]
    },
    {
     "name": "stdout",
     "output_type": "stream",
     "text": [
      "Testing DataLoader 0: 100%|██████████| 62/62 [00:10<00:00,  5.77it/s]\n",
      "────────────────────────────────────────────────────────────────────────────────────────────────────────────────────────\n",
      "       Test metric             DataLoader 0\n",
      "────────────────────────────────────────────────────────────────────────────────────────────────────────────────────────\n",
      "      eval_accuracy         0.8461930155754089\n",
      "        eval_loss           2.2396435737609863\n",
      "        hp_metric           0.8461930155754089\n",
      "────────────────────────────────────────────────────────────────────────────────────────────────────────────────────────\n"
     ]
    },
    {
     "name": "stderr",
     "output_type": "stream",
     "text": [
      "/home/bjoern/miniconda3/envs/master-thesis/lib/python3.13/site-packages/lightning/pytorch/utilities/data.py:79: Trying to infer the `batch_size` from an ambiguous collection. The batch size we found is 23. To avoid any miscalculations, use `self.log(..., batch_size=batch_size)`.\n",
      "GPU available: True (cuda), used: True\n",
      "TPU available: False, using: 0 TPU cores\n",
      "HPU available: False, using: 0 HPUs\n"
     ]
    },
    {
     "name": "stdout",
     "output_type": "stream",
     "text": [
      "Loading pre-trained model: universal-resnet50-mcfp-multi-domain-min-val-loss.ckpt\n"
     ]
    },
    {
     "name": "stderr",
     "output_type": "stream",
     "text": [
      "LOCAL_RANK: 0 - CUDA_VISIBLE_DEVICES: [0]\n"
     ]
    },
    {
     "name": "stdout",
     "output_type": "stream",
     "text": [
      "Testing DataLoader 0: 100%|██████████| 62/62 [00:09<00:00,  6.72it/s]\n",
      "────────────────────────────────────────────────────────────────────────────────────────────────────────────────────────\n",
      "       Test metric             DataLoader 0\n",
      "────────────────────────────────────────────────────────────────────────────────────────────────────────────────────────\n",
      "      eval_accuracy         0.8296409249305725\n",
      "        eval_loss           1.6237250566482544\n",
      "        hp_metric           0.8296409249305725\n",
      "────────────────────────────────────────────────────────────────────────────────────────────────────────────────────────\n"
     ]
    },
    {
     "name": "stderr",
     "output_type": "stream",
     "text": [
      "GPU available: True (cuda), used: True\n",
      "TPU available: False, using: 0 TPU cores\n",
      "HPU available: False, using: 0 HPUs\n"
     ]
    },
    {
     "name": "stdout",
     "output_type": "stream",
     "text": [
      "Loading pre-trained model: universal-resnet50-mcfp-binary-multi-domain-min-val-loss.ckpt\n"
     ]
    },
    {
     "name": "stderr",
     "output_type": "stream",
     "text": [
      "LOCAL_RANK: 0 - CUDA_VISIBLE_DEVICES: [0]\n"
     ]
    },
    {
     "name": "stdout",
     "output_type": "stream",
     "text": [
      "Testing DataLoader 0: 100%|██████████| 62/62 [00:07<00:00,  7.80it/s]\n",
      "────────────────────────────────────────────────────────────────────────────────────────────────────────────────────────\n",
      "       Test metric             DataLoader 0\n",
      "────────────────────────────────────────────────────────────────────────────────────────────────────────────────────────\n",
      "      eval_accuracy          0.90628981590271\n",
      "        eval_loss           1.5973289012908936\n",
      "        hp_metric            0.90628981590271\n",
      "────────────────────────────────────────────────────────────────────────────────────────────────────────────────────────\n"
     ]
    },
    {
     "name": "stderr",
     "output_type": "stream",
     "text": [
      "GPU available: True (cuda), used: True\n",
      "TPU available: False, using: 0 TPU cores\n",
      "HPU available: False, using: 0 HPUs\n"
     ]
    },
    {
     "name": "stdout",
     "output_type": "stream",
     "text": [
      "Loading pre-trained model: universal-resnet50-density-threshold-multi-domain-min-val-loss.ckpt\n"
     ]
    },
    {
     "name": "stderr",
     "output_type": "stream",
     "text": [
      "LOCAL_RANK: 0 - CUDA_VISIBLE_DEVICES: [0]\n"
     ]
    },
    {
     "name": "stdout",
     "output_type": "stream",
     "text": [
      "Testing DataLoader 0: 100%|██████████| 62/62 [00:07<00:00,  7.80it/s]\n",
      "────────────────────────────────────────────────────────────────────────────────────────────────────────────────────────\n",
      "       Test metric             DataLoader 0\n",
      "────────────────────────────────────────────────────────────────────────────────────────────────────────────────────────\n",
      "      eval_accuracy         0.8421186804771423\n",
      "        eval_loss            2.344407796859741\n",
      "        hp_metric           0.8421186804771423\n",
      "────────────────────────────────────────────────────────────────────────────────────────────────────────────────────────\n"
     ]
    },
    {
     "name": "stderr",
     "output_type": "stream",
     "text": [
      "GPU available: True (cuda), used: True\n",
      "TPU available: False, using: 0 TPU cores\n",
      "HPU available: False, using: 0 HPUs\n"
     ]
    },
    {
     "name": "stdout",
     "output_type": "stream",
     "text": [
      "Loading pre-trained model: universal-resnet50-naive-threshold-multi-domain-min-val-loss.ckpt\n"
     ]
    },
    {
     "name": "stderr",
     "output_type": "stream",
     "text": [
      "LOCAL_RANK: 0 - CUDA_VISIBLE_DEVICES: [0]\n"
     ]
    },
    {
     "name": "stdout",
     "output_type": "stream",
     "text": [
      "Testing DataLoader 0: 100%|██████████| 62/62 [00:09<00:00,  6.75it/s]\n",
      "────────────────────────────────────────────────────────────────────────────────────────────────────────────────────────\n",
      "       Test metric             DataLoader 0\n",
      "────────────────────────────────────────────────────────────────────────────────────────────────────────────────────────\n",
      "      eval_accuracy          0.847466230392456\n",
      "        eval_loss           2.2727222442626953\n",
      "        hp_metric            0.847466230392456\n",
      "────────────────────────────────────────────────────────────────────────────────────────────────────────────────────────\n"
     ]
    },
    {
     "name": "stderr",
     "output_type": "stream",
     "text": [
      "GPU available: True (cuda), used: True\n",
      "TPU available: False, using: 0 TPU cores\n",
      "HPU available: False, using: 0 HPUs\n"
     ]
    },
    {
     "name": "stdout",
     "output_type": "stream",
     "text": [
      "Loading pre-trained model: universal-resnet50-three-domain-hypothesis-min-val-loss.ckpt\n"
     ]
    },
    {
     "name": "stderr",
     "output_type": "stream",
     "text": [
      "LOCAL_RANK: 0 - CUDA_VISIBLE_DEVICES: [0]\n"
     ]
    },
    {
     "name": "stdout",
     "output_type": "stream",
     "text": [
      "Testing DataLoader 0: 100%|██████████| 218/218 [00:28<00:00,  7.62it/s]\n",
      "────────────────────────────────────────────────────────────────────────────────────────────────────────────────────────\n",
      "       Test metric             DataLoader 0\n",
      "────────────────────────────────────────────────────────────────────────────────────────────────────────────────────────\n",
      "      eval_accuracy         0.6674804091453552\n",
      "        eval_loss           2.4171056747436523\n",
      "        hp_metric           0.6674804091453552\n",
      "────────────────────────────────────────────────────────────────────────────────────────────────────────────────────────\n"
     ]
    },
    {
     "name": "stderr",
     "output_type": "stream",
     "text": [
      "/home/bjoern/miniconda3/envs/master-thesis/lib/python3.13/site-packages/lightning/pytorch/utilities/data.py:79: Trying to infer the `batch_size` from an ambiguous collection. The batch size we found is 39. To avoid any miscalculations, use `self.log(..., batch_size=batch_size)`.\n",
      "GPU available: True (cuda), used: True\n",
      "TPU available: False, using: 0 TPU cores\n",
      "HPU available: False, using: 0 HPUs\n"
     ]
    },
    {
     "name": "stdout",
     "output_type": "stream",
     "text": [
      "Loading pre-trained model: universal-resnet50-three-domain-mcfp-min-val-loss.ckpt\n"
     ]
    },
    {
     "name": "stderr",
     "output_type": "stream",
     "text": [
      "LOCAL_RANK: 0 - CUDA_VISIBLE_DEVICES: [0]\n"
     ]
    },
    {
     "name": "stdout",
     "output_type": "stream",
     "text": [
      "Testing DataLoader 0: 100%|██████████| 218/218 [00:28<00:00,  7.58it/s]\n",
      "────────────────────────────────────────────────────────────────────────────────────────────────────────────────────────\n",
      "       Test metric             DataLoader 0\n",
      "────────────────────────────────────────────────────────────────────────────────────────────────────────────────────────\n",
      "      eval_accuracy         0.7682200074195862\n",
      "        eval_loss           1.8490538597106934\n",
      "        hp_metric           0.7682200074195862\n",
      "────────────────────────────────────────────────────────────────────────────────────────────────────────────────────────\n"
     ]
    },
    {
     "name": "stderr",
     "output_type": "stream",
     "text": [
      "GPU available: True (cuda), used: True\n",
      "TPU available: False, using: 0 TPU cores\n",
      "HPU available: False, using: 0 HPUs\n"
     ]
    },
    {
     "name": "stdout",
     "output_type": "stream",
     "text": [
      "Loading pre-trained model: universal-resnet50-three-domain-mcfp-binary-min-val-loss.ckpt\n"
     ]
    },
    {
     "name": "stderr",
     "output_type": "stream",
     "text": [
      "LOCAL_RANK: 0 - CUDA_VISIBLE_DEVICES: [0]\n"
     ]
    },
    {
     "name": "stdout",
     "output_type": "stream",
     "text": [
      "Testing DataLoader 0: 100%|██████████| 218/218 [00:28<00:00,  7.72it/s]\n",
      "────────────────────────────────────────────────────────────────────────────────────────────────────────────────────────\n",
      "       Test metric             DataLoader 0\n",
      "────────────────────────────────────────────────────────────────────────────────────────────────────────────────────────\n",
      "      eval_accuracy         0.8403102159500122\n",
      "        eval_loss           2.3036134243011475\n",
      "        hp_metric           0.8403102159500122\n",
      "────────────────────────────────────────────────────────────────────────────────────────────────────────────────────────\n"
     ]
    },
    {
     "name": "stderr",
     "output_type": "stream",
     "text": [
      "GPU available: True (cuda), used: True\n",
      "TPU available: False, using: 0 TPU cores\n",
      "HPU available: False, using: 0 HPUs\n"
     ]
    },
    {
     "name": "stdout",
     "output_type": "stream",
     "text": [
      "Loading pre-trained model: universal-resnet50-three-domain-density-threshold-min-val-loss.ckpt\n"
     ]
    },
    {
     "name": "stderr",
     "output_type": "stream",
     "text": [
      "LOCAL_RANK: 0 - CUDA_VISIBLE_DEVICES: [0]\n"
     ]
    },
    {
     "name": "stdout",
     "output_type": "stream",
     "text": [
      "Testing DataLoader 0: 100%|██████████| 218/218 [00:28<00:00,  7.76it/s]\n",
      "────────────────────────────────────────────────────────────────────────────────────────────────────────────────────────\n",
      "       Test metric             DataLoader 0\n",
      "────────────────────────────────────────────────────────────────────────────────────────────────────────────────────────\n",
      "      eval_accuracy         0.8403819799423218\n",
      "        eval_loss           2.6332054138183594\n",
      "        hp_metric           0.8403819799423218\n",
      "────────────────────────────────────────────────────────────────────────────────────────────────────────────────────────\n"
     ]
    },
    {
     "name": "stderr",
     "output_type": "stream",
     "text": [
      "GPU available: True (cuda), used: True\n",
      "TPU available: False, using: 0 TPU cores\n",
      "HPU available: False, using: 0 HPUs\n"
     ]
    },
    {
     "name": "stdout",
     "output_type": "stream",
     "text": [
      "Loading pre-trained model: universal-resnet50-three-domain-naive-threshold-min-val-loss.ckpt\n"
     ]
    },
    {
     "name": "stderr",
     "output_type": "stream",
     "text": [
      "LOCAL_RANK: 0 - CUDA_VISIBLE_DEVICES: [0]\n"
     ]
    },
    {
     "name": "stdout",
     "output_type": "stream",
     "text": [
      "Testing DataLoader 0: 100%|██████████| 218/218 [00:28<00:00,  7.72it/s]\n",
      "────────────────────────────────────────────────────────────────────────────────────────────────────────────────────────\n",
      "       Test metric             DataLoader 0\n",
      "────────────────────────────────────────────────────────────────────────────────────────────────────────────────────────\n",
      "      eval_accuracy         0.7690816521644592\n",
      "        eval_loss            2.089416265487671\n",
      "        hp_metric           0.7690816521644592\n",
      "────────────────────────────────────────────────────────────────────────────────────────────────────────────────────────\n"
     ]
    }
   ],
   "source": [
    "# Train models for both taxonomies\n",
    "results = {}\n",
    "\n",
    "for taxonomy_name, config in taxonomies_config.items():\n",
    "    # Select appropriate dataset module\n",
    "    if taxonomy_name in [\n",
    "        \"three_domain_hypothesis\",\n",
    "        \"three_domain_mcfp\",\n",
    "        \"three_domain_mcfp_binary\",\n",
    "        \"three_domain_density_threshold\",\n",
    "        \"three_domain_naive_threshold\",\n",
    "    ]:\n",
    "        current_dataset_module = three_domain_dataset_module\n",
    "    else:\n",
    "        current_dataset_module = dataset_module\n",
    "\n",
    "    # Create the Universal ResNet model for this taxonomy\n",
    "    model = UniversalResNetModel(\n",
    "        taxonomy=config[\"taxonomy\"],\n",
    "        architecture=\"resnet50\",\n",
    "        optim=training_config[\"optim\"],\n",
    "        optim_kwargs=training_config[\"optim_kwargs\"],\n",
    "        lr_scheduler=training_config[\"lr_scheduler\"],\n",
    "        lr_scheduler_kwargs=training_config[\"lr_scheduler_kwargs\"],\n",
    "    )\n",
    "\n",
    "    # Setup trainer\n",
    "    if TRAIN:\n",
    "        tb_logger = pl_loggers.TensorBoardLogger(\n",
    "            save_dir=\"logs\", name=config[\"logger_name\"]\n",
    "        )\n",
    "\n",
    "        trainer = Trainer(\n",
    "            max_epochs=training_config[\"max_epochs\"],\n",
    "            logger=tb_logger,\n",
    "            callbacks=[\n",
    "                ModelCheckpoint(\n",
    "                    dirpath=\"checkpoints\",\n",
    "                    monitor=\"val_accuracy\",\n",
    "                    mode=\"max\",\n",
    "                    save_top_k=1,\n",
    "                    filename=config[\"model_name\"],\n",
    "                    enable_version_counter=False,\n",
    "                )\n",
    "            ],\n",
    "        )\n",
    "\n",
    "        # Train the model\n",
    "        trainer.fit(model, datamodule=current_dataset_module)\n",
    "\n",
    "        # Test the trained model\n",
    "        test_results = trainer.test(datamodule=current_dataset_module, ckpt_path=\"best\")\n",
    "\n",
    "    else:\n",
    "        trainer = Trainer(\n",
    "            logger=False,\n",
    "            enable_checkpointing=False,\n",
    "        )\n",
    "\n",
    "        # Load pre-trained model\n",
    "        print(f\"Loading pre-trained model: {config['model_name']}.ckpt\")\n",
    "        model = UniversalResNetModel.load_from_checkpoint(\n",
    "            f\"checkpoints/{config['model_name']}.ckpt\",\n",
    "            taxonomy=config[\n",
    "                \"taxonomy\"\n",
    "            ],  # Need to pass taxonomy since it's not serialized\n",
    "        )\n",
    "\n",
    "        # Test the loaded model\n",
    "        test_results = trainer.test(model, datamodule=current_dataset_module)\n",
    "\n",
    "    # Store results\n",
    "    results[taxonomy_name] = test_results"
   ]
  },
  {
   "cell_type": "code",
   "execution_count": 6,
   "id": "103b2c0d",
   "metadata": {},
   "outputs": [
    {
     "name": "stdout",
     "output_type": "stream",
     "text": [
      "Loading pre-trained model: universal-resnet50-hypothesis-multi-domain-min-val-loss.ckpt\n"
     ]
    },
    {
     "name": "stderr",
     "output_type": "stream",
     "text": [
      "GPU available: True (cuda), used: True\n",
      "TPU available: False, using: 0 TPU cores\n",
      "HPU available: False, using: 0 HPUs\n",
      "LOCAL_RANK: 0 - CUDA_VISIBLE_DEVICES: [0]\n"
     ]
    },
    {
     "name": "stdout",
     "output_type": "stream",
     "text": [
      "Testing DataLoader 0: 100%|██████████| 14/14 [00:01<00:00,  8.00it/s]\n",
      "────────────────────────────────────────────────────────────────────────────────────────────────────────────────────────\n",
      "       Test metric             DataLoader 0\n",
      "────────────────────────────────────────────────────────────────────────────────────────────────────────────────────────\n",
      "      eval_accuracy         0.9181084036827087\n",
      "        eval_loss           2.7212612628936768\n",
      "        hp_metric           0.9181084036827087\n",
      "────────────────────────────────────────────────────────────────────────────────────────────────────────────────────────\n"
     ]
    },
    {
     "name": "stderr",
     "output_type": "stream",
     "text": [
      "/home/bjoern/miniconda3/envs/master-thesis/lib/python3.13/site-packages/lightning/pytorch/utilities/data.py:79: Trying to infer the `batch_size` from an ambiguous collection. The batch size we found is 35. To avoid any miscalculations, use `self.log(..., batch_size=batch_size)`.\n",
      "LOCAL_RANK: 0 - CUDA_VISIBLE_DEVICES: [0]\n"
     ]
    },
    {
     "name": "stdout",
     "output_type": "stream",
     "text": [
      "Testing DataLoader 0: 100%|██████████| 48/48 [00:06<00:00,  7.64it/s]\n",
      "────────────────────────────────────────────────────────────────────────────────────────────────────────────────────────\n",
      "       Test metric             DataLoader 0\n",
      "────────────────────────────────────────────────────────────────────────────────────────────────────────────────────────\n",
      "      eval_accuracy         0.8284313678741455\n",
      "        eval_loss           2.1086208820343018\n",
      "        hp_metric           0.8284313678741455\n",
      "────────────────────────────────────────────────────────────────────────────────────────────────────────────────────────\n"
     ]
    },
    {
     "name": "stderr",
     "output_type": "stream",
     "text": [
      "/home/bjoern/miniconda3/envs/master-thesis/lib/python3.13/site-packages/lightning/pytorch/utilities/data.py:79: Trying to infer the `batch_size` from an ambiguous collection. The batch size we found is 52. To avoid any miscalculations, use `self.log(..., batch_size=batch_size)`.\n"
     ]
    },
    {
     "name": "stdout",
     "output_type": "stream",
     "text": [
      "Loading pre-trained model: universal-resnet50-mcfp-multi-domain-min-val-loss.ckpt\n"
     ]
    },
    {
     "name": "stderr",
     "output_type": "stream",
     "text": [
      "GPU available: True (cuda), used: True\n",
      "TPU available: False, using: 0 TPU cores\n",
      "HPU available: False, using: 0 HPUs\n",
      "LOCAL_RANK: 0 - CUDA_VISIBLE_DEVICES: [0]\n"
     ]
    },
    {
     "name": "stdout",
     "output_type": "stream",
     "text": [
      "Testing DataLoader 0: 100%|██████████| 14/14 [00:01<00:00,  8.23it/s]\n",
      "────────────────────────────────────────────────────────────────────────────────────────────────────────────────────────\n",
      "       Test metric             DataLoader 0\n",
      "────────────────────────────────────────────────────────────────────────────────────────────────────────────────────────\n",
      "      eval_accuracy         0.9123414158821106\n",
      "        eval_loss            2.100937843322754\n",
      "        hp_metric           0.9123414158821106\n",
      "────────────────────────────────────────────────────────────────────────────────────────────────────────────────────────\n"
     ]
    },
    {
     "name": "stderr",
     "output_type": "stream",
     "text": [
      "LOCAL_RANK: 0 - CUDA_VISIBLE_DEVICES: [0]\n"
     ]
    },
    {
     "name": "stdout",
     "output_type": "stream",
     "text": [
      "Testing DataLoader 0: 100%|██████████| 48/48 [00:07<00:00,  6.25it/s]\n",
      "────────────────────────────────────────────────────────────────────────────────────────────────────────────────────────\n",
      "       Test metric             DataLoader 0\n",
      "────────────────────────────────────────────────────────────────────────────────────────────────────────────────────────\n",
      "      eval_accuracy          0.80751633644104\n",
      "        eval_loss           1.4989861249923706\n",
      "        hp_metric            0.80751633644104\n",
      "────────────────────────────────────────────────────────────────────────────────────────────────────────────────────────\n",
      "Loading pre-trained model: universal-resnet50-mcfp-binary-multi-domain-min-val-loss.ckpt\n"
     ]
    },
    {
     "name": "stderr",
     "output_type": "stream",
     "text": [
      "GPU available: True (cuda), used: True\n",
      "TPU available: False, using: 0 TPU cores\n",
      "HPU available: False, using: 0 HPUs\n",
      "LOCAL_RANK: 0 - CUDA_VISIBLE_DEVICES: [0]\n"
     ]
    },
    {
     "name": "stdout",
     "output_type": "stream",
     "text": [
      "Testing DataLoader 0: 100%|██████████| 14/14 [00:01<00:00,  8.15it/s]\n",
      "────────────────────────────────────────────────────────────────────────────────────────────────────────────────────────\n",
      "       Test metric             DataLoader 0\n",
      "────────────────────────────────────────────────────────────────────────────────────────────────────────────────────────\n",
      "      eval_accuracy         0.9273356199264526\n",
      "        eval_loss            2.218851327896118\n",
      "        hp_metric           0.9273356199264526\n",
      "────────────────────────────────────────────────────────────────────────────────────────────────────────────────────────\n"
     ]
    },
    {
     "name": "stderr",
     "output_type": "stream",
     "text": [
      "LOCAL_RANK: 0 - CUDA_VISIBLE_DEVICES: [0]\n"
     ]
    },
    {
     "name": "stdout",
     "output_type": "stream",
     "text": [
      "Testing DataLoader 0: 100%|██████████| 48/48 [00:06<00:00,  7.73it/s]\n",
      "────────────────────────────────────────────────────────────────────────────────────────────────────────────────────────\n",
      "       Test metric             DataLoader 0\n",
      "────────────────────────────────────────────────────────────────────────────────────────────────────────────────────────\n",
      "      eval_accuracy         0.8970588445663452\n",
      "        eval_loss            1.430214762687683\n",
      "        hp_metric           0.8970588445663452\n",
      "────────────────────────────────────────────────────────────────────────────────────────────────────────────────────────\n",
      "Loading pre-trained model: universal-resnet50-density-threshold-multi-domain-min-val-loss.ckpt\n"
     ]
    },
    {
     "name": "stderr",
     "output_type": "stream",
     "text": [
      "GPU available: True (cuda), used: True\n",
      "TPU available: False, using: 0 TPU cores\n",
      "HPU available: False, using: 0 HPUs\n",
      "LOCAL_RANK: 0 - CUDA_VISIBLE_DEVICES: [0]\n"
     ]
    },
    {
     "name": "stdout",
     "output_type": "stream",
     "text": [
      "Testing DataLoader 0: 100%|██████████| 14/14 [00:01<00:00,  8.13it/s]\n",
      "────────────────────────────────────────────────────────────────────────────────────────────────────────────────────────\n",
      "       Test metric             DataLoader 0\n",
      "────────────────────────────────────────────────────────────────────────────────────────────────────────────────────────\n",
      "      eval_accuracy         0.9296424388885498\n",
      "        eval_loss            2.761981725692749\n",
      "        hp_metric           0.9296424388885498\n",
      "────────────────────────────────────────────────────────────────────────────────────────────────────────────────────────\n"
     ]
    },
    {
     "name": "stderr",
     "output_type": "stream",
     "text": [
      "LOCAL_RANK: 0 - CUDA_VISIBLE_DEVICES: [0]\n"
     ]
    },
    {
     "name": "stdout",
     "output_type": "stream",
     "text": [
      "Testing DataLoader 0: 100%|██████████| 48/48 [00:06<00:00,  7.50it/s]\n",
      "────────────────────────────────────────────────────────────────────────────────────────────────────────────────────────\n",
      "       Test metric             DataLoader 0\n",
      "────────────────────────────────────────────────────────────────────────────────────────────────────────────────────────\n",
      "      eval_accuracy         0.8153594732284546\n",
      "        eval_loss            2.232377767562866\n",
      "        hp_metric           0.8153594732284546\n",
      "────────────────────────────────────────────────────────────────────────────────────────────────────────────────────────\n",
      "Loading pre-trained model: universal-resnet50-naive-threshold-multi-domain-min-val-loss.ckpt\n"
     ]
    },
    {
     "name": "stderr",
     "output_type": "stream",
     "text": [
      "GPU available: True (cuda), used: True\n",
      "TPU available: False, using: 0 TPU cores\n",
      "HPU available: False, using: 0 HPUs\n",
      "LOCAL_RANK: 0 - CUDA_VISIBLE_DEVICES: [0]\n"
     ]
    },
    {
     "name": "stdout",
     "output_type": "stream",
     "text": [
      "Testing DataLoader 0: 100%|██████████| 14/14 [00:01<00:00,  8.12it/s]\n",
      "────────────────────────────────────────────────────────────────────────────────────────────────────────────────────────\n",
      "       Test metric             DataLoader 0\n",
      "────────────────────────────────────────────────────────────────────────────────────────────────────────────────────────\n",
      "      eval_accuracy          0.931949257850647\n",
      "        eval_loss           2.8679933547973633\n",
      "        hp_metric            0.931949257850647\n",
      "────────────────────────────────────────────────────────────────────────────────────────────────────────────────────────\n"
     ]
    },
    {
     "name": "stderr",
     "output_type": "stream",
     "text": [
      "LOCAL_RANK: 0 - CUDA_VISIBLE_DEVICES: [0]\n"
     ]
    },
    {
     "name": "stdout",
     "output_type": "stream",
     "text": [
      "Testing DataLoader 0: 100%|██████████| 48/48 [00:06<00:00,  7.50it/s]\n",
      "────────────────────────────────────────────────────────────────────────────────────────────────────────────────────────\n",
      "       Test metric             DataLoader 0\n",
      "────────────────────────────────────────────────────────────────────────────────────────────────────────────────────────\n",
      "      eval_accuracy          0.822549045085907\n",
      "        eval_loss            2.103687047958374\n",
      "        hp_metric            0.822549045085907\n",
      "────────────────────────────────────────────────────────────────────────────────────────────────────────────────────────\n",
      "Loading pre-trained model: universal-resnet50-three-domain-hypothesis-min-val-loss.ckpt\n"
     ]
    },
    {
     "name": "stderr",
     "output_type": "stream",
     "text": [
      "GPU available: True (cuda), used: True\n",
      "TPU available: False, using: 0 TPU cores\n",
      "HPU available: False, using: 0 HPUs\n",
      "LOCAL_RANK: 0 - CUDA_VISIBLE_DEVICES: [0]\n"
     ]
    },
    {
     "name": "stdout",
     "output_type": "stream",
     "text": [
      "Testing DataLoader 0: 100%|██████████| 14/14 [00:01<00:00,  8.12it/s]\n",
      "────────────────────────────────────────────────────────────────────────────────────────────────────────────────────────\n",
      "       Test metric             DataLoader 0\n",
      "────────────────────────────────────────────────────────────────────────────────────────────────────────────────────────\n",
      "      eval_accuracy         0.6874279379844666\n",
      "        eval_loss           3.7115421295166016\n",
      "        hp_metric           0.6874279379844666\n",
      "────────────────────────────────────────────────────────────────────────────────────────────────────────────────────────\n"
     ]
    },
    {
     "name": "stderr",
     "output_type": "stream",
     "text": [
      "LOCAL_RANK: 0 - CUDA_VISIBLE_DEVICES: [0]\n"
     ]
    },
    {
     "name": "stdout",
     "output_type": "stream",
     "text": [
      "Testing DataLoader 0: 100%|██████████| 48/48 [00:06<00:00,  7.60it/s]\n",
      "────────────────────────────────────────────────────────────────────────────────────────────────────────────────────────\n",
      "       Test metric             DataLoader 0\n",
      "────────────────────────────────────────────────────────────────────────────────────────────────────────────────────────\n",
      "      eval_accuracy         0.5816993713378906\n",
      "        eval_loss            3.058987617492676\n",
      "        hp_metric           0.5816993713378906\n",
      "────────────────────────────────────────────────────────────────────────────────────────────────────────────────────────\n"
     ]
    },
    {
     "name": "stderr",
     "output_type": "stream",
     "text": [
      "LOCAL_RANK: 0 - CUDA_VISIBLE_DEVICES: [0]\n"
     ]
    },
    {
     "name": "stdout",
     "output_type": "stream",
     "text": [
      "Testing DataLoader 0: 100%|██████████| 157/157 [00:20<00:00,  7.72it/s]\n",
      "────────────────────────────────────────────────────────────────────────────────────────────────────────────────────────\n",
      "       Test metric             DataLoader 0\n",
      "────────────────────────────────────────────────────────────────────────────────────────────────────────────────────────\n",
      "      eval_accuracy         0.6902999877929688\n",
      "        eval_loss           2.1113805770874023\n",
      "        hp_metric           0.6902999877929688\n",
      "────────────────────────────────────────────────────────────────────────────────────────────────────────────────────────\n"
     ]
    },
    {
     "name": "stderr",
     "output_type": "stream",
     "text": [
      "/home/bjoern/miniconda3/envs/master-thesis/lib/python3.13/site-packages/lightning/pytorch/utilities/data.py:79: Trying to infer the `batch_size` from an ambiguous collection. The batch size we found is 16. To avoid any miscalculations, use `self.log(..., batch_size=batch_size)`.\n"
     ]
    },
    {
     "name": "stdout",
     "output_type": "stream",
     "text": [
      "Loading pre-trained model: universal-resnet50-three-domain-mcfp-min-val-loss.ckpt\n"
     ]
    },
    {
     "name": "stderr",
     "output_type": "stream",
     "text": [
      "GPU available: True (cuda), used: True\n",
      "TPU available: False, using: 0 TPU cores\n",
      "HPU available: False, using: 0 HPUs\n",
      "LOCAL_RANK: 0 - CUDA_VISIBLE_DEVICES: [0]\n"
     ]
    },
    {
     "name": "stdout",
     "output_type": "stream",
     "text": [
      "Testing DataLoader 0: 100%|██████████| 14/14 [00:01<00:00,  8.10it/s]\n",
      "────────────────────────────────────────────────────────────────────────────────────────────────────────────────────────\n",
      "       Test metric             DataLoader 0\n",
      "────────────────────────────────────────────────────────────────────────────────────────────────────────────────────────\n",
      "      eval_accuracy         0.8327566385269165\n",
      "        eval_loss           2.6658236980438232\n",
      "        hp_metric           0.8327566385269165\n",
      "────────────────────────────────────────────────────────────────────────────────────────────────────────────────────────\n"
     ]
    },
    {
     "name": "stderr",
     "output_type": "stream",
     "text": [
      "LOCAL_RANK: 0 - CUDA_VISIBLE_DEVICES: [0]\n"
     ]
    },
    {
     "name": "stdout",
     "output_type": "stream",
     "text": [
      "Testing DataLoader 0: 100%|██████████| 48/48 [00:06<00:00,  7.27it/s]\n",
      "────────────────────────────────────────────────────────────────────────────────────────────────────────────────────────\n",
      "       Test metric             DataLoader 0\n",
      "────────────────────────────────────────────────────────────────────────────────────────────────────────────────────────\n",
      "      eval_accuracy         0.7650327086448669\n",
      "        eval_loss           2.2333476543426514\n",
      "        hp_metric           0.7650327086448669\n",
      "────────────────────────────────────────────────────────────────────────────────────────────────────────────────────────\n"
     ]
    },
    {
     "name": "stderr",
     "output_type": "stream",
     "text": [
      "LOCAL_RANK: 0 - CUDA_VISIBLE_DEVICES: [0]\n"
     ]
    },
    {
     "name": "stdout",
     "output_type": "stream",
     "text": [
      "Testing DataLoader 0: 100%|██████████| 157/157 [00:19<00:00,  8.24it/s]\n",
      "────────────────────────────────────────────────────────────────────────────────────────────────────────────────────────\n",
      "       Test metric             DataLoader 0\n",
      "────────────────────────────────────────────────────────────────────────────────────────────────────────────────────────\n",
      "      eval_accuracy         0.7609999775886536\n",
      "        eval_loss           1.6658204793930054\n",
      "        hp_metric           0.7609999775886536\n",
      "────────────────────────────────────────────────────────────────────────────────────────────────────────────────────────\n",
      "Loading pre-trained model: universal-resnet50-three-domain-mcfp-binary-min-val-loss.ckpt\n"
     ]
    },
    {
     "name": "stderr",
     "output_type": "stream",
     "text": [
      "GPU available: True (cuda), used: True\n",
      "TPU available: False, using: 0 TPU cores\n",
      "HPU available: False, using: 0 HPUs\n",
      "LOCAL_RANK: 0 - CUDA_VISIBLE_DEVICES: [0]\n"
     ]
    },
    {
     "name": "stdout",
     "output_type": "stream",
     "text": [
      "Testing DataLoader 0: 100%|██████████| 14/14 [00:01<00:00,  8.14it/s]\n",
      "────────────────────────────────────────────────────────────────────────────────────────────────────────────────────────\n",
      "       Test metric             DataLoader 0\n",
      "────────────────────────────────────────────────────────────────────────────────────────────────────────────────────────\n",
      "      eval_accuracy         0.9457900524139404\n",
      "        eval_loss           3.0320279598236084\n",
      "        hp_metric           0.9457900524139404\n",
      "────────────────────────────────────────────────────────────────────────────────────────────────────────────────────────\n"
     ]
    },
    {
     "name": "stderr",
     "output_type": "stream",
     "text": [
      "LOCAL_RANK: 0 - CUDA_VISIBLE_DEVICES: [0]\n"
     ]
    },
    {
     "name": "stdout",
     "output_type": "stream",
     "text": [
      "Testing DataLoader 0: 100%|██████████| 48/48 [00:07<00:00,  6.22it/s]\n",
      "────────────────────────────────────────────────────────────────────────────────────────────────────────────────────────\n",
      "       Test metric             DataLoader 0\n",
      "────────────────────────────────────────────────────────────────────────────────────────────────────────────────────────\n",
      "      eval_accuracy          0.851307213306427\n",
      "        eval_loss           2.3696138858795166\n",
      "        hp_metric            0.851307213306427\n",
      "────────────────────────────────────────────────────────────────────────────────────────────────────────────────────────\n"
     ]
    },
    {
     "name": "stderr",
     "output_type": "stream",
     "text": [
      "LOCAL_RANK: 0 - CUDA_VISIBLE_DEVICES: [0]\n"
     ]
    },
    {
     "name": "stdout",
     "output_type": "stream",
     "text": [
      "Testing DataLoader 0: 100%|██████████| 157/157 [00:18<00:00,  8.36it/s]\n",
      "────────────────────────────────────────────────────────────────────────────────────────────────────────────────────────\n",
      "       Test metric             DataLoader 0\n",
      "────────────────────────────────────────────────────────────────────────────────────────────────────────────────────────\n",
      "      eval_accuracy         0.8270999789237976\n",
      "        eval_loss            2.225367784500122\n",
      "        hp_metric           0.8270999789237976\n",
      "────────────────────────────────────────────────────────────────────────────────────────────────────────────────────────\n",
      "Loading pre-trained model: universal-resnet50-three-domain-density-threshold-min-val-loss.ckpt\n"
     ]
    },
    {
     "name": "stderr",
     "output_type": "stream",
     "text": [
      "GPU available: True (cuda), used: True\n",
      "TPU available: False, using: 0 TPU cores\n",
      "HPU available: False, using: 0 HPUs\n",
      "LOCAL_RANK: 0 - CUDA_VISIBLE_DEVICES: [0]\n"
     ]
    },
    {
     "name": "stdout",
     "output_type": "stream",
     "text": [
      "Testing DataLoader 0: 100%|██████████| 14/14 [00:01<00:00,  8.12it/s]\n",
      "────────────────────────────────────────────────────────────────────────────────────────────────────────────────────────\n",
      "       Test metric             DataLoader 0\n",
      "────────────────────────────────────────────────────────────────────────────────────────────────────────────────────────\n",
      "      eval_accuracy         0.9538639187812805\n",
      "        eval_loss           3.2175261974334717\n",
      "        hp_metric           0.9538639187812805\n",
      "────────────────────────────────────────────────────────────────────────────────────────────────────────────────────────\n"
     ]
    },
    {
     "name": "stderr",
     "output_type": "stream",
     "text": [
      "LOCAL_RANK: 0 - CUDA_VISIBLE_DEVICES: [0]\n"
     ]
    },
    {
     "name": "stdout",
     "output_type": "stream",
     "text": [
      "Testing DataLoader 0: 100%|██████████| 48/48 [00:06<00:00,  7.13it/s]\n",
      "────────────────────────────────────────────────────────────────────────────────────────────────────────────────────────\n",
      "       Test metric             DataLoader 0\n",
      "────────────────────────────────────────────────────────────────────────────────────────────────────────────────────────\n",
      "      eval_accuracy         0.8352941274642944\n",
      "        eval_loss            2.671121120452881\n",
      "        hp_metric           0.8352941274642944\n",
      "────────────────────────────────────────────────────────────────────────────────────────────────────────────────────────\n"
     ]
    },
    {
     "name": "stderr",
     "output_type": "stream",
     "text": [
      "LOCAL_RANK: 0 - CUDA_VISIBLE_DEVICES: [0]\n"
     ]
    },
    {
     "name": "stdout",
     "output_type": "stream",
     "text": [
      "Testing DataLoader 0: 100%|██████████| 157/157 [00:18<00:00,  8.30it/s]\n",
      "────────────────────────────────────────────────────────────────────────────────────────────────────────────────────────\n",
      "       Test metric             DataLoader 0\n",
      "────────────────────────────────────────────────────────────────────────────────────────────────────────────────────────\n",
      "      eval_accuracy         0.8313999772071838\n",
      "        eval_loss            2.57104754447937\n",
      "        hp_metric           0.8313999772071838\n",
      "────────────────────────────────────────────────────────────────────────────────────────────────────────────────────────\n",
      "Loading pre-trained model: universal-resnet50-three-domain-naive-threshold-min-val-loss.ckpt\n"
     ]
    },
    {
     "name": "stderr",
     "output_type": "stream",
     "text": [
      "GPU available: True (cuda), used: True\n",
      "TPU available: False, using: 0 TPU cores\n",
      "HPU available: False, using: 0 HPUs\n",
      "LOCAL_RANK: 0 - CUDA_VISIBLE_DEVICES: [0]\n"
     ]
    },
    {
     "name": "stdout",
     "output_type": "stream",
     "text": [
      "Testing DataLoader 0: 100%|██████████| 14/14 [00:01<00:00,  8.11it/s]\n",
      "────────────────────────────────────────────────────────────────────────────────────────────────────────────────────────\n",
      "       Test metric             DataLoader 0\n",
      "────────────────────────────────────────────────────────────────────────────────────────────────────────────────────────\n",
      "      eval_accuracy         0.9550173282623291\n",
      "        eval_loss           3.2000527381896973\n",
      "        hp_metric           0.9550173282623291\n",
      "────────────────────────────────────────────────────────────────────────────────────────────────────────────────────────\n"
     ]
    },
    {
     "name": "stderr",
     "output_type": "stream",
     "text": [
      "LOCAL_RANK: 0 - CUDA_VISIBLE_DEVICES: [0]\n"
     ]
    },
    {
     "name": "stdout",
     "output_type": "stream",
     "text": [
      "Testing DataLoader 0: 100%|██████████| 48/48 [00:06<00:00,  7.42it/s]\n",
      "────────────────────────────────────────────────────────────────────────────────────────────────────────────────────────\n",
      "       Test metric             DataLoader 0\n",
      "────────────────────────────────────────────────────────────────────────────────────────────────────────────────────────\n",
      "      eval_accuracy         0.8535947799682617\n",
      "        eval_loss           2.6170356273651123\n",
      "        hp_metric           0.8535947799682617\n",
      "────────────────────────────────────────────────────────────────────────────────────────────────────────────────────────\n"
     ]
    },
    {
     "name": "stderr",
     "output_type": "stream",
     "text": [
      "LOCAL_RANK: 0 - CUDA_VISIBLE_DEVICES: [0]\n"
     ]
    },
    {
     "name": "stdout",
     "output_type": "stream",
     "text": [
      "Testing DataLoader 0: 100%|██████████| 157/157 [00:20<00:00,  7.59it/s]\n",
      "────────────────────────────────────────────────────────────────────────────────────────────────────────────────────────\n",
      "       Test metric             DataLoader 0\n",
      "────────────────────────────────────────────────────────────────────────────────────────────────────────────────────────\n",
      "      eval_accuracy          0.725600004196167\n",
      "        eval_loss            1.833083152770996\n",
      "        hp_metric            0.725600004196167\n",
      "────────────────────────────────────────────────────────────────────────────────────────────────────────────────────────\n"
     ]
    }
   ],
   "source": [
    "# Create individual combined data modules for each domain\n",
    "# These maintain the (target, domain_id) tuple format expected by the universal models\n",
    "caltech101_combined_dm = CombinedDataModule(\n",
    "    dataset_modules=[caltech101_dm],\n",
    "    domain_ids=[0],  # Domain 0 for Caltech-101\n",
    "    batch_size=64,\n",
    "    num_workers=11,\n",
    ")\n",
    "\n",
    "caltech256_combined_dm = CombinedDataModule(\n",
    "    dataset_modules=[caltech256_dm],\n",
    "    domain_ids=[1],  # Domain 1 for Caltech-256\n",
    "    batch_size=64,\n",
    "    num_workers=11,\n",
    ")\n",
    "\n",
    "cifar100_combined_dm = CombinedDataModule(\n",
    "    dataset_modules=[cifar100_dm],\n",
    "    domain_ids=[2],  # Domain 2 for CIFAR-100\n",
    "    batch_size=64,\n",
    "    num_workers=11,\n",
    ")\n",
    "\n",
    "# Test each model on individual domains\n",
    "domain_results = {}\n",
    "for taxonomy_name, config in taxonomies_config.items():\n",
    "    # Load the trained model\n",
    "    print(f\"Loading pre-trained model: {config['model_name']}.ckpt\")\n",
    "    model = UniversalResNetModel.load_from_checkpoint(\n",
    "        f\"checkpoints/{config['model_name']}.ckpt\", taxonomy=config[\"taxonomy\"]\n",
    "    )\n",
    "\n",
    "    # Create trainer for testing\n",
    "    trainer = Trainer(\n",
    "        logger=False,\n",
    "        enable_checkpointing=False,\n",
    "    )\n",
    "\n",
    "    domain_results[taxonomy_name] = {\n",
    "        \"name\": taxonomy_name,\n",
    "    }\n",
    "\n",
    "    # Test on Caltech-101 (Domain 0)\n",
    "    caltech101_results = trainer.test(model, datamodule=caltech101_combined_dm)\n",
    "    domain_results[taxonomy_name][\"caltech101\"] = caltech101_results[0][\"eval_accuracy\"]\n",
    "\n",
    "    # Test on Caltech-256 (Domain 1)\n",
    "    caltech256_results = trainer.test(model, datamodule=caltech256_combined_dm)\n",
    "    domain_results[taxonomy_name][\"caltech256\"] = caltech256_results[0][\"eval_accuracy\"]\n",
    "\n",
    "    # Test on CIFAR-100 (Domain 2) - only for three-domain models\n",
    "    if taxonomy_name in [\n",
    "        \"three_domain_hypothesis\",\n",
    "        \"three_domain_mcfp\",\n",
    "        \"three_domain_mcfp_binary\",\n",
    "        \"three_domain_density_threshold\",\n",
    "        \"three_domain_naive_threshold\",\n",
    "    ]:\n",
    "        cifar100_results = trainer.test(model, datamodule=cifar100_combined_dm)\n",
    "        domain_results[taxonomy_name][\"cifar100\"] = cifar100_results[0][\"eval_accuracy\"]\n",
    "\n",
    "        # Calculate unified accuracy as mean of per-domain accuracies (equal weighting)\n",
    "        unified_accuracy = (\n",
    "            domain_results[taxonomy_name][\"caltech101\"]\n",
    "            + domain_results[taxonomy_name][\"caltech256\"]\n",
    "            + domain_results[taxonomy_name][\"cifar100\"]\n",
    "        ) / 3\n",
    "        domain_results[taxonomy_name][\"unified\"] = unified_accuracy\n",
    "    else:\n",
    "        # For two-domain models, CIFAR-100 accuracy is N/A\n",
    "        domain_results[taxonomy_name][\"cifar100\"] = None\n",
    "\n",
    "        # Calculate unified accuracy as mean of per-domain accuracies (equal weighting)\n",
    "        unified_accuracy = (\n",
    "            domain_results[taxonomy_name][\"caltech101\"]\n",
    "            + domain_results[taxonomy_name][\"caltech256\"]\n",
    "        ) / 2\n",
    "        domain_results[taxonomy_name][\"unified\"] = unified_accuracy"
   ]
  },
  {
   "cell_type": "code",
   "execution_count": 7,
   "id": "a6810169",
   "metadata": {},
   "outputs": [
    {
     "name": "stdout",
     "output_type": "stream",
     "text": [
      "                             name  caltech101  caltech256  cifar100   unified\n",
      "0                      hypothesis    0.918108    0.828431       NaN  0.873270\n",
      "1                            mcfp    0.912341    0.807516       NaN  0.859929\n",
      "2                     mcfp_binary    0.927336    0.897059       NaN  0.912197\n",
      "3               density_threshold    0.929642    0.815359       NaN  0.872501\n",
      "4                 naive_threshold    0.931949    0.822549       NaN  0.877249\n",
      "5         three_domain_hypothesis    0.687428    0.581699    0.6903  0.653142\n",
      "6               three_domain_mcfp    0.832757    0.765033    0.7610  0.786263\n",
      "7        three_domain_mcfp_binary    0.945790    0.851307    0.8271  0.874732\n",
      "8  three_domain_density_threshold    0.953864    0.835294    0.8314  0.873519\n",
      "9    three_domain_naive_threshold    0.955017    0.853595    0.7256  0.844737\n"
     ]
    }
   ],
   "source": [
    "# Create dataframe\n",
    "df = pd.DataFrame.from_dict(domain_results, orient=\"index\")\n",
    "\n",
    "# Clear index\n",
    "df.reset_index(drop=True, inplace=True)\n",
    "\n",
    "# Print dataframe\n",
    "print(df)"
   ]
  },
  {
   "cell_type": "code",
   "execution_count": 8,
   "id": "54466759",
   "metadata": {},
   "outputs": [
    {
     "name": "stderr",
     "output_type": "stream",
     "text": [
      "GPU available: True (cuda), used: True\n",
      "TPU available: False, using: 0 TPU cores\n",
      "HPU available: False, using: 0 HPUs\n"
     ]
    },
    {
     "name": "stdout",
     "output_type": "stream",
     "text": [
      "Evaluating baseline model: resnet50-caltech101-min-val-loss.ckpt\n"
     ]
    },
    {
     "name": "stderr",
     "output_type": "stream",
     "text": [
      "LOCAL_RANK: 0 - CUDA_VISIBLE_DEVICES: [0]\n",
      "/home/bjoern/miniconda3/envs/master-thesis/lib/python3.13/site-packages/lightning/pytorch/trainer/connectors/data_connector.py:425: The 'test_dataloader' does not have many workers which may be a bottleneck. Consider increasing the value of the `num_workers` argument` to `num_workers=11` in the `DataLoader` to improve performance.\n"
     ]
    },
    {
     "name": "stdout",
     "output_type": "stream",
     "text": [
      "Testing DataLoader 0: 100%|██████████| 28/28 [00:03<00:00,  8.29it/s]\n",
      "────────────────────────────────────────────────────────────────────────────────────────────────────────────────────────\n",
      "       Test metric             DataLoader 0\n",
      "────────────────────────────────────────────────────────────────────────────────────────────────────────────────────────\n",
      "      eval_accuracy         0.9181084036827087\n",
      "        eval_loss           0.3181077837944031\n",
      "        hp_metric           0.9181084036827087\n",
      "────────────────────────────────────────────────────────────────────────────────────────────────────────────────────────\n",
      "Evaluating baseline model: resnet50-caltech256-min-val-loss.ckpt\n"
     ]
    },
    {
     "name": "stderr",
     "output_type": "stream",
     "text": [
      "LOCAL_RANK: 0 - CUDA_VISIBLE_DEVICES: [0]\n"
     ]
    },
    {
     "name": "stdout",
     "output_type": "stream",
     "text": [
      "Testing DataLoader 0: 100%|██████████| 96/96 [00:13<00:00,  6.86it/s]\n",
      "────────────────────────────────────────────────────────────────────────────────────────────────────────────────────────\n",
      "       Test metric             DataLoader 0\n",
      "────────────────────────────────────────────────────────────────────────────────────────────────────────────────────────\n",
      "      eval_accuracy         0.6947712302207947\n",
      "        eval_loss            1.641042709350586\n",
      "        hp_metric           0.6947712302207947\n",
      "────────────────────────────────────────────────────────────────────────────────────────────────────────────────────────\n",
      "Evaluating baseline model: resnet152-cifar100-min-val-loss.ckpt\n"
     ]
    },
    {
     "name": "stderr",
     "output_type": "stream",
     "text": [
      "LOCAL_RANK: 0 - CUDA_VISIBLE_DEVICES: [0]\n"
     ]
    },
    {
     "name": "stdout",
     "output_type": "stream",
     "text": [
      "Testing DataLoader 0: 100%|██████████| 313/313 [00:10<00:00, 28.94it/s]\n",
      "────────────────────────────────────────────────────────────────────────────────────────────────────────────────────────\n",
      "       Test metric             DataLoader 0\n",
      "────────────────────────────────────────────────────────────────────────────────────────────────────────────────────────\n",
      "      eval_accuracy         0.6047999858856201\n",
      "        eval_loss           1.9387381076812744\n",
      "        hp_metric           0.6047999858856201\n",
      "────────────────────────────────────────────────────────────────────────────────────────────────────────────────────────\n",
      "Baseline Model Results:\n",
      "       Dataset Architecture Optimizer Test Accuracy\n",
      "0  Caltech-101    ResNet-50       SGD         91.81\n",
      "1  Caltech-256    ResNet-50     AdamW         69.48\n",
      "2    CIFAR-100   ResNet-152     AdamW         60.48\n"
     ]
    }
   ],
   "source": [
    "# Evaluate baseline models and create baseline table\n",
    "from library.models.resnet import ResNetModel\n",
    "\n",
    "# Baseline model configurations from the real-world taxonomy notebooks\n",
    "baseline_configs = {\n",
    "    \"Caltech-101\": {\n",
    "        \"checkpoint\": \"resnet50-caltech101-min-val-loss.ckpt\",\n",
    "        \"architecture\": \"ResNet-50\",\n",
    "        \"optimizer\": \"SGD\",\n",
    "        \"learning_rate\": 0.01,\n",
    "        \"dataset_module\": caltech101_dm,  # Use individual dataset module\n",
    "    },\n",
    "    \"Caltech-256\": {\n",
    "        \"checkpoint\": \"resnet50-caltech256-min-val-loss.ckpt\",\n",
    "        \"architecture\": \"ResNet-50\",\n",
    "        \"optimizer\": \"AdamW\",\n",
    "        \"learning_rate\": 0.001,\n",
    "        \"dataset_module\": caltech256_dm,  # Use individual dataset module\n",
    "    },\n",
    "    \"CIFAR-100\": {\n",
    "        \"checkpoint\": \"resnet152-cifar100-min-val-loss.ckpt\",\n",
    "        \"architecture\": \"ResNet-152\",\n",
    "        \"optimizer\": \"AdamW\",\n",
    "        \"learning_rate\": 0.001,\n",
    "        \"dataset_module\": cifar100_original_dm,  # Use original CIFAR-100 dataset module\n",
    "    },\n",
    "}\n",
    "\n",
    "# Evaluate baseline models\n",
    "baseline_results = {}\n",
    "trainer = Trainer(logger=False, enable_checkpointing=False)\n",
    "\n",
    "for dataset_name, config in baseline_configs.items():\n",
    "    print(f\"Evaluating baseline model: {config['checkpoint']}\")\n",
    "\n",
    "    # Load baseline model\n",
    "    baseline_model = ResNetModel.load_from_checkpoint(\n",
    "        f\"checkpoints/{config['checkpoint']}\"\n",
    "    )\n",
    "\n",
    "    # Test on the dataset\n",
    "    test_results = trainer.test(baseline_model, datamodule=config[\"dataset_module\"])\n",
    "    accuracy = test_results[0][\"eval_accuracy\"] * 100  # Convert to percentage\n",
    "\n",
    "    baseline_results[dataset_name] = {\n",
    "        \"Dataset\": dataset_name,\n",
    "        \"Architecture\": config[\"architecture\"],\n",
    "        \"Optimizer\": config[\"optimizer\"],\n",
    "        \"Test Accuracy\": f\"{accuracy:.2f}\",\n",
    "    }\n",
    "\n",
    "# Create baseline models dataframe\n",
    "baseline_df = pd.DataFrame.from_dict(baseline_results, orient=\"index\")\n",
    "baseline_df.reset_index(drop=True, inplace=True)\n",
    "\n",
    "print(\"Baseline Model Results:\")\n",
    "print(baseline_df)\n",
    "\n",
    "# Create LaTeX table for baseline models\n",
    "baseline_latex_table = baseline_df.style.hide(axis=\"index\").to_latex(\n",
    "    caption=\"Baseline ResNet model performance on individual datasets. These single-domain models serve as reference points for evaluating the universal models. Every baseline model was trained for 50 epochs.\",\n",
    "    label=\"tab:baseline_model_results\",\n",
    "    column_format=\"lccc\",\n",
    "    position=\"ht\",\n",
    "    position_float=\"centering\",\n",
    "    hrules=True,\n",
    ")\n",
    "\n",
    "# Save baseline table to file\n",
    "with open(\"../thesis/figures/baseline_model_results.tex\", \"w\") as f:\n",
    "    f.write(baseline_latex_table)\n",
    "\n",
    "# Extract baseline accuracies for use in universal model table\n",
    "caltech101_baseline = float(baseline_results[\"Caltech-101\"][\"Test Accuracy\"])\n",
    "caltech256_baseline = float(baseline_results[\"Caltech-256\"][\"Test Accuracy\"])\n",
    "cifar100_baseline = float(baseline_results[\"CIFAR-100\"][\"Test Accuracy\"])"
   ]
  },
  {
   "cell_type": "code",
   "execution_count": 9,
   "id": "98b2bcab",
   "metadata": {},
   "outputs": [],
   "source": [
    "# Split results into 2-domain and 3-domain models\n",
    "df_2domain = (\n",
    "    df[~df[\"name\"].str.startswith(\"three_domain\")].copy().reset_index(drop=True)\n",
    ")\n",
    "df_3domain = df[df[\"name\"].str.startswith(\"three_domain\")].copy().reset_index(drop=True)\n",
    "\n",
    "# Map taxonomy names to display names for LaTeX export (without domain suffix)\n",
    "name_mapping_2domain = {\n",
    "    \"hypothesis\": \"Hypothesis\",\n",
    "    \"mcfp\": \"MCFP\",\n",
    "    \"mcfp_binary\": \"MCFP Binary\",\n",
    "    \"density_threshold\": \"Density Threshold\",\n",
    "    \"naive_threshold\": \"Naive Threshold\",\n",
    "}\n",
    "\n",
    "name_mapping_3domain = {\n",
    "    \"three_domain_hypothesis\": \"Hypothesis\",\n",
    "    \"three_domain_mcfp\": \"MCFP\",\n",
    "    \"three_domain_mcfp_binary\": \"MCFP Binary\",\n",
    "    \"three_domain_density_threshold\": \"Density Threshold\",\n",
    "    \"three_domain_naive_threshold\": \"Naive Threshold\",\n",
    "}\n",
    "\n",
    "# Process 2-domain models table\n",
    "df_2domain_table = df_2domain.copy()\n",
    "df_2domain_table[\"name\"] = df_2domain_table[\"name\"].map(name_mapping_2domain)\n",
    "df_2domain_table.columns = [\n",
    "    \"Taxonomy\",\n",
    "    \"Caltech-101\",\n",
    "    \"Caltech-256\",\n",
    "    \"CIFAR-100\",\n",
    "    \"Avg\",\n",
    "]\n",
    "\n",
    "# Select only relevant columns for 2-domain (no CIFAR-100)\n",
    "df_2domain_table = df_2domain_table[[\"Taxonomy\", \"Caltech-101\", \"Caltech-256\", \"Avg\"]]\n",
    "\n",
    "# Convert accuracy values to percentages\n",
    "df_2domain_table[\"Avg\"] = (df_2domain_table[\"Avg\"] * 100).round(2)\n",
    "\n",
    "# Store original numeric values for comparison\n",
    "orig_2domain_caltech101 = df_2domain_table[\"Caltech-101\"].values.copy()\n",
    "orig_2domain_caltech256 = df_2domain_table[\"Caltech-256\"].values.copy()\n",
    "orig_2domain_combined = df_2domain_table[\"Avg\"].values.copy()\n",
    "\n",
    "# Convert columns to object type to avoid dtype warnings\n",
    "df_2domain_table[\"Caltech-101\"] = df_2domain_table[\"Caltech-101\"].astype(object)\n",
    "df_2domain_table[\"Caltech-256\"] = df_2domain_table[\"Caltech-256\"].astype(object)\n",
    "df_2domain_table[\"Avg\"] = df_2domain_table[\"Avg\"].astype(object)\n",
    "\n",
    "# Find best values for each column in 2-domain table\n",
    "best_2domain_caltech101_idx = orig_2domain_caltech101.argmax()\n",
    "best_2domain_caltech256_idx = orig_2domain_caltech256.argmax()\n",
    "best_2domain_combined_idx = orig_2domain_combined.argmax()\n",
    "\n",
    "# Add delta values for 2-domain table\n",
    "for i, (idx, row) in enumerate(df_2domain_table.iterrows()):\n",
    "    # Caltech-101 column with delta\n",
    "    acc_101 = orig_2domain_caltech101[i]  # Use array index i instead of DataFrame index\n",
    "    delta_101 = acc_101 * 100 - caltech101_baseline\n",
    "    sign_101 = \"+\" if delta_101 >= 0 else \"\"\n",
    "    result_str = f\"{acc_101 * 100:.2f} ({sign_101}{delta_101:.2f})\"\n",
    "    # Make best result bold\n",
    "    if i == best_2domain_caltech101_idx:\n",
    "        result_str = f\"\\\\textbf{{{result_str}}}\"\n",
    "    df_2domain_table.loc[idx, \"Caltech-101\"] = result_str\n",
    "\n",
    "    # Caltech-256 column with delta\n",
    "    acc_256 = orig_2domain_caltech256[i]  # Use array index i instead of DataFrame index\n",
    "    delta_256 = acc_256 * 100 - caltech256_baseline\n",
    "    sign_256 = \"+\" if delta_256 >= 0 else \"\"\n",
    "    result_str = f\"{acc_256 * 100:.2f} ({sign_256}{delta_256:.2f})\"\n",
    "    # Make best result bold\n",
    "    if i == best_2domain_caltech256_idx:\n",
    "        result_str = f\"\\\\textbf{{{result_str}}}\"\n",
    "    df_2domain_table.loc[idx, \"Caltech-256\"] = result_str\n",
    "\n",
    "    # Format Avg column with bold highlighting for best result\n",
    "    avg_value = orig_2domain_combined[i]  # Use array index i instead of DataFrame index\n",
    "    result_str = f\"{avg_value:.2f}\"\n",
    "    if i == best_2domain_combined_idx:\n",
    "        result_str = f\"\\\\textbf{{{result_str}}}\"\n",
    "    df_2domain_table.loc[idx, \"Avg\"] = result_str\n",
    "\n",
    "# Process 3-domain models table\n",
    "df_3domain_table = df_3domain.copy()\n",
    "df_3domain_table[\"name\"] = df_3domain_table[\"name\"].map(name_mapping_3domain)\n",
    "df_3domain_table.columns = [\n",
    "    \"Taxonomy\",\n",
    "    \"Caltech-101\",\n",
    "    \"Caltech-256\",\n",
    "    \"CIFAR-100\",\n",
    "    \"Avg\",\n",
    "]\n",
    "\n",
    "# Convert accuracy values to percentages\n",
    "df_3domain_table[\"Avg\"] = (df_3domain_table[\"Avg\"] * 100).round(2)\n",
    "\n",
    "# Store original numeric values for comparison\n",
    "orig_3domain_caltech101 = df_3domain_table[\"Caltech-101\"].values.copy()\n",
    "orig_3domain_caltech256 = df_3domain_table[\"Caltech-256\"].values.copy()\n",
    "orig_3domain_cifar100 = df_3domain_table[\"CIFAR-100\"].values.copy()\n",
    "orig_3domain_combined = df_3domain_table[\"Avg\"].values.copy()\n",
    "\n",
    "# Convert columns to object type to avoid dtype warnings\n",
    "df_3domain_table[\"Caltech-101\"] = df_3domain_table[\"Caltech-101\"].astype(object)\n",
    "df_3domain_table[\"Caltech-256\"] = df_3domain_table[\"Caltech-256\"].astype(object)\n",
    "df_3domain_table[\"CIFAR-100\"] = df_3domain_table[\"CIFAR-100\"].astype(object)\n",
    "df_3domain_table[\"Avg\"] = df_3domain_table[\"Avg\"].astype(object)\n",
    "\n",
    "# Find best values for each column in 3-domain table\n",
    "best_3domain_caltech101_idx = orig_3domain_caltech101.argmax()\n",
    "best_3domain_caltech256_idx = orig_3domain_caltech256.argmax()\n",
    "best_3domain_cifar100_idx = orig_3domain_cifar100.argmax()\n",
    "best_3domain_combined_idx = orig_3domain_combined.argmax()\n",
    "\n",
    "# Add delta values for 3-domain table\n",
    "for i, (idx, row) in enumerate(df_3domain_table.iterrows()):\n",
    "    # Caltech-101 column with delta\n",
    "    acc_101 = orig_3domain_caltech101[i]  # Use array index i instead of DataFrame index\n",
    "    delta_101 = acc_101 * 100 - caltech101_baseline\n",
    "    sign_101 = \"+\" if delta_101 >= 0 else \"\"\n",
    "    result_str = f\"{acc_101 * 100:.2f} ({sign_101}{delta_101:.2f})\"\n",
    "    # Make best result bold\n",
    "    if i == best_3domain_caltech101_idx:\n",
    "        result_str = f\"\\\\textbf{{{result_str}}}\"\n",
    "    df_3domain_table.loc[idx, \"Caltech-101\"] = result_str\n",
    "\n",
    "    # Caltech-256 column with delta\n",
    "    acc_256 = orig_3domain_caltech256[i]  # Use array index i instead of DataFrame index\n",
    "    delta_256 = acc_256 * 100 - caltech256_baseline\n",
    "    sign_256 = \"+\" if delta_256 >= 0 else \"\"\n",
    "    result_str = f\"{acc_256 * 100:.2f} ({sign_256}{delta_256:.2f})\"\n",
    "    # Make best result bold\n",
    "    if i == best_3domain_caltech256_idx:\n",
    "        result_str = f\"\\\\textbf{{{result_str}}}\"\n",
    "    df_3domain_table.loc[idx, \"Caltech-256\"] = result_str\n",
    "\n",
    "    # CIFAR-100 column with delta\n",
    "    acc_100 = orig_3domain_cifar100[i]  # Use array index i instead of DataFrame index\n",
    "    delta_100 = acc_100 * 100 - cifar100_baseline\n",
    "    sign_100 = \"+\" if delta_100 >= 0 else \"\"\n",
    "    result_str = f\"{acc_100 * 100:.2f} ({sign_100}{delta_100:.2f})\"\n",
    "    # Make best result bold\n",
    "    if i == best_3domain_cifar100_idx:\n",
    "        result_str = f\"\\\\textbf{{{result_str}}}\"\n",
    "    df_3domain_table.loc[idx, \"CIFAR-100\"] = result_str\n",
    "\n",
    "    # Format Avg column with bold highlighting for best result\n",
    "    avg_value = orig_3domain_combined[i]  # Use array index i instead of DataFrame index\n",
    "    result_str = f\"{avg_value:.2f}\"\n",
    "    if i == best_3domain_combined_idx:\n",
    "        result_str = f\"\\\\textbf{{{result_str}}}\"\n",
    "    df_3domain_table.loc[idx, \"Avg\"] = result_str\n",
    "\n",
    "# Create LaTeX table for 2-domain models\n",
    "latex_table_2domain = df_2domain_table.style.hide(axis=\"index\").to_latex(\n",
    "    caption=\"Universal model evaluation results for two-domain models trained on Caltech-101 + Caltech-256. Models were evaluated on the test sets of the individual domains. Domain accuracy values show performance differences compared to single-domain baseline models (see Table~\\\\ref{tab:baseline_model_results}). Best results per column are shown in bold. All accuracy values are shown as percentages. Density Threshold models use parameter 0.6, Naive Threshold models use parameter 0.1.\",\n",
    "    label=\"tab:universal_model_results_2domain\",\n",
    "    column_format=\"lccc\",\n",
    "    position=\"ht\",\n",
    "    position_float=\"centering\",\n",
    "    hrules=True,\n",
    ")\n",
    "\n",
    "# Create LaTeX table for 3-domain models\n",
    "latex_table_3domain = df_3domain_table.style.hide(axis=\"index\").to_latex(\n",
    "    caption=\"Universal model evaluation results for three-domain models trained on Caltech-101 + Caltech-256 + CIFAR-100. Models were evaluated on the test sets of the individual domains. Domain accuracy values show performance differences compared to single-domain baseline models (see Table~\\\\ref{tab:baseline_model_results}). Best results per column are shown in bold. All accuracy values are shown as percentages. Density Threshold models use parameter 0.6, Naive Threshold models use parameter 0.1.\",\n",
    "    label=\"tab:universal_model_results_3domain\",\n",
    "    column_format=\"lcccc\",\n",
    "    position=\"ht\",\n",
    "    position_float=\"centering\",\n",
    "    hrules=True,\n",
    ")\n",
    "\n",
    "# Save both tables to separate files\n",
    "with open(\"../thesis/figures/universal_model_results_2domain.tex\", \"w\") as f:\n",
    "    f.write(latex_table_2domain)\n",
    "\n",
    "with open(\"../thesis/figures/universal_model_results_3domain.tex\", \"w\") as f:\n",
    "    f.write(latex_table_3domain)"
   ]
  },
  {
   "cell_type": "code",
   "execution_count": 10,
   "id": "170ab1dd",
   "metadata": {},
   "outputs": [
    {
     "name": "stderr",
     "output_type": "stream",
     "text": [
      "/tmp/ipykernel_3170/4253042122.py:125: UserWarning: FigureCanvasPgf is non-interactive, and thus cannot be shown\n",
      "  plt.show()\n"
     ]
    }
   ],
   "source": [
    "from csv import DictReader\n",
    "import matplotlib\n",
    "\n",
    "matplotlib.use(\"pgf\")\n",
    "import matplotlib.pyplot as plt\n",
    "\n",
    "# LaTeX settings\n",
    "plt.rcParams.update(\n",
    "    {\n",
    "        \"text.usetex\": True,\n",
    "        \"font.family\": \"EB Garamond\",\n",
    "        \"font.size\": 11,\n",
    "        \"pgf.texsystem\": \"lualatex\",\n",
    "    }\n",
    ")\n",
    "\n",
    "# Create subplot with 10 plots, one for each taxonomy (2x5 grid)\n",
    "fig, axes = plt.subplots(2, 5, figsize=(25, 10))\n",
    "\n",
    "# Configuration for all ten taxonomies\n",
    "taxonomy_configs = [\n",
    "    {\n",
    "        \"name\": \"hypothesis\",\n",
    "        \"title\": \"Hypothesis Taxonomy (2 Domains)\",\n",
    "        \"file_prefix\": \"universal_hypothesis_multi_domain\",\n",
    "    },\n",
    "    {\n",
    "        \"name\": \"mcfp\",\n",
    "        \"title\": \"MCFP Taxonomy (2 Domains)\",\n",
    "        \"file_prefix\": \"universal_mcfp_multi_domain\",\n",
    "    },\n",
    "    {\n",
    "        \"name\": \"mcfp_binary\",\n",
    "        \"title\": \"MCFP Binary Taxonomy (2 Domains)\",\n",
    "        \"file_prefix\": \"universal_mcfp_binary_multi_domain\",\n",
    "    },\n",
    "    {\n",
    "        \"name\": \"density_threshold\",\n",
    "        \"title\": \"Density Threshold Taxonomy (2 Domains)\",\n",
    "        \"file_prefix\": \"universal_density_threshold_multi_domain\",\n",
    "    },\n",
    "    {\n",
    "        \"name\": \"naive_threshold\",\n",
    "        \"title\": \"Naive Threshold Taxonomy (2 Domains)\",\n",
    "        \"file_prefix\": \"universal_naive_threshold_multi_domain\",\n",
    "    },\n",
    "    {\n",
    "        \"name\": \"three_domain_hypothesis\",\n",
    "        \"title\": \"Hypothesis Taxonomy (3 Domains)\",\n",
    "        \"file_prefix\": \"universal_three_domain_hypothesis\",\n",
    "    },\n",
    "    {\n",
    "        \"name\": \"three_domain_mcfp\",\n",
    "        \"title\": \"MCFP Taxonomy (3 Domains)\",\n",
    "        \"file_prefix\": \"universal_three_domain_mcfp\",\n",
    "    },\n",
    "    {\n",
    "        \"name\": \"three_domain_mcfp_binary\",\n",
    "        \"title\": \"MCFP Binary Taxonomy (3 Domains)\",\n",
    "        \"file_prefix\": \"universal_three_domain_mcfp_binary\",\n",
    "    },\n",
    "    {\n",
    "        \"name\": \"three_domain_density_threshold\",\n",
    "        \"title\": \"Density Threshold Taxonomy (3 Domains)\",\n",
    "        \"file_prefix\": \"universal_three_domain_density_threshold\",\n",
    "    },\n",
    "    {\n",
    "        \"name\": \"three_domain_naive_threshold\",\n",
    "        \"title\": \"Naive Threshold Taxonomy (3 Domains)\",\n",
    "        \"file_prefix\": \"universal_three_domain_naive_threshold\",\n",
    "    },\n",
    "]\n",
    "\n",
    "# Plot training curves for each taxonomy\n",
    "for idx, config in enumerate(taxonomy_configs):\n",
    "    row = idx // 5\n",
    "    col = idx % 5\n",
    "    ax = axes[row, col]\n",
    "\n",
    "    try:\n",
    "        # Load training data\n",
    "        with open(f\"training_results/{config['file_prefix']}_train.csv\", \"r\") as f:\n",
    "            reader = DictReader(f)\n",
    "            steps_train = []\n",
    "            train = []\n",
    "            for row_data in reader:\n",
    "                steps_train.append(int(row_data[\"Step\"]))\n",
    "                train.append(float(row_data[\"Value\"]))\n",
    "\n",
    "        # Load validation data\n",
    "        with open(f\"training_results/{config['file_prefix']}_val.csv\", \"r\") as f:\n",
    "            reader = DictReader(f)\n",
    "            steps_val = []\n",
    "            val = []\n",
    "            for row_data in reader:\n",
    "                steps_val.append(int(row_data[\"Step\"]))\n",
    "                val.append(float(row_data[\"Value\"]))\n",
    "\n",
    "        # Plot training and validation curves\n",
    "        ax.plot(steps_train, train, label=\"Train\", color=\"blue\")\n",
    "        ax.plot(steps_val, val, label=\"Validation\", color=\"red\")\n",
    "\n",
    "    except FileNotFoundError:\n",
    "        # If training files don't exist, show a placeholder\n",
    "        ax.text(\n",
    "            0.5,\n",
    "            0.5,\n",
    "            f\"Training data\\nnot available\",\n",
    "            ha=\"center\",\n",
    "            va=\"center\",\n",
    "            transform=ax.transAxes,\n",
    "            bbox=dict(boxstyle=\"round,pad=0.3\", facecolor=\"lightgray\"),\n",
    "        )\n",
    "\n",
    "    ax.set_xlabel(\"Steps\")\n",
    "    ax.set_ylabel(\"Accuracy\")\n",
    "    ax.set_title(config[\"title\"], fontsize=9)\n",
    "    ax.legend()\n",
    "    ax.grid(True, alpha=0.3)\n",
    "\n",
    "plt.tight_layout()\n",
    "plt.savefig(\n",
    "    \"../thesis/figures/universal_model_training_curves.pgf\", bbox_inches=\"tight\"\n",
    ")\n",
    "plt.show()"
   ]
  }
 ],
 "metadata": {
  "kernelspec": {
   "display_name": "master-thesis",
   "language": "python",
   "name": "python3"
  },
  "language_info": {
   "codemirror_mode": {
    "name": "ipython",
    "version": 3
   },
   "file_extension": ".py",
   "mimetype": "text/x-python",
   "name": "python",
   "nbconvert_exporter": "python",
   "pygments_lexer": "ipython3",
   "version": "3.13.2"
  }
 },
 "nbformat": 4,
 "nbformat_minor": 5
}
