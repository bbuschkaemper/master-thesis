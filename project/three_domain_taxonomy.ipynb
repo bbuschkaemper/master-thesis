{
 "cells": [
  {
   "cell_type": "code",
   "execution_count": null,
   "id": "5a89cd09",
   "metadata": {},
   "outputs": [
    {
     "name": "stdout",
     "output_type": "stream",
     "text": [
      "Caltech-256 classes: 257\n",
      "Caltech-101 classes: 101\n",
      "CIFAR-100 classes: 100\n"
     ]
    }
   ],
   "source": [
    "import pandas as pd\n",
    "import numpy as np\n",
    "import torch\n",
    "from torchvision.datasets import Caltech256, Caltech101, CIFAR100\n",
    "from lightning.pytorch.callbacks import ModelCheckpoint\n",
    "from lightning.pytorch import Trainer\n",
    "from lightning.pytorch import loggers as pl_loggers\n",
    "\n",
    "from library.taxonomy_constructors import CrossPredictionsTaxonomy\n",
    "from library.models.resnet import ResNetModel, _Architecture\n",
    "from library.datasets.caltech256 import Caltech256DataModule\n",
    "from library.datasets.caltech101 import Caltech101DataModule\n",
    "from library.datasets.cifar100 import CIFAR100DataModule\n",
    "\n",
    "# Load dataset information\n",
    "caltech256_labels = Caltech256(root=\"datasets/caltech256\", download=False).categories\n",
    "caltech101_labels = Caltech101(root=\"datasets/caltech101\", download=False).categories\n",
    "cifar100_labels = CIFAR100(\n",
    "    root=\"datasets/cifar100\", download=False, train=False\n",
    ").classes\n",
    "\n",
    "print(f\"Caltech-256 classes: {len(caltech256_labels)}\")\n",
    "print(f\"Caltech-101 classes: {len(caltech101_labels)}\")\n",
    "print(f\"CIFAR-100 classes: {len(cifar100_labels)}\")\n",
    "\n",
    "# Reduce the precision of matrix multiplication to speed up training\n",
    "torch.set_float32_matmul_precision(\"medium\")"
   ]
  },
  {
   "cell_type": "code",
   "execution_count": 2,
   "id": "483cfca0",
   "metadata": {},
   "outputs": [],
   "source": [
    "# Configuration\n",
    "TRAIN = False  # Set to True to train models from scratch\n",
    "\n",
    "\n",
    "def train_dataset_model(\n",
    "    dataset_module,\n",
    "    dataset_name,\n",
    "    logger_name,\n",
    "    model_name,\n",
    "    num_classes,\n",
    "    training_config,\n",
    "    architecture: _Architecture = \"resnet50\",\n",
    "):\n",
    "    \"\"\"Train a ResNet model for a specific dataset\"\"\"\n",
    "    tb_logger = pl_loggers.TensorBoardLogger(save_dir=\"logs\", name=logger_name)\n",
    "\n",
    "    trainer = Trainer(\n",
    "        max_epochs=training_config[\"max_epochs\"],\n",
    "        logger=tb_logger if TRAIN else False,\n",
    "        callbacks=[\n",
    "            ModelCheckpoint(\n",
    "                dirpath=\"checkpoints\",\n",
    "                monitor=\"val_loss\",\n",
    "                mode=\"min\",\n",
    "                save_top_k=1,\n",
    "                filename=model_name,\n",
    "                enable_version_counter=False,\n",
    "            )\n",
    "        ],\n",
    "    )\n",
    "\n",
    "    if TRAIN:\n",
    "        model = ResNetModel(\n",
    "            num_classes=num_classes,\n",
    "            architecture=architecture,\n",
    "            optim=training_config[\"optim\"],\n",
    "            optim_kwargs=training_config[\"optim_kwargs\"],\n",
    "        )\n",
    "        trainer.fit(model, datamodule=dataset_module)\n",
    "        results = trainer.test(datamodule=dataset_module, ckpt_path=\"best\")\n",
    "    else:\n",
    "        model = ResNetModel.load_from_checkpoint(f\"checkpoints/{model_name}.ckpt\")\n",
    "        results = trainer.test(model, datamodule=dataset_module)\n",
    "\n",
    "    return results"
   ]
  },
  {
   "cell_type": "code",
   "execution_count": 3,
   "id": "bbb9bf24",
   "metadata": {},
   "outputs": [
    {
     "name": "stderr",
     "output_type": "stream",
     "text": [
      "GPU available: True (cuda), used: True\n",
      "TPU available: False, using: 0 TPU cores\n",
      "HPU available: False, using: 0 HPUs\n",
      "TPU available: False, using: 0 TPU cores\n",
      "HPU available: False, using: 0 HPUs\n",
      "LOCAL_RANK: 0 - CUDA_VISIBLE_DEVICES: [0]\n",
      "LOCAL_RANK: 0 - CUDA_VISIBLE_DEVICES: [0]\n",
      "/home/bjoern/miniconda3/envs/master-thesis/lib/python3.13/site-packages/lightning/pytorch/trainer/connectors/data_connector.py:425: The 'test_dataloader' does not have many workers which may be a bottleneck. Consider increasing the value of the `num_workers` argument` to `num_workers=11` in the `DataLoader` to improve performance.\n",
      "/home/bjoern/miniconda3/envs/master-thesis/lib/python3.13/site-packages/lightning/pytorch/trainer/connectors/data_connector.py:425: The 'test_dataloader' does not have many workers which may be a bottleneck. Consider increasing the value of the `num_workers` argument` to `num_workers=11` in the `DataLoader` to improve performance.\n"
     ]
    },
    {
     "name": "stdout",
     "output_type": "stream",
     "text": [
      "Testing DataLoader 0: 100%|██████████| 48/48 [00:23<00:00,  2.06it/s]\n",
      "────────────────────────────────────────────────────────────────────────────────────────────────────────────────────────\n",
      "       Test metric             DataLoader 0\n",
      "────────────────────────────────────────────────────────────────────────────────────────────────────────────────────────\n",
      "      eval_accuracy         0.6996731758117676\n",
      "        eval_loss           1.6287411451339722\n",
      "        hp_metric           0.6996731758117676\n",
      "────────────────────────────────────────────────────────────────────────────────────────────────────────────────────────\n",
      "Caltech-256 results: [{'eval_loss': 1.6287411451339722, 'eval_accuracy': 0.6996731758117676, 'hp_metric': 0.6996731758117676}]\n",
      "\n",
      "────────────────────────────────────────────────────────────────────────────────────────────────────────────────────────\n",
      "       Test metric             DataLoader 0\n",
      "────────────────────────────────────────────────────────────────────────────────────────────────────────────────────────\n",
      "      eval_accuracy         0.6996731758117676\n",
      "        eval_loss           1.6287411451339722\n",
      "        hp_metric           0.6996731758117676\n",
      "────────────────────────────────────────────────────────────────────────────────────────────────────────────────────────\n",
      "Caltech-256 results: [{'eval_loss': 1.6287411451339722, 'eval_accuracy': 0.6996731758117676, 'hp_metric': 0.6996731758117676}]\n"
     ]
    }
   ],
   "source": [
    "# Train Caltech-256 model\n",
    "caltech256_dataset = Caltech256DataModule()\n",
    "caltech256_config = {\n",
    "    \"max_epochs\": 50,\n",
    "    \"optim\": \"adamw\",\n",
    "    \"optim_kwargs\": {\n",
    "        \"lr\": 0.001,\n",
    "        \"weight_decay\": 0.001,\n",
    "    },\n",
    "    \"addition\": {\n",
    "        # Add learning rate scheduling\n",
    "        \"lr_scheduler\": \"multistep\",\n",
    "        \"lr_scheduler_kwargs\": {\n",
    "            \"milestones\": [20, 50, 80],\n",
    "            \"gamma\": 0.1,\n",
    "        },\n",
    "    },\n",
    "}\n",
    "caltech256_results = train_dataset_model(\n",
    "    caltech256_dataset,\n",
    "    \"Caltech-256\",\n",
    "    \"caltech256_three_domain\",\n",
    "    \"resnet50-caltech256-min-val-loss\",\n",
    "    len(caltech256_labels),\n",
    "    caltech256_config,\n",
    ")\n",
    "print(f\"Caltech-256 results: {caltech256_results}\")"
   ]
  },
  {
   "cell_type": "code",
   "execution_count": 4,
   "id": "b70dd558",
   "metadata": {},
   "outputs": [
    {
     "name": "stderr",
     "output_type": "stream",
     "text": [
      "GPU available: True (cuda), used: True\n",
      "TPU available: False, using: 0 TPU cores\n",
      "HPU available: False, using: 0 HPUs\n",
      "TPU available: False, using: 0 TPU cores\n",
      "HPU available: False, using: 0 HPUs\n",
      "LOCAL_RANK: 0 - CUDA_VISIBLE_DEVICES: [0]\n",
      "LOCAL_RANK: 0 - CUDA_VISIBLE_DEVICES: [0]\n"
     ]
    },
    {
     "name": "stdout",
     "output_type": "stream",
     "text": [
      "Testing DataLoader 0: 100%|██████████| 14/14 [00:03<00:00,  4.01it/s]\n",
      "────────────────────────────────────────────────────────────────────────────────────────────────────────────────────────\n",
      "       Test metric             DataLoader 0\n",
      "────────────────────────────────────────────────────────────────────────────────────────────────────────────────────────\n",
      "      eval_accuracy         0.9169549942016602\n",
      "        eval_loss           0.3228408694267273\n",
      "        hp_metric           0.9169549942016602\n",
      "────────────────────────────────────────────────────────────────────────────────────────────────────────────────────────\n",
      "Caltech-101 results: [{'eval_loss': 0.3228408694267273, 'eval_accuracy': 0.9169549942016602, 'hp_metric': 0.9169549942016602}]\n",
      "\n",
      "────────────────────────────────────────────────────────────────────────────────────────────────────────────────────────\n",
      "       Test metric             DataLoader 0\n",
      "────────────────────────────────────────────────────────────────────────────────────────────────────────────────────────\n",
      "      eval_accuracy         0.9169549942016602\n",
      "        eval_loss           0.3228408694267273\n",
      "        hp_metric           0.9169549942016602\n",
      "────────────────────────────────────────────────────────────────────────────────────────────────────────────────────────\n",
      "Caltech-101 results: [{'eval_loss': 0.3228408694267273, 'eval_accuracy': 0.9169549942016602, 'hp_metric': 0.9169549942016602}]\n"
     ]
    }
   ],
   "source": [
    "# Train Caltech-101 model\n",
    "caltech101_dataset = Caltech101DataModule()\n",
    "caltech101_config = {\n",
    "    \"max_epochs\": 50,\n",
    "    \"optim\": \"sgd\",\n",
    "    \"optim_kwargs\": {\n",
    "        \"lr\": 0.01,\n",
    "        \"momentum\": 0.9,\n",
    "        \"weight_decay\": 5e-4,\n",
    "    },\n",
    "    \"addition\": {\n",
    "        # Add learning rate scheduling\n",
    "        \"lr_scheduler\": \"multistep\",\n",
    "        \"lr_scheduler_kwargs\": {\n",
    "            \"milestones\": [20, 50, 80],\n",
    "            \"gamma\": 0.1,\n",
    "        },\n",
    "    },\n",
    "}\n",
    "caltech101_results = train_dataset_model(\n",
    "    caltech101_dataset,\n",
    "    \"Caltech-101\",\n",
    "    \"caltech101_three_domain\",\n",
    "    \"resnet50-caltech101-min-val-loss\",\n",
    "    len(caltech101_labels),\n",
    "    caltech101_config,\n",
    ")\n",
    "print(f\"Caltech-101 results: {caltech101_results}\")"
   ]
  },
  {
   "cell_type": "code",
   "execution_count": 5,
   "id": "08c07d79",
   "metadata": {},
   "outputs": [
    {
     "name": "stderr",
     "output_type": "stream",
     "text": [
      "GPU available: True (cuda), used: True\n",
      "TPU available: False, using: 0 TPU cores\n",
      "HPU available: False, using: 0 HPUs\n",
      "TPU available: False, using: 0 TPU cores\n",
      "HPU available: False, using: 0 HPUs\n",
      "LOCAL_RANK: 0 - CUDA_VISIBLE_DEVICES: [0]\n",
      "LOCAL_RANK: 0 - CUDA_VISIBLE_DEVICES: [0]\n"
     ]
    },
    {
     "name": "stdout",
     "output_type": "stream",
     "text": [
      "Testing DataLoader 0: 100%|██████████| 40/40 [00:02<00:00, 17.12it/s]\n",
      "────────────────────────────────────────────────────────────────────────────────────────────────────────────────────────\n",
      "       Test metric             DataLoader 0\n",
      "────────────────────────────────────────────────────────────────────────────────────────────────────────────────────────\n",
      "      eval_accuracy         0.6047000288963318\n",
      "        eval_loss           1.9386216402053833\n",
      "        hp_metric           0.6047000288963318\n",
      "────────────────────────────────────────────────────────────────────────────────────────────────────────────────────────\n",
      "\n",
      "────────────────────────────────────────────────────────────────────────────────────────────────────────────────────────\n",
      "       Test metric             DataLoader 0\n",
      "────────────────────────────────────────────────────────────────────────────────────────────────────────────────────────\n",
      "      eval_accuracy         0.6047000288963318\n",
      "        eval_loss           1.9386216402053833\n",
      "        hp_metric           0.6047000288963318\n",
      "────────────────────────────────────────────────────────────────────────────────────────────────────────────────────────\n",
      "CIFAR-100 results: [{'eval_loss': 1.9386216402053833, 'eval_accuracy': 0.6047000288963318, 'hp_metric': 0.6047000288963318}]\n",
      "CIFAR-100 results: [{'eval_loss': 1.9386216402053833, 'eval_accuracy': 0.6047000288963318, 'hp_metric': 0.6047000288963318}]\n"
     ]
    }
   ],
   "source": [
    "# Train CIFAR-100 model\n",
    "cifar100_dataset = CIFAR100DataModule()\n",
    "cifar100_config = {\n",
    "    \"max_epochs\": 50,\n",
    "    \"optim\": \"sgd\",\n",
    "    \"optim_kwargs\": {\n",
    "        \"lr\": 0.01,\n",
    "        \"momentum\": 0.9,\n",
    "        \"weight_decay\": 5e-4,\n",
    "    },\n",
    "    \"addition\": {\n",
    "        # Add learning rate scheduling\n",
    "        \"lr_scheduler\": \"multistep\",\n",
    "        \"lr_scheduler_kwargs\": {\n",
    "            \"milestones\": [20, 50, 80],\n",
    "            \"gamma\": 0.1,\n",
    "        },\n",
    "    },\n",
    "}\n",
    "cifar100_results = train_dataset_model(\n",
    "    cifar100_dataset,\n",
    "    \"CIFAR-100\",\n",
    "    \"cifar100_three_domain\",\n",
    "    \"resnet152-cifar100-min-val-loss\",\n",
    "    len(cifar100_labels),\n",
    "    cifar100_config,\n",
    "    architecture=\"resnet152\",\n",
    ")\n",
    "print(f\"CIFAR-100 results: {cifar100_results}\")"
   ]
  },
  {
   "cell_type": "code",
   "execution_count": 6,
   "id": "177aeb73",
   "metadata": {},
   "outputs": [],
   "source": [
    "# Generate cross-domain predictions\n",
    "PREDICT = False\n",
    "\n",
    "if PREDICT:\n",
    "    # Load trained models\n",
    "    model_caltech256 = ResNetModel.load_from_checkpoint(\n",
    "        \"checkpoints/resnet50-caltech256-min-val-loss.ckpt\"\n",
    "    )\n",
    "    model_caltech256.eval()\n",
    "\n",
    "    model_caltech101 = ResNetModel.load_from_checkpoint(\n",
    "        \"checkpoints/resnet50-caltech101-min-val-loss.ckpt\"\n",
    "    )\n",
    "    model_caltech101.eval()\n",
    "\n",
    "    model_cifar100 = ResNetModel.load_from_checkpoint(\n",
    "        \"checkpoints/resnet152-cifar100-min-val-loss.ckpt\"\n",
    "    )\n",
    "    model_cifar100.eval()\n",
    "\n",
    "    trainer = Trainer(logger=False, enable_checkpointing=False)\n",
    "\n",
    "    # Cross-domain predictions\n",
    "    # Caltech-256 on other domains\n",
    "    caltech256_on_caltech101 = trainer.predict(\n",
    "        model_caltech256, datamodule=caltech101_dataset\n",
    "    )\n",
    "    caltech256_on_cifar100 = trainer.predict(\n",
    "        model_caltech256, datamodule=cifar100_dataset\n",
    "    )\n",
    "\n",
    "    # Caltech-101 on other domains\n",
    "    caltech101_on_caltech256 = trainer.predict(\n",
    "        model_caltech101, datamodule=caltech256_dataset\n",
    "    )\n",
    "    caltech101_on_cifar100 = trainer.predict(\n",
    "        model_caltech101, datamodule=cifar100_dataset\n",
    "    )\n",
    "\n",
    "    # CIFAR-100 on other domains\n",
    "    cifar100_on_caltech256 = trainer.predict(\n",
    "        model_cifar100, datamodule=caltech256_dataset\n",
    "    )\n",
    "    cifar100_on_caltech101 = trainer.predict(\n",
    "        model_cifar100, datamodule=caltech101_dataset\n",
    "    )\n",
    "\n",
    "    # Convert predictions to class indices\n",
    "    predictions_caltech256_on_caltech101 = torch.cat(caltech256_on_caltech101).argmax(dim=1)  # type: ignore\n",
    "    predictions_caltech256_on_cifar100 = torch.cat(caltech256_on_cifar100).argmax(dim=1)  # type: ignore\n",
    "    predictions_caltech101_on_caltech256 = torch.cat(caltech101_on_caltech256).argmax(dim=1)  # type: ignore\n",
    "    predictions_caltech101_on_cifar100 = torch.cat(caltech101_on_cifar100).argmax(dim=1)  # type: ignore\n",
    "    predictions_cifar100_on_caltech256 = torch.cat(cifar100_on_caltech256).argmax(dim=1)  # type: ignore\n",
    "    predictions_cifar100_on_caltech101 = torch.cat(cifar100_on_caltech101).argmax(dim=1)  # type: ignore\n",
    "\n",
    "    # Get ground truth targets\n",
    "    caltech101_targets = torch.cat(\n",
    "        [label for _, label in caltech101_dataset.predict_dataloader()]\n",
    "    )\n",
    "    caltech256_targets = torch.cat(\n",
    "        [label for _, label in caltech256_dataset.predict_dataloader()]\n",
    "    )\n",
    "    cifar100_targets = torch.cat(\n",
    "        [label for _, label in cifar100_dataset.predict_dataloader()]\n",
    "    )\n",
    "\n",
    "    # Save predictions for Caltech-101\n",
    "    pd.DataFrame(\n",
    "        {\n",
    "            \"caltech101\": caltech101_targets,\n",
    "            \"predictions_caltech256_on_caltech101\": predictions_caltech256_on_caltech101,\n",
    "            \"predictions_cifar100_on_caltech101\": predictions_cifar100_on_caltech101,\n",
    "        }\n",
    "    ).to_csv(\"data/three_domain_caltech101_predictions.csv\", index=False)\n",
    "\n",
    "    # Save predictions for Caltech-256\n",
    "    pd.DataFrame(\n",
    "        {\n",
    "            \"caltech256\": caltech256_targets,\n",
    "            \"predictions_caltech101_on_caltech256\": predictions_caltech101_on_caltech256,\n",
    "            \"predictions_cifar100_on_caltech256\": predictions_cifar100_on_caltech256,\n",
    "        }\n",
    "    ).to_csv(\"data/three_domain_caltech256_predictions.csv\", index=False)\n",
    "\n",
    "    # Save predictions for CIFAR-100\n",
    "    pd.DataFrame(\n",
    "        {\n",
    "            \"cifar100\": cifar100_targets,\n",
    "            \"predictions_caltech256_on_cifar100\": predictions_caltech256_on_cifar100,\n",
    "            \"predictions_caltech101_on_cifar100\": predictions_caltech101_on_cifar100,\n",
    "        }\n",
    "    ).to_csv(\"data/three_domain_cifar100_predictions.csv\", index=False)"
   ]
  },
  {
   "cell_type": "code",
   "execution_count": 7,
   "id": "efb16fe8",
   "metadata": {},
   "outputs": [
    {
     "name": "stdout",
     "output_type": "stream",
     "text": [
      "Loaded predictions for 867 Caltech-101 samples\n",
      "Loaded predictions for 3060 Caltech-256 samples\n",
      "Loaded predictions for 10000 CIFAR-100 samples\n"
     ]
    }
   ],
   "source": [
    "# Load prediction results\n",
    "df_caltech101 = pd.read_csv(\"data/three_domain_caltech101_predictions.csv\")\n",
    "df_caltech256 = pd.read_csv(\"data/three_domain_caltech256_predictions.csv\")\n",
    "df_cifar100 = pd.read_csv(\"data/three_domain_cifar100_predictions.csv\")\n",
    "\n",
    "print(f\"Loaded predictions for {len(df_caltech101)} Caltech-101 samples\")\n",
    "print(f\"Loaded predictions for {len(df_caltech256)} Caltech-256 samples\")\n",
    "print(f\"Loaded predictions for {len(df_cifar100)} CIFAR-100 samples\")"
   ]
  },
  {
   "cell_type": "code",
   "execution_count": 8,
   "id": "2db4fff3",
   "metadata": {},
   "outputs": [
    {
     "name": "stdout",
     "output_type": "stream",
     "text": [
      "Three-domain taxonomy constructed successfully!\n"
     ]
    }
   ],
   "source": [
    "# Construct three-domain taxonomy from cross-domain predictions\n",
    "taxonomy = CrossPredictionsTaxonomy.from_cross_domain_predictions(\n",
    "    cross_domain_predictions=[\n",
    "        # Caltech-101 (domain 0) predictions on other domains\n",
    "        (\n",
    "            0,\n",
    "            1,\n",
    "            np.array(\n",
    "                df_caltech256[\"predictions_caltech101_on_caltech256\"], dtype=np.intp\n",
    "            ),\n",
    "        ),  # Caltech-101 -> Caltech-256\n",
    "        (\n",
    "            0,\n",
    "            2,\n",
    "            np.array(df_cifar100[\"predictions_caltech101_on_cifar100\"], dtype=np.intp),\n",
    "        ),  # Caltech-101 -> CIFAR-100\n",
    "        # Caltech-256 (domain 1) predictions on other domains\n",
    "        (\n",
    "            1,\n",
    "            0,\n",
    "            np.array(\n",
    "                df_caltech101[\"predictions_caltech256_on_caltech101\"], dtype=np.intp\n",
    "            ),\n",
    "        ),  # Caltech-256 -> Caltech-101\n",
    "        (\n",
    "            1,\n",
    "            2,\n",
    "            np.array(df_cifar100[\"predictions_caltech256_on_cifar100\"], dtype=np.intp),\n",
    "        ),  # Caltech-256 -> CIFAR-100\n",
    "        # CIFAR-100 (domain 2) predictions on other domains\n",
    "        (\n",
    "            2,\n",
    "            0,\n",
    "            np.array(\n",
    "                df_caltech101[\"predictions_cifar100_on_caltech101\"], dtype=np.intp\n",
    "            ),\n",
    "        ),  # CIFAR-100 -> Caltech-101\n",
    "        (\n",
    "            2,\n",
    "            1,\n",
    "            np.array(\n",
    "                df_caltech256[\"predictions_cifar100_on_caltech256\"], dtype=np.intp\n",
    "            ),\n",
    "        ),  # CIFAR-100 -> Caltech-256\n",
    "    ],\n",
    "    domain_targets=[\n",
    "        (0, np.array(df_caltech101[\"caltech101\"], dtype=np.intp)),\n",
    "        (1, np.array(df_caltech256[\"caltech256\"], dtype=np.intp)),\n",
    "        (2, np.array(df_cifar100[\"cifar100\"], dtype=np.intp)),\n",
    "    ],\n",
    "    domain_labels={0: caltech101_labels, 1: caltech256_labels, 2: cifar100_labels},\n",
    "    relationship_type=\"hypothesis\",\n",
    "    upper_bound=5,\n",
    ")\n",
    "\n",
    "print(\"Three-domain taxonomy constructed successfully!\")"
   ]
  },
  {
   "cell_type": "code",
   "execution_count": 9,
   "id": "1458f91a",
   "metadata": {},
   "outputs": [
    {
     "name": "stdout",
     "output_type": "stream",
     "text": [
      "Three-domain MCFP taxonomy constructed successfully!\n"
     ]
    }
   ],
   "source": [
    "# Construct three-domain MCFP taxonomy from cross-domain predictions\n",
    "mcfp_taxonomy = CrossPredictionsTaxonomy.from_cross_domain_predictions(\n",
    "    cross_domain_predictions=[\n",
    "        # Caltech-101 (domain 0) predictions on other domains\n",
    "        (\n",
    "            0,\n",
    "            1,\n",
    "            np.array(\n",
    "                df_caltech256[\"predictions_caltech101_on_caltech256\"], dtype=np.intp\n",
    "            ),\n",
    "        ),  # Caltech-101 -> Caltech-256\n",
    "        (\n",
    "            0,\n",
    "            2,\n",
    "            np.array(df_cifar100[\"predictions_caltech101_on_cifar100\"], dtype=np.intp),\n",
    "        ),  # Caltech-101 -> CIFAR-100\n",
    "        # Caltech-256 (domain 1) predictions on other domains\n",
    "        (\n",
    "            1,\n",
    "            0,\n",
    "            np.array(\n",
    "                df_caltech101[\"predictions_caltech256_on_caltech101\"], dtype=np.intp\n",
    "            ),\n",
    "        ),  # Caltech-256 -> Caltech-101\n",
    "        (\n",
    "            1,\n",
    "            2,\n",
    "            np.array(df_cifar100[\"predictions_caltech256_on_cifar100\"], dtype=np.intp),\n",
    "        ),  # Caltech-256 -> CIFAR-100\n",
    "        # CIFAR-100 (domain 2) predictions on other domains\n",
    "        (\n",
    "            2,\n",
    "            0,\n",
    "            np.array(\n",
    "                df_caltech101[\"predictions_cifar100_on_caltech101\"], dtype=np.intp\n",
    "            ),\n",
    "        ),  # CIFAR-100 -> Caltech-101\n",
    "        (\n",
    "            2,\n",
    "            1,\n",
    "            np.array(\n",
    "                df_caltech256[\"predictions_cifar100_on_caltech256\"], dtype=np.intp\n",
    "            ),\n",
    "        ),  # CIFAR-100 -> Caltech-256\n",
    "    ],\n",
    "    domain_targets=[\n",
    "        (0, np.array(df_caltech101[\"caltech101\"], dtype=np.intp)),\n",
    "        (1, np.array(df_caltech256[\"caltech256\"], dtype=np.intp)),\n",
    "        (2, np.array(df_cifar100[\"cifar100\"], dtype=np.intp)),\n",
    "    ],\n",
    "    domain_labels={0: caltech101_labels, 1: caltech256_labels, 2: cifar100_labels},\n",
    "    relationship_type=\"mcfp\",\n",
    ")\n",
    "\n",
    "print(\"Three-domain MCFP taxonomy constructed successfully!\")"
   ]
  },
  {
   "cell_type": "code",
   "execution_count": 10,
   "id": "0a0add7a",
   "metadata": {},
   "outputs": [
    {
     "name": "stdout",
     "output_type": "stream",
     "text": [
      "Three-domain MCFP Binary taxonomy constructed successfully!\n"
     ]
    }
   ],
   "source": [
    "# Construct three-domain MCFP Binary taxonomy from cross-domain predictions\n",
    "mcfp_binary_taxonomy = CrossPredictionsTaxonomy.from_cross_domain_predictions(\n",
    "    cross_domain_predictions=[\n",
    "        # Caltech-101 (domain 0) predictions on other domains\n",
    "        (\n",
    "            0,\n",
    "            1,\n",
    "            np.array(\n",
    "                df_caltech256[\"predictions_caltech101_on_caltech256\"], dtype=np.intp\n",
    "            ),\n",
    "        ),  # Caltech-101 -> Caltech-256\n",
    "        (\n",
    "            0,\n",
    "            2,\n",
    "            np.array(df_cifar100[\"predictions_caltech101_on_cifar100\"], dtype=np.intp),\n",
    "        ),  # Caltech-101 -> CIFAR-100\n",
    "        # Caltech-256 (domain 1) predictions on other domains\n",
    "        (\n",
    "            1,\n",
    "            0,\n",
    "            np.array(\n",
    "                df_caltech101[\"predictions_caltech256_on_caltech101\"], dtype=np.intp\n",
    "            ),\n",
    "        ),  # Caltech-256 -> Caltech-101\n",
    "        (\n",
    "            1,\n",
    "            2,\n",
    "            np.array(df_cifar100[\"predictions_caltech256_on_cifar100\"], dtype=np.intp),\n",
    "        ),  # Caltech-256 -> CIFAR-100\n",
    "        # CIFAR-100 (domain 2) predictions on other domains\n",
    "        (\n",
    "            2,\n",
    "            0,\n",
    "            np.array(\n",
    "                df_caltech101[\"predictions_cifar100_on_caltech101\"], dtype=np.intp\n",
    "            ),\n",
    "        ),  # CIFAR-100 -> Caltech-101\n",
    "        (\n",
    "            2,\n",
    "            1,\n",
    "            np.array(\n",
    "                df_caltech256[\"predictions_cifar100_on_caltech256\"], dtype=np.intp\n",
    "            ),\n",
    "        ),  # CIFAR-100 -> Caltech-256\n",
    "    ],\n",
    "    domain_targets=[\n",
    "        (0, np.array(df_caltech101[\"caltech101\"], dtype=np.intp)),\n",
    "        (1, np.array(df_caltech256[\"caltech256\"], dtype=np.intp)),\n",
    "        (2, np.array(df_cifar100[\"cifar100\"], dtype=np.intp)),\n",
    "    ],\n",
    "    domain_labels={0: caltech101_labels, 1: caltech256_labels, 2: cifar100_labels},\n",
    "    relationship_type=\"mcfp_binary\",\n",
    ")\n",
    "\n",
    "print(\"Three-domain MCFP Binary taxonomy constructed successfully!\")"
   ]
  },
  {
   "cell_type": "code",
   "execution_count": 11,
   "id": "a752948d",
   "metadata": {},
   "outputs": [
    {
     "name": "stdout",
     "output_type": "stream",
     "text": [
      "MCFP Binary taxonomy visualization saved to output/three_domain_mcfp_binary_taxonomy.html\n"
     ]
    }
   ],
   "source": [
    "# Generate and save MCFP Binary taxonomy visualizations\n",
    "mcfp_binary_taxonomy.visualize_graph(\n",
    "    \"Three-Domain MCFP Binary Taxonomy: Caltech-256, Caltech-101, and CIFAR-100\"\n",
    ").save_graph(\"output/three_domain_mcfp_binary_taxonomy.html\")\n",
    "\n",
    "print(\n",
    "    \"MCFP Binary taxonomy visualization saved to output/three_domain_mcfp_binary_taxonomy.html\"\n",
    ")"
   ]
  },
  {
   "cell_type": "code",
   "execution_count": 12,
   "id": "6594f9e5",
   "metadata": {},
   "outputs": [
    {
     "name": "stdout",
     "output_type": "stream",
     "text": [
      "MCFP Binary universal taxonomy built and saved!\n"
     ]
    }
   ],
   "source": [
    "# Build MCFP Binary universal taxonomy\n",
    "mcfp_binary_taxonomy.build_universal_taxonomy()\n",
    "mcfp_binary_taxonomy.visualize_graph(\n",
    "    \"Three-Domain MCFP Binary Universal Taxonomy: Caltech-256, Caltech-101, and CIFAR-100\"\n",
    ").save_graph(\"output/three_domain_mcfp_binary_universal_taxonomy.html\")\n",
    "\n",
    "# Save the MCFP Binary taxonomy\n",
    "mcfp_binary_taxonomy.save(\"taxonomies/three_domain_mcfp_binary.pkl\")\n",
    "\n",
    "print(\"MCFP Binary universal taxonomy built and saved!\")"
   ]
  },
  {
   "cell_type": "code",
   "execution_count": 13,
   "id": "2f2acb1e",
   "metadata": {},
   "outputs": [
    {
     "name": "stdout",
     "output_type": "stream",
     "text": [
      "MCFP taxonomy visualization saved to output/three_domain_mcfp_taxonomy.html\n"
     ]
    }
   ],
   "source": [
    "# Generate and save MCFP taxonomy visualizations\n",
    "mcfp_taxonomy.visualize_graph(\n",
    "    \"Three-Domain MCFP Taxonomy: Caltech-256, Caltech-101, and CIFAR-100\"\n",
    ").save_graph(\"output/three_domain_mcfp_taxonomy.html\")\n",
    "\n",
    "print(\"MCFP taxonomy visualization saved to output/three_domain_mcfp_taxonomy.html\")"
   ]
  },
  {
   "cell_type": "code",
   "execution_count": 14,
   "id": "e4bdeccf",
   "metadata": {},
   "outputs": [
    {
     "name": "stdout",
     "output_type": "stream",
     "text": [
      "MCFP universal taxonomy built and saved!\n"
     ]
    }
   ],
   "source": [
    "# Build MCFP universal taxonomy\n",
    "mcfp_taxonomy.build_universal_taxonomy()\n",
    "mcfp_taxonomy.visualize_graph(\n",
    "    \"Three-Domain MCFP Universal Taxonomy: Caltech-256, Caltech-101, and CIFAR-100\"\n",
    ").save_graph(\"output/three_domain_mcfp_universal_taxonomy.html\")\n",
    "\n",
    "# Save the MCFP taxonomy\n",
    "mcfp_taxonomy.save(\"taxonomies/three_domain_mcfp.pkl\")\n",
    "\n",
    "print(\"MCFP universal taxonomy built and saved!\")"
   ]
  },
  {
   "cell_type": "code",
   "execution_count": 15,
   "id": "dfab919e",
   "metadata": {},
   "outputs": [
    {
     "name": "stdout",
     "output_type": "stream",
     "text": [
      "Taxonomy visualization saved to output/three_domain_taxonomy.html\n"
     ]
    }
   ],
   "source": [
    "# Generate and save taxonomy visualizations\n",
    "taxonomy.visualize_graph(\n",
    "    \"Three-Domain Taxonomy: Caltech-256, Caltech-101, and CIFAR-100\"\n",
    ").save_graph(\"output/three_domain_taxonomy.html\")\n",
    "\n",
    "print(\"Taxonomy visualization saved to output/three_domain_taxonomy.html\")"
   ]
  },
  {
   "cell_type": "code",
   "execution_count": null,
   "id": "67e43867",
   "metadata": {},
   "outputs": [
    {
     "name": "stdout",
     "output_type": "stream",
     "text": [
      "Universal taxonomy built and saved!\n"
     ]
    }
   ],
   "source": [
    "# Build universal taxonomy\n",
    "taxonomy.build_universal_taxonomy()\n",
    "taxonomy.visualize_graph(\n",
    "    \"Three-Domain Universal Taxonomy: Caltech-256, Caltech-101, and CIFAR-100\"\n",
    ").save_graph(\"output/three_domain_universal_taxonomy.html\")\n",
    "\n",
    "# Save the taxonomymcfpmcfmcfpdasssdassd\n",
    "taxonomy.save(\"taxonomies/three_domain_hypothesis.pkl\")\n",
    "\n",
    "print(\"Universal taxonomy built and saved!\")"
   ]
  }
 ],
 "metadata": {
  "kernelspec": {
   "display_name": "master-thesis",
   "language": "python",
   "name": "python3"
  },
  "language_info": {
   "codemirror_mode": {
    "name": "ipython",
    "version": 3
   },
   "file_extension": ".py",
   "mimetype": "text/x-python",
   "name": "python",
   "nbconvert_exporter": "python",
   "pygments_lexer": "ipython3",
   "version": "3.13.2"
  }
 },
 "nbformat": 4,
 "nbformat_minor": 5
}
