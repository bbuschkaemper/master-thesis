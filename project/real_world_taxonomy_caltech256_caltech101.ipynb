{
 "cells": [
  {
   "cell_type": "code",
   "execution_count": 1,
   "id": "2fd98b81",
   "metadata": {},
   "outputs": [
    {
     "name": "stdout",
     "output_type": "stream",
     "text": [
      "Caltech-256 classes: 257\n",
      "Caltech-101 classes: 101\n"
     ]
    }
   ],
   "source": [
    "import pandas as pd\n",
    "import numpy as np\n",
    "import torch\n",
    "from torchvision.datasets import Caltech256, Caltech101\n",
    "from lightning.pytorch.callbacks import ModelCheckpoint\n",
    "from lightning.pytorch import Trainer\n",
    "from lightning.pytorch import loggers as pl_loggers\n",
    "\n",
    "from library.taxonomy_constructors import CrossPredictionsTaxonomy\n",
    "from library.models import ResNetModel\n",
    "from library.datasets import Caltech256DataModule, Caltech101DataModule\n",
    "\n",
    "# Load dataset information\n",
    "caltech256_labels = Caltech256(root=\"datasets/caltech256\", download=False).categories\n",
    "caltech101_labels = Caltech101(root=\"datasets/caltech101\", download=False).categories\n",
    "\n",
    "print(f\"Caltech-256 classes: {len(caltech256_labels)}\")\n",
    "print(f\"Caltech-101 classes: {len(caltech101_labels)}\")\n",
    "\n",
    "# Reduce the precision of matrix multiplication to speed up training\n",
    "torch.set_float32_matmul_precision(\"medium\")"
   ]
  },
  {
   "cell_type": "code",
   "execution_count": 2,
   "id": "97798737",
   "metadata": {},
   "outputs": [],
   "source": [
    "# Configuration\n",
    "TRAIN = False  # Set to True to train models from scratch\n",
    "\n",
    "\n",
    "def train_dataset_model(\n",
    "    dataset_module, dataset_name, logger_name, model_name, num_classes, training_config\n",
    "):\n",
    "    \"\"\"Train a ResNet model for a specific dataset\"\"\"\n",
    "    tb_logger = pl_loggers.TensorBoardLogger(save_dir=\"logs\", name=logger_name)\n",
    "\n",
    "    trainer = Trainer(\n",
    "        max_epochs=training_config[\"max_epochs\"],\n",
    "        logger=tb_logger if TRAIN else False,\n",
    "        callbacks=[\n",
    "            ModelCheckpoint(\n",
    "                dirpath=\"checkpoints\",\n",
    "                monitor=\"val_loss\",\n",
    "                mode=\"min\",\n",
    "                save_top_k=1,\n",
    "                filename=model_name,\n",
    "                enable_version_counter=False,\n",
    "            )\n",
    "        ],\n",
    "    )\n",
    "\n",
    "    if TRAIN:\n",
    "        model = ResNetModel(\n",
    "            num_classes=num_classes,\n",
    "            architecture=\"resnet50\",\n",
    "            optim=training_config[\"optim\"],\n",
    "            optim_kwargs=training_config[\"optim_kwargs\"],\n",
    "        )\n",
    "        trainer.fit(model, datamodule=dataset_module)\n",
    "        results = trainer.test(datamodule=dataset_module, ckpt_path=\"best\")\n",
    "    else:\n",
    "        model = ResNetModel.load_from_checkpoint(f\"checkpoints/{model_name}.ckpt\")\n",
    "        results = trainer.test(model, datamodule=dataset_module)\n",
    "\n",
    "    return results"
   ]
  },
  {
   "cell_type": "code",
   "execution_count": 3,
   "id": "f8bf4185",
   "metadata": {},
   "outputs": [
    {
     "name": "stderr",
     "output_type": "stream",
     "text": [
      "GPU available: True (cuda), used: True\n",
      "TPU available: False, using: 0 TPU cores\n",
      "HPU available: False, using: 0 HPUs\n",
      "LOCAL_RANK: 0 - CUDA_VISIBLE_DEVICES: [0]\n",
      "/home/bjoern/miniconda3/envs/master-thesis/lib/python3.13/site-packages/lightning/pytorch/trainer/connectors/data_connector.py:425: The 'test_dataloader' does not have many workers which may be a bottleneck. Consider increasing the value of the `num_workers` argument` to `num_workers=11` in the `DataLoader` to improve performance.\n"
     ]
    },
    {
     "name": "stdout",
     "output_type": "stream",
     "text": [
      "Testing DataLoader 0: 100%|██████████| 48/48 [00:14<00:00,  3.35it/s]\n",
      "────────────────────────────────────────────────────────────────────────────────────────────────────────────────────────\n",
      "       Test metric             DataLoader 0\n",
      "────────────────────────────────────────────────────────────────────────────────────────────────────────────────────────\n",
      "      eval_accuracy         0.6964052319526672\n",
      "        eval_loss            1.452818751335144\n",
      "        hp_metric           0.6964052319526672\n",
      "────────────────────────────────────────────────────────────────────────────────────────────────────────────────────────\n"
     ]
    }
   ],
   "source": [
    "caltech256_dataset = Caltech256DataModule()\n",
    "caltech256_config = {\n",
    "    \"max_epochs\": 100,\n",
    "    \"optim\": \"adamw\",\n",
    "    \"optim_kwargs\": {\n",
    "        \"lr\": 0.001,\n",
    "        \"weight_decay\": 0.001,\n",
    "    },\n",
    "    \"addition\": {\n",
    "        # Add learning rate scheduling\n",
    "        \"lr_scheduler\": \"multistep\",\n",
    "        \"lr_scheduler_kwargs\": {\n",
    "            \"milestones\": [20, 50, 80],\n",
    "            \"gamma\": 0.1,\n",
    "        },\n",
    "    },\n",
    "}\n",
    "caltech256_results = train_dataset_model(\n",
    "    caltech256_dataset,\n",
    "    \"Caltech-256\",\n",
    "    \"caltech256_real\",\n",
    "    \"resnet50-caltech256-min-val-loss\",\n",
    "    len(caltech256_labels),\n",
    "    caltech256_config,\n",
    ")"
   ]
  },
  {
   "cell_type": "code",
   "execution_count": 4,
   "id": "6874d920",
   "metadata": {},
   "outputs": [
    {
     "name": "stderr",
     "output_type": "stream",
     "text": [
      "GPU available: True (cuda), used: True\n",
      "TPU available: False, using: 0 TPU cores\n",
      "HPU available: False, using: 0 HPUs\n"
     ]
    },
    {
     "name": "stderr",
     "output_type": "stream",
     "text": [
      "LOCAL_RANK: 0 - CUDA_VISIBLE_DEVICES: [0]\n"
     ]
    },
    {
     "name": "stdout",
     "output_type": "stream",
     "text": [
      "Testing DataLoader 0: 100%|██████████| 14/14 [00:03<00:00,  4.57it/s]\n",
      "────────────────────────────────────────────────────────────────────────────────────────────────────────────────────────\n",
      "       Test metric             DataLoader 0\n",
      "────────────────────────────────────────────────────────────────────────────────────────────────────────────────────────\n",
      "      eval_accuracy         0.9146482348442078\n",
      "        eval_loss           0.3319704532623291\n",
      "        hp_metric           0.9146482348442078\n",
      "────────────────────────────────────────────────────────────────────────────────────────────────────────────────────────\n"
     ]
    }
   ],
   "source": [
    "TRAIN = False\n",
    "\n",
    "caltech101_dataset = Caltech101DataModule()\n",
    "caltech101_config = {\n",
    "    \"max_epochs\": 50,\n",
    "    \"optim\": \"sgd\",\n",
    "    \"optim_kwargs\": {\n",
    "        \"lr\": 0.01,\n",
    "        \"momentum\": 0.9,\n",
    "        \"weight_decay\": 5e-4,\n",
    "    },\n",
    "}\n",
    "caltech101_results = train_dataset_model(\n",
    "    caltech101_dataset,\n",
    "    \"Caltech-101\",\n",
    "    \"caltech101_real\",\n",
    "    \"resnet50-caltech101-min-val-loss\",\n",
    "    len(caltech101_labels),\n",
    "    caltech101_config,\n",
    ")"
   ]
  },
  {
   "cell_type": "code",
   "execution_count": 5,
   "id": "00ae2b3e",
   "metadata": {},
   "outputs": [],
   "source": [
    "PREDICT = False\n",
    "\n",
    "if PREDICT:\n",
    "    # Load trained models\n",
    "    model_caltech256 = ResNetModel.load_from_checkpoint(\n",
    "        \"checkpoints/resnet50-caltech256-min-val-loss.ckpt\"\n",
    "    )\n",
    "    model_caltech256.eval()\n",
    "\n",
    "    model_caltech101 = ResNetModel.load_from_checkpoint(\n",
    "        \"checkpoints/resnet50-caltech101-min-val-loss.ckpt\"\n",
    "    )\n",
    "    model_caltech101.eval()\n",
    "\n",
    "    trainer = Trainer(logger=False, enable_checkpointing=False)\n",
    "\n",
    "    caltech256_on_caltech101 = trainer.predict(\n",
    "        model_caltech256, datamodule=caltech101_dataset\n",
    "    )\n",
    "\n",
    "    caltech101_on_caltech256 = trainer.predict(\n",
    "        model_caltech101, datamodule=caltech256_dataset\n",
    "    )\n",
    "\n",
    "    # Convert predictions to class indices\n",
    "    predictions_caltech256_on_caltech101 = torch.cat(caltech256_on_caltech101).argmax(dim=1)  # type: ignore\n",
    "    predictions_caltech101_on_caltech256 = torch.cat(caltech101_on_caltech256).argmax(dim=1)  # type: ignore\n",
    "\n",
    "    # Get ground truth targets\n",
    "    caltech101_targets = torch.cat(\n",
    "        [label for _, label in caltech101_dataset.predict_dataloader()]\n",
    "    )\n",
    "    caltech256_targets = torch.cat(\n",
    "        [label for _, label in caltech256_dataset.predict_dataloader()]\n",
    "    )\n",
    "\n",
    "    pd.DataFrame(\n",
    "        {\n",
    "            \"caltech101\": caltech101_targets,\n",
    "            \"predictions_caltech256_on_caltech101\": predictions_caltech256_on_caltech101,\n",
    "        }\n",
    "    ).to_csv(\"data/caltech256_caltech101_caltech101_real_predictions.csv\", index=False)\n",
    "    pd.DataFrame(\n",
    "        {\n",
    "            \"caltech256\": caltech256_targets,\n",
    "            \"predictions_caltech101_on_caltech256\": predictions_caltech101_on_caltech256,\n",
    "        }\n",
    "    ).to_csv(\"data/caltech256_caltech101_caltech256_real_predictions.csv\", index=False)\n",
    "\n",
    "# Load prediction results\n",
    "df_caltech101 = pd.read_csv(\n",
    "    \"data/caltech256_caltech101_caltech101_real_predictions.csv\"\n",
    ")\n",
    "df_caltech256 = pd.read_csv(\n",
    "    \"data/caltech256_caltech101_caltech256_real_predictions.csv\"\n",
    ")"
   ]
  },
  {
   "cell_type": "code",
   "execution_count": 6,
   "id": "3a52bd2a",
   "metadata": {},
   "outputs": [],
   "source": [
    "# Construct taxonomy from cross-domain predictions\n",
    "taxonomy = CrossPredictionsTaxonomy.from_cross_domain_predictions(\n",
    "    cross_domain_predictions=[\n",
    "        (\n",
    "            0,\n",
    "            1,\n",
    "            np.array(\n",
    "                df_caltech256[\"predictions_caltech101_on_caltech256\"], dtype=np.intp\n",
    "            ),\n",
    "        ),  # Caltech-101 -> Caltech-256\n",
    "        (\n",
    "            1,\n",
    "            0,\n",
    "            np.array(\n",
    "                df_caltech101[\"predictions_caltech256_on_caltech101\"], dtype=np.intp\n",
    "            ),\n",
    "        ),  # Caltech-256 -> Caltech-101\n",
    "    ],\n",
    "    domain_targets=[\n",
    "        (0, np.array(df_caltech101[\"caltech101\"], dtype=np.intp)),\n",
    "        (1, np.array(df_caltech256[\"caltech256\"], dtype=np.intp)),\n",
    "    ],\n",
    "    domain_labels={0: caltech101_labels, 1: caltech256_labels},\n",
    "    relationship_type=\"mcfp\",\n",
    "    threshold=0.4,\n",
    ")"
   ]
  },
  {
   "cell_type": "code",
   "execution_count": 7,
   "id": "7d53ce61",
   "metadata": {},
   "outputs": [],
   "source": [
    "# Generate and save taxonomy visualizations\n",
    "taxonomy.visualize_graph(\n",
    "    \"Caltech-256 and Caltech-101 Cross-Domain Taxonomy\"\n",
    ").save_graph(\"output/caltech256_caltech101_real_taxonomy.html\")"
   ]
  },
  {
   "cell_type": "code",
   "execution_count": 8,
   "id": "057f3cc7",
   "metadata": {},
   "outputs": [],
   "source": [
    "# Build universal taxonomy\n",
    "taxonomy.build_universal_taxonomy()\n",
    "taxonomy.visualize_graph(\"Caltech-256 and Caltech-101 Universal Taxonomy\").save_graph(\n",
    "    \"output/caltech256_caltech101_real_universal_taxonomy.html\"\n",
    ")"
   ]
  }
 ],
 "metadata": {
  "kernelspec": {
   "display_name": "master-thesis",
   "language": "python",
   "name": "python3"
  },
  "language_info": {
   "codemirror_mode": {
    "name": "ipython",
    "version": 3
   },
   "file_extension": ".py",
   "mimetype": "text/x-python",
   "name": "python",
   "nbconvert_exporter": "python",
   "pygments_lexer": "ipython3",
   "version": "3.13.2"
  }
 },
 "nbformat": 4,
 "nbformat_minor": 5
}
