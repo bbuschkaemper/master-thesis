{
 "cells": [
  {
   "cell_type": "code",
   "execution_count": 18,
   "id": "fb55aee1",
   "metadata": {},
   "outputs": [
    {
     "name": "stdout",
     "output_type": "stream",
     "text": [
      "Caltech-256 classes: 257\n",
      "CIFAR-100 classes: 100\n"
     ]
    }
   ],
   "source": [
    "import pandas as pd\n",
    "import numpy as np\n",
    "import torch\n",
    "from torchvision.datasets import Caltech256, CIFAR100\n",
    "from lightning.pytorch.callbacks import ModelCheckpoint\n",
    "from lightning.pytorch import Trainer\n",
    "from lightning.pytorch import loggers as pl_loggers\n",
    "\n",
    "from library.taxonomy_constructors import CrossPredictionsTaxonomy\n",
    "from library.models import ResNetModel\n",
    "from library.datasets import Caltech256DataModule, CIFAR100DataModule\n",
    "\n",
    "# Load dataset information\n",
    "caltech256_labels = Caltech256(root=\"datasets/caltech256\", download=False).categories\n",
    "cifar100_labels = CIFAR100(root=\"datasets/cifar100\", train=True, download=False).classes\n",
    "\n",
    "print(f\"Caltech-256 classes: {len(caltech256_labels)}\")\n",
    "print(f\"CIFAR-100 classes: {len(cifar100_labels)}\")\n",
    "\n",
    "# Reduce the precision of matrix multiplication to speed up training\n",
    "torch.set_float32_matmul_precision(\"medium\")"
   ]
  },
  {
   "cell_type": "code",
   "execution_count": 19,
   "id": "0bbdcf63",
   "metadata": {},
   "outputs": [],
   "source": [
    "# Configuration\n",
    "TRAIN = False  # Set to True to train models from scratch\n",
    "\n",
    "\n",
    "def train_dataset_model(\n",
    "    dataset_module, dataset_name, logger_name, model_name, num_classes, training_config\n",
    "):\n",
    "    \"\"\"Train a ResNet model for a specific dataset\"\"\"\n",
    "    tb_logger = pl_loggers.TensorBoardLogger(save_dir=\"logs\", name=logger_name)\n",
    "\n",
    "    trainer = Trainer(\n",
    "        max_epochs=training_config[\"max_epochs\"],\n",
    "        logger=tb_logger if TRAIN else False,\n",
    "        callbacks=[\n",
    "            ModelCheckpoint(\n",
    "                dirpath=\"checkpoints\",\n",
    "                monitor=\"val_loss\",\n",
    "                mode=\"min\",\n",
    "                save_top_k=1,\n",
    "                filename=model_name,\n",
    "                enable_version_counter=False,\n",
    "            )\n",
    "        ],\n",
    "    )\n",
    "\n",
    "    if TRAIN:\n",
    "        model = ResNetModel(\n",
    "            num_classes=num_classes,\n",
    "            architecture=\"resnet50\",\n",
    "            optim=training_config[\"optim\"],\n",
    "            optim_kwargs=training_config[\"optim_kwargs\"],\n",
    "            **training_config[\"addition\"],\n",
    "        )\n",
    "        trainer.fit(model, datamodule=dataset_module)\n",
    "        results = trainer.test(datamodule=dataset_module, ckpt_path=\"best\")\n",
    "    else:\n",
    "        model = ResNetModel.load_from_checkpoint(f\"checkpoints/{model_name}.ckpt\")\n",
    "        results = trainer.test(model, datamodule=dataset_module)\n",
    "\n",
    "    return results"
   ]
  },
  {
   "cell_type": "code",
   "execution_count": 20,
   "id": "ef673765",
   "metadata": {},
   "outputs": [
    {
     "name": "stderr",
     "output_type": "stream",
     "text": [
      "GPU available: True (cuda), used: True\n",
      "TPU available: False, using: 0 TPU cores\n",
      "HPU available: False, using: 0 HPUs\n",
      "LOCAL_RANK: 0 - CUDA_VISIBLE_DEVICES: [0]\n",
      "/home/sentinel/.conda/envs/master-thesis/lib/python3.13/site-packages/lightning/pytorch/trainer/connectors/data_connector.py:425: The 'test_dataloader' does not have many workers which may be a bottleneck. Consider increasing the value of the `num_workers` argument` to `num_workers=11` in the `DataLoader` to improve performance.\n"
     ]
    },
    {
     "name": "stdout",
     "output_type": "stream",
     "text": [
      "Testing DataLoader 0: 100%|██████████| 48/48 [00:12<00:00,  3.97it/s]\n",
      "────────────────────────────────────────────────────────────────────────────────────────────────────────────────────────\n",
      "       Test metric             DataLoader 0\n",
      "────────────────────────────────────────────────────────────────────────────────────────────────────────────────────────\n",
      "      eval_accuracy         0.6928104758262634\n",
      "        eval_loss           1.4151779413223267\n",
      "        hp_metric           0.6928104758262634\n",
      "────────────────────────────────────────────────────────────────────────────────────────────────────────────────────────\n"
     ]
    }
   ],
   "source": [
    "caltech256_dataset = Caltech256DataModule()\n",
    "caltech256_config = {\n",
    "    \"max_epochs\": 50,\n",
    "    \"optim\": \"sgd\",\n",
    "    \"optim_kwargs\": {\n",
    "        \"lr\": 0.01,\n",
    "        \"momentum\": 0.9,\n",
    "        \"weight_decay\": 5e-4,\n",
    "    },\n",
    "    \"addition\": {},\n",
    "}\n",
    "caltech256_results = train_dataset_model(\n",
    "    caltech256_dataset,\n",
    "    \"Caltech-256\",\n",
    "    \"caltech256_real\",\n",
    "    \"resnet50-caltech256-min-val-loss\",\n",
    "    len(caltech256_labels),\n",
    "    caltech256_config,\n",
    ")"
   ]
  },
  {
   "cell_type": "code",
   "execution_count": 21,
   "id": "59f0328d",
   "metadata": {},
   "outputs": [
    {
     "name": "stderr",
     "output_type": "stream",
     "text": [
      "GPU available: True (cuda), used: True\n",
      "TPU available: False, using: 0 TPU cores\n",
      "HPU available: False, using: 0 HPUs\n",
      "LOCAL_RANK: 0 - CUDA_VISIBLE_DEVICES: [0]\n"
     ]
    },
    {
     "name": "stdout",
     "output_type": "stream",
     "text": [
      "Testing DataLoader 0: 100%|██████████| 157/157 [00:03<00:00, 46.11it/s]\n",
      "────────────────────────────────────────────────────────────────────────────────────────────────────────────────────────\n",
      "       Test metric             DataLoader 0\n",
      "────────────────────────────────────────────────────────────────────────────────────────────────────────────────────────\n",
      "      eval_accuracy         0.5600000023841858\n",
      "        eval_loss           1.6364234685897827\n",
      "        hp_metric           0.5600000023841858\n",
      "────────────────────────────────────────────────────────────────────────────────────────────────────────────────────────\n"
     ]
    }
   ],
   "source": [
    "cifar100_dataset = CIFAR100DataModule()\n",
    "cifar100_config = {\n",
    "    \"max_epochs\": 100,\n",
    "    \"optim\": \"adamw\",\n",
    "    \"optim_kwargs\": {\n",
    "        \"lr\": 0.001,\n",
    "        \"weight_decay\": 0.001,\n",
    "    },\n",
    "    \"addition\": {\n",
    "        # Add learning rate scheduling\n",
    "        \"lr_scheduler\": \"multistep\",\n",
    "        \"lr_scheduler_kwargs\": {\n",
    "            \"milestones\": [30, 60, 80],\n",
    "            \"gamma\": 0.1,\n",
    "        },\n",
    "    },\n",
    "}\n",
    "cifar100_results = train_dataset_model(\n",
    "    cifar100_dataset,\n",
    "    \"CIFAR-100\",\n",
    "    \"cifar100_real\",\n",
    "    \"resnet152-cifar100-min-val-loss\",\n",
    "    len(cifar100_labels),\n",
    "    cifar100_config,\n",
    ")"
   ]
  },
  {
   "cell_type": "code",
   "execution_count": 22,
   "id": "b6ab3700",
   "metadata": {},
   "outputs": [],
   "source": [
    "PREDICT = False\n",
    "\n",
    "if PREDICT:\n",
    "    # Load trained models\n",
    "    model_caltech256 = ResNetModel.load_from_checkpoint(\n",
    "        \"checkpoints/resnet50-caltech256-min-val-loss.ckpt\"\n",
    "    )\n",
    "    model_caltech256.eval()\n",
    "\n",
    "    model_cifar100 = ResNetModel.load_from_checkpoint(\n",
    "        \"checkpoints/resnet152-cifar100-min-val-loss.ckpt\"\n",
    "    )\n",
    "    model_cifar100.eval()\n",
    "\n",
    "    trainer = Trainer(logger=False, enable_checkpointing=False)\n",
    "\n",
    "    caltech256_on_cifar100 = trainer.predict(\n",
    "        model_caltech256, datamodule=cifar100_dataset\n",
    "    )\n",
    "\n",
    "    cifar100_on_caltech256 = trainer.predict(\n",
    "        model_cifar100, datamodule=caltech256_dataset\n",
    "    )\n",
    "\n",
    "    # Convert predictions to class indices\n",
    "    predictions_caltech256_on_cifar100 = torch.cat(caltech256_on_cifar100).argmax(dim=1)  # type: ignore\n",
    "    predictions_cifar100_on_caltech256 = torch.cat(cifar100_on_caltech256).argmax(dim=1)  # type: ignore\n",
    "\n",
    "    # Get ground truth targets\n",
    "    cifar100_targets = torch.cat(\n",
    "        [label for _, label in cifar100_dataset.predict_dataloader()]\n",
    "    )\n",
    "    caltech256_targets = torch.cat(\n",
    "        [label for _, label in caltech256_dataset.predict_dataloader()]\n",
    "    )\n",
    "\n",
    "    pd.DataFrame(\n",
    "        {\n",
    "            \"cifar100\": cifar100_targets,\n",
    "            \"predictions_caltech256_on_cifar100\": predictions_caltech256_on_cifar100,\n",
    "        }\n",
    "    ).to_csv(\"data/cifar100_caltech256_cifar100_real_predictions.csv\", index=False)\n",
    "    pd.DataFrame(\n",
    "        {\n",
    "            \"caltech256\": caltech256_targets,\n",
    "            \"predictions_cifar100_on_caltech256\": predictions_cifar100_on_caltech256,\n",
    "        }\n",
    "    ).to_csv(\"data/cifar100_caltech256_caltech256_real_predictions.csv\", index=False)\n",
    "\n",
    "# Load prediction results\n",
    "df_cifar100 = pd.read_csv(\"data/cifar100_caltech256_cifar100_real_predictions.csv\")\n",
    "df_caltech256 = pd.read_csv(\"data/cifar100_caltech256_caltech256_real_predictions.csv\")"
   ]
  },
  {
   "cell_type": "code",
   "execution_count": 23,
   "id": "8a23e810",
   "metadata": {},
   "outputs": [],
   "source": [
    "# Construct taxonomy from cross-domain predictions\n",
    "taxonomy = CrossPredictionsTaxonomy.from_cross_domain_predictions(\n",
    "    cross_domain_predictions=[\n",
    "        (\n",
    "            0,\n",
    "            1,\n",
    "            np.array(\n",
    "                df_caltech256[\"predictions_cifar100_on_caltech256\"], dtype=np.intp\n",
    "            ),\n",
    "        ),  # CIFAR-100 -> Caltech-256\n",
    "        (\n",
    "            1,\n",
    "            0,\n",
    "            np.array(df_cifar100[\"predictions_caltech256_on_cifar100\"], dtype=np.intp),\n",
    "        ),  # Caltech-256 -> CIFAR-100\n",
    "    ],\n",
    "    domain_targets=[\n",
    "        (0, np.array(df_cifar100[\"cifar100\"], dtype=np.intp)),\n",
    "        (1, np.array(df_caltech256[\"caltech256\"], dtype=np.intp)),\n",
    "    ],\n",
    "    domain_labels={0: cifar100_labels, 1: caltech256_labels},\n",
    "    relationship_type=\"mcfp\",\n",
    "    threshold=0.3,\n",
    ")"
   ]
  },
  {
   "cell_type": "code",
   "execution_count": 24,
   "id": "6046d3b6",
   "metadata": {},
   "outputs": [],
   "source": [
    "# Generate and save taxonomy visualizations\n",
    "taxonomy.visualize_graph(\"CIFAR-100 and Caltech-256 Cross-Domain Taxonomy\").save_graph(\n",
    "    \"output/cifar100_caltech256_real_taxonomy.html\"\n",
    ")"
   ]
  },
  {
   "cell_type": "code",
   "execution_count": 25,
   "id": "ec56636c",
   "metadata": {},
   "outputs": [],
   "source": [
    "# Build universal taxonomy\n",
    "taxonomy.build_universal_taxonomy()\n",
    "taxonomy.visualize_graph(\"CIFAR-100 and Caltech-256 Universal Taxonomy\").save_graph(\n",
    "    \"output/cifar100_caltech256_real_universal_taxonomy.html\"\n",
    ")"
   ]
  }
 ],
 "metadata": {
  "kernelspec": {
   "display_name": "master-thesis",
   "language": "python",
   "name": "python3"
  },
  "language_info": {
   "codemirror_mode": {
    "name": "ipython",
    "version": 3
   },
   "file_extension": ".py",
   "mimetype": "text/x-python",
   "name": "python",
   "nbconvert_exporter": "python",
   "pygments_lexer": "ipython3",
   "version": "3.13.2"
  }
 },
 "nbformat": 4,
 "nbformat_minor": 5
}
